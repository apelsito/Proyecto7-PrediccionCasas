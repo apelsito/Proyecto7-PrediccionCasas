{
 "cells": [
  {
   "cell_type": "code",
   "execution_count": null,
   "metadata": {},
   "outputs": [],
   "source": [
    "# Tratamiento de datos\n",
    "# -----------------------------------------------------------------------\n",
    "import numpy as np\n",
    "import pandas as pd\n",
    "\n",
    "# Otros objetivos\n",
    "# -----------------------------------------------------------------------\n",
    "import math\n",
    "\n",
    "# Gráficos\n",
    "# -----------------------------------------------------------------------\n",
    "import seaborn as sns\n",
    "import matplotlib.pyplot as plt\n",
    "import plotly_express as px\n",
    "\n",
    "\n",
    "# Métodos estadísticos\n",
    "# -----------------------------------------------------------------------\n",
    "from scipy.stats import zscore # para calcular el z-score\n",
    "from sklearn.neighbors import LocalOutlierFactor # para detectar outliers usando el método LOF\n",
    "from sklearn.ensemble import IsolationForest # para detectar outliers usando el metodo IF\n",
    "from sklearn.neighbors import NearestNeighbors # para calcular la epsilon\n",
    "from sklearn.impute import KNNImputer\n",
    "# Para generar combinaciones de listas\n",
    "# -----------------------------------------------------------------------\n",
    "from itertools import product , combinations\n",
    "from sklearn.experimental import enable_iterative_imputer  # Necesario para habilitar IterativeImputer\n",
    "from sklearn.impute import IterativeImputer\n",
    "from sklearn.ensemble import RandomForestRegressor\n",
    "\n",
    "# Gestionar warnings\n",
    "# -----------------------------------------------------------------------\n",
    "import warnings\n",
    "warnings.filterwarnings('ignore')\n",
    "import sys\n",
    "sys.path.append(\"../../\")\n",
    "from src.SupportOutliers import (\n",
    "    plot_outliers_univariados,\n",
    "    identificar_outliers_iqr,\n",
    "    identificar_outliers_z,\n",
    "    visualizar_outliers_bivariados,\n",
    "    explorar_outliers_if,\n",
    "    explorar_outliers_lof\n",
    ")"
   ]
  },
  {
   "cell_type": "code",
   "execution_count": null,
   "metadata": {},
   "outputs": [],
   "source": [
    "df = pd.read_csv(\"../../datos/05_rent_featuredscaled.csv\")"
   ]
  },
  {
   "cell_type": "markdown",
   "metadata": {},
   "source": [
    "# Identificación de outliers"
   ]
  },
  {
   "cell_type": "code",
   "execution_count": null,
   "metadata": {},
   "outputs": [],
   "source": [
    "cols_visualizar = [\"status\",\"floor\",\"municipality\",\"hasLift\",\"hasPlan\",\"has3DTour\",\"distancia_centro\"]\n",
    "plot_outliers_univariados(df[cols_visualizar],\"b\",20,(15,15))"
   ]
  },
  {
   "cell_type": "markdown",
   "metadata": {},
   "source": [
    "# Veamoslo en un histplot"
   ]
  },
  {
   "cell_type": "code",
   "execution_count": null,
   "metadata": {},
   "outputs": [],
   "source": [
    "cols_visualizar = [\"status\",\"floor\",\"municipality\",\"hasLift\",\"hasPlan\",\"has3DTour\",\"distancia_centro\"]\n",
    "plot_outliers_univariados(df[cols_visualizar],\"h\",20,(15,15))"
   ]
  },
  {
   "cell_type": "markdown",
   "metadata": {},
   "source": [
    "# Identificar Outliers Multivariados"
   ]
  },
  {
   "cell_type": "code",
   "execution_count": null,
   "metadata": {},
   "outputs": [],
   "source": [
    "cols_visualizar = [\"status\",\"floor\",\"municipality\",\"hasLift\",\"hasPlan\",\"has3DTour\",\"distancia_centro\",\"price\"]\n",
    "visualizar_outliers_bivariados(df[cols_visualizar],\"price\",(20,20))"
   ]
  },
  {
   "cell_type": "markdown",
   "metadata": {},
   "source": [
    "# Analicemos con IQR si hay outliers\n",
    "- Solo revisamos las no binarias"
   ]
  },
  {
   "cell_type": "code",
   "execution_count": null,
   "metadata": {},
   "outputs": [],
   "source": [
    "cols_visualizar = [\"status\",\"floor\",\"municipality\",\"hasLift\",\"hasPlan\",\"has3DTour\",\"distancia_centro\",\"price\"]\n",
    "dictio_iqr = identificar_outliers_iqr(df[cols_visualizar])"
   ]
  },
  {
   "cell_type": "markdown",
   "metadata": {},
   "source": [
    "# Realizamos un LOF para detectar outliers"
   ]
  },
  {
   "cell_type": "code",
   "execution_count": null,
   "metadata": {},
   "outputs": [],
   "source": [
    "cols_analizar = [\"status\",\"floor\",\"municipality\",\"hasLift\",\"hasPlan\",\"has3DTour\",\"distancia_centro\",\"price\"]\n",
    "df_lof = explorar_outliers_lof(df[cols_visualizar],df,\"price\",vecinos=[25,60,80],grafica_size=(15,15))"
   ]
  },
  {
   "cell_type": "code",
   "execution_count": null,
   "metadata": {},
   "outputs": [],
   "source": [
    "df_lof.sample()"
   ]
  },
  {
   "cell_type": "markdown",
   "metadata": {},
   "source": [
    "# Veamos con Isolation Forest"
   ]
  },
  {
   "cell_type": "code",
   "execution_count": null,
   "metadata": {},
   "outputs": [],
   "source": [
    "cols_analizar = [\"status\",\"floor\",\"municipality\",\"hasLift\",\"hasPlan\",\"has3DTour\",\"distancia_centro\",\"price\"]\n",
    "df_iso = explorar_outliers_if(df[cols_visualizar],df,\"price\",grafica_size=(15,15))"
   ]
  },
  {
   "cell_type": "code",
   "execution_count": null,
   "metadata": {},
   "outputs": [],
   "source": [
    "df_iso.sample()"
   ]
  },
  {
   "cell_type": "markdown",
   "metadata": {},
   "source": [
    "# Categorizamos los outliers de ambas pruebas\n",
    "- Para comparar resultados\n",
    "### Vamos a gestionar los outliers, los vamos a clasificar como\n",
    "- \"No es Outlier\": Todas las columnas del LOF son 1\n",
    "- \"Improbable Outlier\": El 60% de las columnas son 1\n",
    "- \"Es probable que sea Outlier\": El 60% de las columnas son -1\n",
    "- \"Outlier Total\": El 100% de las columnas son -1\n",
    "\n",
    "### ¿Qué voy a hacer?\n",
    "- Voy a contar cuantos 1 tengo en todas las columnas de outliers para poder categorizarla más adelante"
   ]
  },
  {
   "cell_type": "markdown",
   "metadata": {},
   "source": [
    "#### Saber cuantas columnas de outlier tengo"
   ]
  },
  {
   "cell_type": "code",
   "execution_count": null,
   "metadata": {},
   "outputs": [],
   "source": [
    "len(df_lof.filter(like=\"outlier_\").columns)\n"
   ]
  },
  {
   "cell_type": "code",
   "execution_count": null,
   "metadata": {},
   "outputs": [],
   "source": [
    "len(df_iso.filter(like=\"outlier_\").columns)"
   ]
  },
  {
   "cell_type": "markdown",
   "metadata": {},
   "source": [
    "- Tenemos 63 en df_lof\n",
    "- Tenemos 24 en iso "
   ]
  },
  {
   "cell_type": "markdown",
   "metadata": {},
   "source": [
    "### LOF"
   ]
  },
  {
   "cell_type": "code",
   "execution_count": null,
   "metadata": {},
   "outputs": [],
   "source": [
    "# Generamos nueva columna\n",
    "df_lof[\"tipo_outliers\"] = 0\n",
    "\n",
    "# Contamos cuantos -1 hay\n",
    "for columna in df_lof.filter(like=\"outlier\").columns:\n",
    "    df_lof[\"tipo_outliers\"] += (df_lof[columna] == -1).astype(int)\n",
    "\n",
    "# Generamos el diccionario de condiciones y textos para reemplazar\n",
    "condiciones = [\n",
    "    df_lof[\"tipo_outliers\"] == 0,\n",
    "    df_lof[\"tipo_outliers\"].between(1, 37,\"both\"),\n",
    "    df_lof[\"tipo_outliers\"].between(38, 62,\"both\"),\n",
    "    df_lof[\"tipo_outliers\"] == 63\n",
    "]\n",
    "\n",
    "textos = [\n",
    "    \"No es Outlier\",\n",
    "    \"Improbable Outlier\",\n",
    "    \"Probable Outlier\",\n",
    "    \"Total Outlier\"\n",
    "]\n",
    "\n",
    "# Reemplazamos la cuenta por el texto\n",
    "df_lof[\"tipo_outliers\"] = np.select(condiciones, textos, default=\"Unknown\")"
   ]
  },
  {
   "cell_type": "code",
   "execution_count": null,
   "metadata": {},
   "outputs": [],
   "source": [
    "df_lof.sample()"
   ]
  },
  {
   "cell_type": "markdown",
   "metadata": {},
   "source": [
    "### Isolation Forest"
   ]
  },
  {
   "cell_type": "code",
   "execution_count": null,
   "metadata": {},
   "outputs": [],
   "source": [
    "# Generamos nueva columna\n",
    "df_iso[\"tipo_outliers\"] = 0\n",
    "\n",
    "# Contamos cuantos -1 hay\n",
    "for columna in df_iso.filter(like=\"outlier\").columns:\n",
    "    df_iso[\"tipo_outliers\"] += (df_iso[columna] == -1).astype(int)\n",
    "\n",
    "# Generamos el diccionario de condiciones y textos para reemplazar\n",
    "condiciones = [\n",
    "    df_iso[\"tipo_outliers\"] == 0,\n",
    "    df_iso[\"tipo_outliers\"].between(1, 14,\"both\"),\n",
    "    df_iso[\"tipo_outliers\"].between(15, 23,\"both\"),\n",
    "    df_iso[\"tipo_outliers\"] == 24\n",
    "]\n",
    "\n",
    "textos = [\n",
    "    \"No es Outlier\",\n",
    "    \"Improbable Outlier\",\n",
    "    \"Probable Outlier\",\n",
    "    \"Total Outlier\"\n",
    "]\n",
    "\n",
    "# Reemplazamos la cuenta por el texto\n",
    "df_iso[\"tipo_outliers\"] = np.select(condiciones, textos, default=\"Unknown\")"
   ]
  },
  {
   "cell_type": "code",
   "execution_count": null,
   "metadata": {},
   "outputs": [],
   "source": [
    "df_iso.sample()"
   ]
  },
  {
   "cell_type": "markdown",
   "metadata": {},
   "source": [
    "# Eliminar columnas que ya no necesitamos\n",
    "- Nos quitamos las columnas de los outliers, ya las hemos categorizado"
   ]
  },
  {
   "cell_type": "code",
   "execution_count": null,
   "metadata": {},
   "outputs": [],
   "source": [
    "df_lof.drop(columns=df_lof.filter(like=\"outlier_\").columns,inplace=True)\n",
    "df_iso.drop(columns=df_iso.filter(like=\"outlier_\").columns,inplace=True)"
   ]
  },
  {
   "cell_type": "markdown",
   "metadata": {},
   "source": [
    "# Comparamos Métodos\n",
    "- Veremos que detecciones han hecho cada uno"
   ]
  },
  {
   "cell_type": "code",
   "execution_count": null,
   "metadata": {},
   "outputs": [],
   "source": [
    "df_lof[\"tipo_outliers\"].value_counts().reset_index()"
   ]
  },
  {
   "cell_type": "code",
   "execution_count": null,
   "metadata": {},
   "outputs": [],
   "source": [
    "df_iso[\"tipo_outliers\"].value_counts().reset_index()"
   ]
  },
  {
   "cell_type": "markdown",
   "metadata": {},
   "source": [
    "# Utilizaremos el resultado de LOF\n",
    "- Vamos a volver nulo el valor de todo lo que tenga como mínimo un resultado de que es un outlier"
   ]
  },
  {
   "cell_type": "code",
   "execution_count": null,
   "metadata": {},
   "outputs": [],
   "source": [
    "df_lof = df_lof[df_lof[\"tipo_outliers\"] != \"Total Outlier\"]\n",
    "df_lof[\"tipo_outliers\"].unique()\n",
    "df_lof.reset_index(drop=True,inplace=True)   "
   ]
  },
  {
   "cell_type": "code",
   "execution_count": null,
   "metadata": {},
   "outputs": [],
   "source": [
    "cols_nulificar = [\"status\",\"floor\",\"municipality\",\"hasLift\",\"hasPlan\",\"has3DTour\",\"distancia_centro\"]\n",
    "for columna in cols_nulificar:\n",
    "    df_lof.loc[df_lof[\"tipo_outliers\"] == \"Improbable Outlier\", columna] = np.nan\n",
    "    df_lof.loc[df_lof[\"tipo_outliers\"] == \"Probable Outlier\", columna] = np.nan\n",
    "    print(f\"Se han vuelto nulos: {df_lof[columna].isnull().sum()} valores en {columna}\")\n",
    "\n"
   ]
  },
  {
   "cell_type": "markdown",
   "metadata": {},
   "source": [
    "# Rellenamos los nulos con Random Forest en Iterative"
   ]
  },
  {
   "cell_type": "code",
   "execution_count": null,
   "metadata": {},
   "outputs": [],
   "source": [
    "df = df_lof.copy()"
   ]
  },
  {
   "cell_type": "code",
   "execution_count": null,
   "metadata": {},
   "outputs": [],
   "source": [
    "df.isnull().sum()"
   ]
  },
  {
   "cell_type": "code",
   "execution_count": null,
   "metadata": {},
   "outputs": [],
   "source": [
    "cols_nulificar = [\"status\",\"floor\",\"municipality\",\"hasLift\",\"hasPlan\",\"has3DTour\",\"distancia_centro\",\"price\"]\n",
    "df_num = df[cols_nulificar]\n",
    "\n",
    "# Random Forest\n",
    "iterative_imputer = IterativeImputer(\n",
    "    estimator=RandomForestRegressor(random_state=42),\n",
    "    #max_iter=10,  # Número de iteraciones para ajustar los valores\n",
    "    random_state=42\n",
    ")\n",
    "\n",
    "df_num_imputado = iterative_imputer.fit_transform(df_num)\n",
    "df_num_sin_nulos = pd.DataFrame(df_num_imputado, columns=df_num.columns)\n",
    "df_rf = df.copy()\n",
    "df_rf[df_num.columns] = df_num_sin_nulos\n",
    "df_rf[cols_nulificar].isnull().sum()\n"
   ]
  },
  {
   "cell_type": "markdown",
   "metadata": {},
   "source": [
    "# Eliminamos \"tipo_outliers\"\n",
    "- Ya la hemos utilizado como queríamos"
   ]
  },
  {
   "cell_type": "code",
   "execution_count": null,
   "metadata": {},
   "outputs": [],
   "source": [
    "df_rf.drop(columns=(\"tipo_outliers\"),inplace=True)"
   ]
  },
  {
   "cell_type": "markdown",
   "metadata": {},
   "source": [
    "# Guardamos \n",
    "- Nos vamos a intentar una regresión Lineal"
   ]
  },
  {
   "cell_type": "code",
   "execution_count": null,
   "metadata": {},
   "outputs": [],
   "source": [
    "df_rf.to_csv(\"../../datos/06_rent_outliers_gestionados.csv\",index=False)"
   ]
  }
 ],
 "metadata": {
  "kernelspec": {
   "display_name": "Python 3",
   "language": "python",
   "name": "python3"
  },
  "language_info": {
   "codemirror_mode": {
    "name": "ipython",
    "version": 3
   },
   "file_extension": ".py",
   "mimetype": "text/x-python",
   "name": "python",
   "nbconvert_exporter": "python",
   "pygments_lexer": "ipython3",
   "version": "3.11.9"
  }
 },
 "nbformat": 4,
 "nbformat_minor": 2
}
