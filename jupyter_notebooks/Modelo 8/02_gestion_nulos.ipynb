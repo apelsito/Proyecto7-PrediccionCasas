{
 "cells": [
  {
   "cell_type": "code",
   "execution_count": 1,
   "metadata": {},
   "outputs": [],
   "source": [
    "# Tratamiento de datos\n",
    "# -----------------------------------------------------------------------\n",
    "import numpy as np\n",
    "import pandas as pd\n",
    "pd.set_option('display.float_format', '{:.2f}'.format)\n",
    "\n",
    "\n",
    "# Imputación de nulos usando métodos avanzados estadísticos\n",
    "# -----------------------------------------------------------------------\n",
    "from sklearn.impute import SimpleImputer\n",
    "from sklearn.experimental import enable_iterative_imputer\n",
    "from sklearn.impute import IterativeImputer\n",
    "from sklearn.impute import KNNImputer\n",
    "from sklearn.ensemble import RandomForestRegressor\n",
    "\n",
    "import warnings\n",
    "warnings.filterwarnings(\"ignore\")\n",
    "pd.set_option('display.max_columns',100)\n"
   ]
  },
  {
   "cell_type": "code",
   "execution_count": 2,
   "metadata": {},
   "outputs": [
    {
     "data": {
      "text/html": [
       "<div>\n",
       "<style scoped>\n",
       "    .dataframe tbody tr th:only-of-type {\n",
       "        vertical-align: middle;\n",
       "    }\n",
       "\n",
       "    .dataframe tbody tr th {\n",
       "        vertical-align: top;\n",
       "    }\n",
       "\n",
       "    .dataframe thead th {\n",
       "        text-align: right;\n",
       "    }\n",
       "</style>\n",
       "<table border=\"1\" class=\"dataframe\">\n",
       "  <thead>\n",
       "    <tr style=\"text-align: right;\">\n",
       "      <th></th>\n",
       "      <th>propertyType</th>\n",
       "      <th>status</th>\n",
       "      <th>price</th>\n",
       "      <th>size</th>\n",
       "      <th>rooms</th>\n",
       "      <th>bathrooms</th>\n",
       "      <th>floor</th>\n",
       "      <th>neighborhood</th>\n",
       "      <th>address</th>\n",
       "      <th>district</th>\n",
       "      <th>province</th>\n",
       "      <th>municipality</th>\n",
       "      <th>exterior</th>\n",
       "      <th>hasLift</th>\n",
       "      <th>hasPlan</th>\n",
       "      <th>has3DTour</th>\n",
       "      <th>has360</th>\n",
       "      <th>distance</th>\n",
       "    </tr>\n",
       "  </thead>\n",
       "  <tbody>\n",
       "    <tr>\n",
       "      <th>268</th>\n",
       "      <td>flat</td>\n",
       "      <td>good</td>\n",
       "      <td>730.00</td>\n",
       "      <td>161.00</td>\n",
       "      <td>4</td>\n",
       "      <td>1</td>\n",
       "      <td>3</td>\n",
       "      <td>NaN</td>\n",
       "      <td>Calle de la Cruz</td>\n",
       "      <td>Nuevo Aranjuez-Ciudad de las Artes</td>\n",
       "      <td>Madrid</td>\n",
       "      <td>Aranjuez</td>\n",
       "      <td>True</td>\n",
       "      <td>False</td>\n",
       "      <td>True</td>\n",
       "      <td>False</td>\n",
       "      <td>True</td>\n",
       "      <td>44159</td>\n",
       "    </tr>\n",
       "  </tbody>\n",
       "</table>\n",
       "</div>"
      ],
      "text/plain": [
       "    propertyType status  price   size  rooms  bathrooms floor neighborhood  \\\n",
       "268         flat   good 730.00 161.00      4          1     3          NaN   \n",
       "\n",
       "              address                            district province  \\\n",
       "268  Calle de la Cruz  Nuevo Aranjuez-Ciudad de las Artes   Madrid   \n",
       "\n",
       "    municipality  exterior hasLift hasPlan has3DTour has360  distance  \n",
       "268     Aranjuez      True   False    True     False   True     44159  "
      ]
     },
     "execution_count": 2,
     "metadata": {},
     "output_type": "execute_result"
    }
   ],
   "source": [
    "df = pd.read_csv(\"../../datos/02_api_rent_limpieza_cols.csv\")\n",
    "df.sample()"
   ]
  },
  {
   "cell_type": "markdown",
   "metadata": {},
   "source": [
    "# Gestión de Valores erróneos\n",
    "Vamos a revisarlos en:\n",
    "- Precio\n",
    "- pricebyarea\n",
    "- size\n",
    "- rooms\n",
    "- bathrooms\n"
   ]
  },
  {
   "cell_type": "code",
   "execution_count": 3,
   "metadata": {},
   "outputs": [
    {
     "data": {
      "text/plain": [
       "array(['Toledo', 'Madrid', 'Guadalajara', 'Segovia', 'Ávila'],\n",
       "      dtype=object)"
      ]
     },
     "execution_count": 3,
     "metadata": {},
     "output_type": "execute_result"
    }
   ],
   "source": [
    "df[\"province\"].unique()"
   ]
  },
  {
   "cell_type": "markdown",
   "metadata": {},
   "source": [
    "### Modelo 7 Eliminar casas ajenas a \"Madrid\" "
   ]
  },
  {
   "cell_type": "code",
   "execution_count": 4,
   "metadata": {},
   "outputs": [
    {
     "data": {
      "text/plain": [
       "(353, 18)"
      ]
     },
     "execution_count": 4,
     "metadata": {},
     "output_type": "execute_result"
    }
   ],
   "source": [
    "df = df[df[\"province\"] == \"Madrid\"]\n",
    "df.reset_index(drop=True,inplace=True)\n",
    "df.shape"
   ]
  },
  {
   "cell_type": "code",
   "execution_count": 5,
   "metadata": {},
   "outputs": [
    {
     "data": {
      "text/plain": [
       "array([750., 400., 590., 684., 600., 550., 700., 695., 650., 675., 680.,\n",
       "       747., 640., 625., 720., 699., 620., 500., 595., 725., 666., 630.,\n",
       "       635., 690., 730., 624., 633., 645., 735., 705., 710., 610., 580.,\n",
       "       560., 740., 670., 723., 450., 660., 692., 609., 718., 694., 658.,\n",
       "       728., 715., 475., 749., 667., 525., 733., 745.])"
      ]
     },
     "execution_count": 5,
     "metadata": {},
     "output_type": "execute_result"
    }
   ],
   "source": [
    "df[\"price\"].unique()"
   ]
  },
  {
   "cell_type": "markdown",
   "metadata": {},
   "source": [
    "No se ven anómalos"
   ]
  },
  {
   "cell_type": "markdown",
   "metadata": {},
   "source": [
    "### size"
   ]
  },
  {
   "cell_type": "code",
   "execution_count": 6,
   "metadata": {},
   "outputs": [
    {
     "data": {
      "text/plain": [
       "18    206.00\n",
       "248   180.00\n",
       "195   168.00\n",
       "225   161.00\n",
       "191   155.00\n",
       "Name: size, dtype: float64"
      ]
     },
     "execution_count": 6,
     "metadata": {},
     "output_type": "execute_result"
    }
   ],
   "source": [
    "df[\"size\"].nlargest(5)"
   ]
  },
  {
   "cell_type": "code",
   "execution_count": 7,
   "metadata": {},
   "outputs": [
    {
     "data": {
      "text/plain": [
       "280   20.00\n",
       "137   23.00\n",
       "236   23.00\n",
       "27    25.00\n",
       "108   25.00\n",
       "Name: size, dtype: float64"
      ]
     },
     "execution_count": 7,
     "metadata": {},
     "output_type": "execute_result"
    }
   ],
   "source": [
    "df[\"size\"].nsmallest(5)"
   ]
  },
  {
   "cell_type": "markdown",
   "metadata": {},
   "source": [
    "No parece erróneos"
   ]
  },
  {
   "cell_type": "markdown",
   "metadata": {},
   "source": [
    "### rooms"
   ]
  },
  {
   "cell_type": "code",
   "execution_count": 8,
   "metadata": {},
   "outputs": [
    {
     "data": {
      "text/plain": [
       "array([1, 2, 3, 0, 4])"
      ]
     },
     "execution_count": 8,
     "metadata": {},
     "output_type": "execute_result"
    }
   ],
   "source": [
    "df[\"rooms\"].unique()"
   ]
  },
  {
   "cell_type": "markdown",
   "metadata": {},
   "source": [
    "0 es que son estudios"
   ]
  },
  {
   "cell_type": "markdown",
   "metadata": {},
   "source": [
    "### bathrooms"
   ]
  },
  {
   "cell_type": "code",
   "execution_count": 9,
   "metadata": {},
   "outputs": [
    {
     "data": {
      "text/plain": [
       "array([1, 2, 3])"
      ]
     },
     "execution_count": 9,
     "metadata": {},
     "output_type": "execute_result"
    }
   ],
   "source": [
    "df[\"bathrooms\"].unique()"
   ]
  },
  {
   "cell_type": "markdown",
   "metadata": {},
   "source": [
    "No se ven valores erróneos"
   ]
  },
  {
   "cell_type": "markdown",
   "metadata": {},
   "source": [
    "# Corregir \"floor\"\n",
    "- Vamos a pasar todo a texto para que sea una categórica"
   ]
  },
  {
   "cell_type": "code",
   "execution_count": 10,
   "metadata": {},
   "outputs": [
    {
     "data": {
      "text/plain": [
       "array(['3', 'bj', '2', nan, '1', '5', 'en', '4', 'st', '8', '7', '6',\n",
       "       '14', 'ss'], dtype=object)"
      ]
     },
     "execution_count": 10,
     "metadata": {},
     "output_type": "execute_result"
    }
   ],
   "source": [
    "df[\"floor\"].unique()"
   ]
  },
  {
   "cell_type": "markdown",
   "metadata": {},
   "source": [
    "### Generamos un diccionario para aplicar los cambios"
   ]
  },
  {
   "cell_type": "code",
   "execution_count": 11,
   "metadata": {},
   "outputs": [
    {
     "data": {
      "text/plain": [
       "array(['tercero', 'bajo', 'segundo', nan, 'primero', 'quinto',\n",
       "       'entreplanta', 'cuarto', 'sotano', 'octavo', 'septimo', 'sexto',\n",
       "       'decimo cuarto'], dtype=object)"
      ]
     },
     "execution_count": 11,
     "metadata": {},
     "output_type": "execute_result"
    }
   ],
   "source": [
    "diccionario_pisos = {\n",
    "    \"1\": \"primero\",\n",
    "    \"2\": \"segundo\",\n",
    "    \"3\": \"tercero\",\n",
    "    \"4\": \"cuarto\",\n",
    "    \"5\": \"quinto\",\n",
    "    \"6\": \"sexto\",\n",
    "    \"7\": \"septimo\",\n",
    "    \"8\": \"octavo\",\n",
    "    \"14\": \"decimo cuarto\",\n",
    "    \"bj\": \"bajo\",\n",
    "    \"en\": \"entreplanta\",\n",
    "    \"ss\": \"sotano\",\n",
    "    \"st\": \"sotano\",\n",
    "}\n",
    "\n",
    "df[\"floor\"] = df[\"floor\"].map(diccionario_pisos)\n",
    "df[\"floor\"].unique()\n"
   ]
  },
  {
   "cell_type": "markdown",
   "metadata": {},
   "source": [
    "# Corregir Bathrooms\n",
    "- Vamos a pasar todo a texto para que sea una categórica"
   ]
  },
  {
   "cell_type": "code",
   "execution_count": 12,
   "metadata": {},
   "outputs": [
    {
     "data": {
      "text/plain": [
       "array([1, 2, 3])"
      ]
     },
     "execution_count": 12,
     "metadata": {},
     "output_type": "execute_result"
    }
   ],
   "source": [
    "df[\"bathrooms\"].unique()"
   ]
  },
  {
   "cell_type": "code",
   "execution_count": 13,
   "metadata": {},
   "outputs": [],
   "source": [
    "df.loc[df[\"bathrooms\"] == 1, \"bathrooms\"] = \"1 aseo\"\n",
    "df.loc[df[\"bathrooms\"] == 2, \"bathrooms\"] = \"2 aseos\"\n",
    "df.loc[df[\"bathrooms\"] == 3, \"bathrooms\"] = \"3 aseos\""
   ]
  },
  {
   "cell_type": "code",
   "execution_count": 14,
   "metadata": {},
   "outputs": [
    {
     "data": {
      "text/plain": [
       "array(['1 aseo', '2 aseos', '3 aseos'], dtype=object)"
      ]
     },
     "execution_count": 14,
     "metadata": {},
     "output_type": "execute_result"
    }
   ],
   "source": [
    "df[\"bathrooms\"].unique()"
   ]
  },
  {
   "cell_type": "markdown",
   "metadata": {},
   "source": [
    "# Corregir rooms\n",
    "- Vamos a pasar todo a texto para que sea una categórica"
   ]
  },
  {
   "cell_type": "code",
   "execution_count": 15,
   "metadata": {},
   "outputs": [
    {
     "data": {
      "text/plain": [
       "array([1, 2, 3, 0, 4])"
      ]
     },
     "execution_count": 15,
     "metadata": {},
     "output_type": "execute_result"
    }
   ],
   "source": [
    "df[\"rooms\"].unique()"
   ]
  },
  {
   "cell_type": "code",
   "execution_count": 16,
   "metadata": {},
   "outputs": [],
   "source": [
    "df.loc[df[\"rooms\"] == 0, \"rooms\"] = \"sin habitaciones\"\n",
    "df.loc[df[\"rooms\"] == 1, \"rooms\"] = \"1 habitacion\"\n",
    "df.loc[df[\"rooms\"] == 2, \"rooms\"] = \"2 habitaciones\"\n",
    "df.loc[df[\"rooms\"] == 3, \"rooms\"] = \"3 habitaciones\"\n",
    "df.loc[df[\"rooms\"] == 4, \"rooms\"] = \"4 habitaciones\"\n",
    "df.loc[df[\"rooms\"] == 6, \"rooms\"] = \"6 habitaciones\""
   ]
  },
  {
   "cell_type": "code",
   "execution_count": 17,
   "metadata": {},
   "outputs": [
    {
     "data": {
      "text/plain": [
       "array(['1 habitacion', '2 habitaciones', '3 habitaciones',\n",
       "       'sin habitaciones', '4 habitaciones'], dtype=object)"
      ]
     },
     "execution_count": 17,
     "metadata": {},
     "output_type": "execute_result"
    }
   ],
   "source": [
    "df[\"rooms\"].unique()"
   ]
  },
  {
   "cell_type": "markdown",
   "metadata": {},
   "source": [
    "# Reducción / Simplificación de columnas\n",
    "- Vamos a quitarnos todo lo que:\n",
    "    - Especifique demasiado para el precio\n",
    "- Vamos a simplificar todo lo que:\n",
    "    - Especifique demasiado, pero al generalizarlo, aporte valor"
   ]
  },
  {
   "cell_type": "code",
   "execution_count": 18,
   "metadata": {},
   "outputs": [
    {
     "data": {
      "text/html": [
       "<div>\n",
       "<style scoped>\n",
       "    .dataframe tbody tr th:only-of-type {\n",
       "        vertical-align: middle;\n",
       "    }\n",
       "\n",
       "    .dataframe tbody tr th {\n",
       "        vertical-align: top;\n",
       "    }\n",
       "\n",
       "    .dataframe thead th {\n",
       "        text-align: right;\n",
       "    }\n",
       "</style>\n",
       "<table border=\"1\" class=\"dataframe\">\n",
       "  <thead>\n",
       "    <tr style=\"text-align: right;\">\n",
       "      <th></th>\n",
       "      <th>propertyType</th>\n",
       "      <th>status</th>\n",
       "      <th>price</th>\n",
       "      <th>size</th>\n",
       "      <th>rooms</th>\n",
       "      <th>bathrooms</th>\n",
       "      <th>floor</th>\n",
       "      <th>neighborhood</th>\n",
       "      <th>address</th>\n",
       "      <th>district</th>\n",
       "      <th>province</th>\n",
       "      <th>municipality</th>\n",
       "      <th>exterior</th>\n",
       "      <th>hasLift</th>\n",
       "      <th>hasPlan</th>\n",
       "      <th>has3DTour</th>\n",
       "      <th>has360</th>\n",
       "      <th>distance</th>\n",
       "    </tr>\n",
       "  </thead>\n",
       "  <tbody>\n",
       "    <tr>\n",
       "      <th>59</th>\n",
       "      <td>flat</td>\n",
       "      <td>good</td>\n",
       "      <td>700.00</td>\n",
       "      <td>45.00</td>\n",
       "      <td>1 habitacion</td>\n",
       "      <td>1 aseo</td>\n",
       "      <td>tercero</td>\n",
       "      <td>Casco Histórico de Barajas</td>\n",
       "      <td>barrio Casco Histórico de Barajas</td>\n",
       "      <td>Barajas</td>\n",
       "      <td>Madrid</td>\n",
       "      <td>Madrid</td>\n",
       "      <td>True</td>\n",
       "      <td>False</td>\n",
       "      <td>False</td>\n",
       "      <td>False</td>\n",
       "      <td>False</td>\n",
       "      <td>12321</td>\n",
       "    </tr>\n",
       "  </tbody>\n",
       "</table>\n",
       "</div>"
      ],
      "text/plain": [
       "   propertyType status  price  size         rooms bathrooms    floor  \\\n",
       "59         flat   good 700.00 45.00  1 habitacion    1 aseo  tercero   \n",
       "\n",
       "                  neighborhood                            address district  \\\n",
       "59  Casco Histórico de Barajas  barrio Casco Histórico de Barajas  Barajas   \n",
       "\n",
       "   province municipality  exterior hasLift hasPlan has3DTour has360  distance  \n",
       "59   Madrid       Madrid      True   False   False     False  False     12321  "
      ]
     },
     "execution_count": 18,
     "metadata": {},
     "output_type": "execute_result"
    }
   ],
   "source": [
    "df.sample()"
   ]
  },
  {
   "cell_type": "markdown",
   "metadata": {},
   "source": [
    "### Dropeamos\n",
    "- address: No se puede generalizar"
   ]
  },
  {
   "cell_type": "code",
   "execution_count": 19,
   "metadata": {},
   "outputs": [],
   "source": [
    "df.drop(columns=\"address\",inplace=True)"
   ]
  },
  {
   "cell_type": "markdown",
   "metadata": {},
   "source": [
    "### Generalizamos\n",
    "- distance: Lo haremos por rangos de distancia al centro"
   ]
  },
  {
   "cell_type": "code",
   "execution_count": 20,
   "metadata": {},
   "outputs": [
    {
     "data": {
      "text/plain": [
       "3      56596\n",
       "2      55041\n",
       "188    53247\n",
       "186    53238\n",
       "289    49280\n",
       "Name: distance, dtype: int64"
      ]
     },
     "execution_count": 20,
     "metadata": {},
     "output_type": "execute_result"
    }
   ],
   "source": [
    "df[\"distance\"].nlargest()"
   ]
  },
  {
   "cell_type": "code",
   "execution_count": 21,
   "metadata": {},
   "outputs": [
    {
     "data": {
      "text/plain": [
       "108    183\n",
       "126    470\n",
       "27     533\n",
       "136    625\n",
       "317    691\n",
       "Name: distance, dtype: int64"
      ]
     },
     "execution_count": 21,
     "metadata": {},
     "output_type": "execute_result"
    }
   ],
   "source": [
    "df[\"distance\"].nsmallest()"
   ]
  },
  {
   "cell_type": "code",
   "execution_count": 22,
   "metadata": {},
   "outputs": [],
   "source": [
    "df[\"distancia_centro\"] = \"unknown\"\n",
    "df.loc[df[\"distance\"].between(0,1000,inclusive=\"left\"), \"distancia_centro\"] = \"Menos de 1 km\"\n",
    "df.loc[df[\"distance\"].between(1000,5000,inclusive=\"left\"), \"distancia_centro\"] = \"Entre 1 y 5 km\"\n",
    "df.loc[df[\"distance\"].between(5000,10000,inclusive=\"left\"), \"distancia_centro\"] =  \"Entre 5 y 10 km\"\n",
    "df.loc[df[\"distance\"].between(10000,20000,inclusive=\"left\"), \"distancia_centro\"] = \"Entre 10 y 20 km\"\n",
    "df.loc[df[\"distance\"].between(20000,30000,inclusive=\"left\"), \"distancia_centro\"] = \"Entre 20 y 30 km\"\n",
    "df.loc[df[\"distance\"].between(30000,40000,inclusive=\"left\"), \"distancia_centro\"] = \"Entre 30 y 40 km\"\n",
    "df.loc[df[\"distance\"].between(40000,50000,inclusive=\"both\"), \"distancia_centro\"] = \"Entre 40 y 50 km\"\n",
    "df.loc[df[\"distance\"] > 50000, \"distancia_centro\"] = \"Mas de 50 km\""
   ]
  },
  {
   "cell_type": "code",
   "execution_count": 23,
   "metadata": {},
   "outputs": [
    {
     "data": {
      "text/plain": [
       "distancia_centro\n",
       "Entre 5 y 10 km     82\n",
       "Entre 20 y 30 km    74\n",
       "Entre 10 y 20 km    65\n",
       "Entre 1 y 5 km      62\n",
       "Entre 40 y 50 km    30\n",
       "Entre 30 y 40 km    24\n",
       "Menos de 1 km       12\n",
       "Mas de 50 km         4\n",
       "Name: count, dtype: int64"
      ]
     },
     "execution_count": 23,
     "metadata": {},
     "output_type": "execute_result"
    }
   ],
   "source": [
    "df[\"distancia_centro\"].value_counts()"
   ]
  },
  {
   "cell_type": "markdown",
   "metadata": {},
   "source": [
    "# Dropeamos distance"
   ]
  },
  {
   "cell_type": "code",
   "execution_count": 24,
   "metadata": {},
   "outputs": [],
   "source": [
    "df.drop(columns=\"distance\",inplace=True)"
   ]
  },
  {
   "cell_type": "markdown",
   "metadata": {},
   "source": [
    "# Gestionar nulos variables categóricas\n",
    "- Las booleanas las volvemos categóricas\n",
    "- Los nans los pondremos en desconocido"
   ]
  },
  {
   "cell_type": "code",
   "execution_count": 25,
   "metadata": {},
   "outputs": [
    {
     "name": "stdout",
     "output_type": "stream",
     "text": [
      "<class 'pandas.core.frame.DataFrame'>\n",
      "RangeIndex: 353 entries, 0 to 352\n",
      "Data columns (total 17 columns):\n",
      " #   Column            Non-Null Count  Dtype  \n",
      "---  ------            --------------  -----  \n",
      " 0   propertyType      353 non-null    object \n",
      " 1   status            339 non-null    object \n",
      " 2   price             353 non-null    float64\n",
      " 3   size              353 non-null    float64\n",
      " 4   rooms             353 non-null    object \n",
      " 5   bathrooms         353 non-null    object \n",
      " 6   floor             290 non-null    object \n",
      " 7   neighborhood      174 non-null    object \n",
      " 8   district          301 non-null    object \n",
      " 9   province          353 non-null    object \n",
      " 10  municipality      353 non-null    object \n",
      " 11  exterior          353 non-null    bool   \n",
      " 12  hasLift           335 non-null    object \n",
      " 13  hasPlan           339 non-null    object \n",
      " 14  has3DTour         339 non-null    object \n",
      " 15  has360            339 non-null    object \n",
      " 16  distancia_centro  353 non-null    object \n",
      "dtypes: bool(1), float64(2), object(14)\n",
      "memory usage: 44.6+ KB\n"
     ]
    }
   ],
   "source": [
    "df.info()"
   ]
  },
  {
   "cell_type": "markdown",
   "metadata": {},
   "source": [
    "### propertyType"
   ]
  },
  {
   "cell_type": "code",
   "execution_count": 26,
   "metadata": {},
   "outputs": [
    {
     "data": {
      "text/plain": [
       "np.int64(0)"
      ]
     },
     "execution_count": 26,
     "metadata": {},
     "output_type": "execute_result"
    }
   ],
   "source": [
    "df[\"propertyType\"].isnull().sum()"
   ]
  },
  {
   "cell_type": "markdown",
   "metadata": {},
   "source": [
    "### status"
   ]
  },
  {
   "cell_type": "code",
   "execution_count": 27,
   "metadata": {},
   "outputs": [
    {
     "data": {
      "text/plain": [
       "np.int64(14)"
      ]
     },
     "execution_count": 27,
     "metadata": {},
     "output_type": "execute_result"
    }
   ],
   "source": [
    "df[\"status\"].isnull().sum()"
   ]
  },
  {
   "cell_type": "code",
   "execution_count": 28,
   "metadata": {},
   "outputs": [
    {
     "data": {
      "text/plain": [
       "array(['good', 'desconocido', 'newdevelopment', 'renew'], dtype=object)"
      ]
     },
     "execution_count": 28,
     "metadata": {},
     "output_type": "execute_result"
    }
   ],
   "source": [
    "df[\"status\"]= df[\"status\"].fillna(\"desconocido\")\n",
    "df[\"status\"].unique()"
   ]
  },
  {
   "cell_type": "code",
   "execution_count": 29,
   "metadata": {},
   "outputs": [
    {
     "data": {
      "text/plain": [
       "np.int64(0)"
      ]
     },
     "execution_count": 29,
     "metadata": {},
     "output_type": "execute_result"
    }
   ],
   "source": [
    "df[\"status\"].isnull().sum()"
   ]
  },
  {
   "cell_type": "markdown",
   "metadata": {},
   "source": [
    "### floor"
   ]
  },
  {
   "cell_type": "code",
   "execution_count": 30,
   "metadata": {},
   "outputs": [
    {
     "data": {
      "text/plain": [
       "np.int64(63)"
      ]
     },
     "execution_count": 30,
     "metadata": {},
     "output_type": "execute_result"
    }
   ],
   "source": [
    "df[\"floor\"].isnull().sum()"
   ]
  },
  {
   "cell_type": "code",
   "execution_count": 31,
   "metadata": {},
   "outputs": [
    {
     "data": {
      "text/plain": [
       "array(['tercero', 'bajo', 'segundo', 'desconocido', 'primero', 'quinto',\n",
       "       'entreplanta', 'cuarto', 'sotano', 'octavo', 'septimo', 'sexto',\n",
       "       'decimo cuarto'], dtype=object)"
      ]
     },
     "execution_count": 31,
     "metadata": {},
     "output_type": "execute_result"
    }
   ],
   "source": [
    "df[\"floor\"]= df[\"floor\"].fillna(\"desconocido\")\n",
    "df[\"floor\"].unique()"
   ]
  },
  {
   "cell_type": "code",
   "execution_count": 32,
   "metadata": {},
   "outputs": [
    {
     "data": {
      "text/plain": [
       "np.int64(0)"
      ]
     },
     "execution_count": 32,
     "metadata": {},
     "output_type": "execute_result"
    }
   ],
   "source": [
    "df[\"floor\"].isnull().sum()"
   ]
  },
  {
   "cell_type": "markdown",
   "metadata": {},
   "source": [
    "### neighborhood (Dropear Columna)\n",
    "- Demasiados nulos, no tiene sentido"
   ]
  },
  {
   "cell_type": "code",
   "execution_count": 33,
   "metadata": {},
   "outputs": [
    {
     "data": {
      "text/plain": [
       "np.int64(179)"
      ]
     },
     "execution_count": 33,
     "metadata": {},
     "output_type": "execute_result"
    }
   ],
   "source": [
    "df[\"neighborhood\"].isnull().sum()"
   ]
  },
  {
   "cell_type": "code",
   "execution_count": 34,
   "metadata": {},
   "outputs": [],
   "source": [
    "df.drop(columns=\"neighborhood\",inplace=True)"
   ]
  },
  {
   "cell_type": "markdown",
   "metadata": {},
   "source": [
    "### district\n",
    "- Tal vez especifique demasiado"
   ]
  },
  {
   "cell_type": "code",
   "execution_count": 35,
   "metadata": {},
   "outputs": [
    {
     "data": {
      "text/plain": [
       "np.int64(52)"
      ]
     },
     "execution_count": 35,
     "metadata": {},
     "output_type": "execute_result"
    }
   ],
   "source": [
    "df[\"district\"].isnull().sum()"
   ]
  },
  {
   "cell_type": "code",
   "execution_count": 36,
   "metadata": {},
   "outputs": [
    {
     "data": {
      "text/plain": [
       "np.int64(0)"
      ]
     },
     "execution_count": 36,
     "metadata": {},
     "output_type": "execute_result"
    }
   ],
   "source": [
    "df[\"district\"]= df[\"district\"].fillna(\"desconocido\")\n",
    "df[\"district\"].isnull().sum()"
   ]
  },
  {
   "cell_type": "markdown",
   "metadata": {},
   "source": [
    "### province"
   ]
  },
  {
   "cell_type": "code",
   "execution_count": 37,
   "metadata": {},
   "outputs": [
    {
     "data": {
      "text/plain": [
       "np.int64(0)"
      ]
     },
     "execution_count": 37,
     "metadata": {},
     "output_type": "execute_result"
    }
   ],
   "source": [
    "df[\"province\"].isnull().sum()"
   ]
  },
  {
   "cell_type": "markdown",
   "metadata": {},
   "source": [
    "### municipality"
   ]
  },
  {
   "cell_type": "code",
   "execution_count": 38,
   "metadata": {},
   "outputs": [
    {
     "data": {
      "text/plain": [
       "np.int64(0)"
      ]
     },
     "execution_count": 38,
     "metadata": {},
     "output_type": "execute_result"
    }
   ],
   "source": [
    "df[\"municipality\"].isnull().sum()"
   ]
  },
  {
   "cell_type": "markdown",
   "metadata": {},
   "source": [
    "###  exterior\n",
    "- Cambiamos de booleano a categorica"
   ]
  },
  {
   "cell_type": "code",
   "execution_count": 39,
   "metadata": {},
   "outputs": [
    {
     "data": {
      "text/plain": [
       "np.int64(0)"
      ]
     },
     "execution_count": 39,
     "metadata": {},
     "output_type": "execute_result"
    }
   ],
   "source": [
    "df[\"exterior\"].isnull().sum()"
   ]
  },
  {
   "cell_type": "code",
   "execution_count": 40,
   "metadata": {},
   "outputs": [
    {
     "data": {
      "text/plain": [
       "array([ True, False])"
      ]
     },
     "execution_count": 40,
     "metadata": {},
     "output_type": "execute_result"
    }
   ],
   "source": [
    "df[\"exterior\"].unique()"
   ]
  },
  {
   "cell_type": "code",
   "execution_count": 41,
   "metadata": {},
   "outputs": [
    {
     "data": {
      "text/plain": [
       "array(['vista exterior', 'vista interior'], dtype=object)"
      ]
     },
     "execution_count": 41,
     "metadata": {},
     "output_type": "execute_result"
    }
   ],
   "source": [
    "df.loc[df[\"exterior\"] == True, \"exterior\"] = \"vista exterior\"\n",
    "df.loc[df[\"exterior\"] == False, \"exterior\"] = \"vista interior\"\n",
    "df[\"exterior\"].unique()"
   ]
  },
  {
   "cell_type": "markdown",
   "metadata": {},
   "source": [
    "### hasLift \n",
    "- Cambiamos de booleano a categorica"
   ]
  },
  {
   "cell_type": "code",
   "execution_count": 42,
   "metadata": {},
   "outputs": [
    {
     "data": {
      "text/plain": [
       "np.int64(18)"
      ]
     },
     "execution_count": 42,
     "metadata": {},
     "output_type": "execute_result"
    }
   ],
   "source": [
    "df[\"hasLift\"].isnull().sum()"
   ]
  },
  {
   "cell_type": "code",
   "execution_count": 43,
   "metadata": {},
   "outputs": [
    {
     "data": {
      "text/plain": [
       "array([True, False, nan], dtype=object)"
      ]
     },
     "execution_count": 43,
     "metadata": {},
     "output_type": "execute_result"
    }
   ],
   "source": [
    "df[\"hasLift\"].unique()"
   ]
  },
  {
   "cell_type": "code",
   "execution_count": 44,
   "metadata": {},
   "outputs": [
    {
     "data": {
      "text/plain": [
       "array(['tiene ascensor', 'no tiene ascensor', 'desconocido'], dtype=object)"
      ]
     },
     "execution_count": 44,
     "metadata": {},
     "output_type": "execute_result"
    }
   ],
   "source": [
    "df.loc[df[\"hasLift\"] == True, \"hasLift\"] = \"tiene ascensor\"\n",
    "df.loc[df[\"hasLift\"] == False, \"hasLift\"] = \"no tiene ascensor\"\n",
    "df[\"hasLift\"] = df[\"hasLift\"].fillna(\"desconocido\")\n",
    "df[\"hasLift\"].unique()"
   ]
  },
  {
   "cell_type": "code",
   "execution_count": 45,
   "metadata": {},
   "outputs": [
    {
     "data": {
      "text/plain": [
       "np.int64(0)"
      ]
     },
     "execution_count": 45,
     "metadata": {},
     "output_type": "execute_result"
    }
   ],
   "source": [
    "df[\"hasLift\"].isnull().sum()"
   ]
  },
  {
   "cell_type": "markdown",
   "metadata": {},
   "source": [
    "### hasPlan\n",
    "- Cambiamos de booleano a categorica\n"
   ]
  },
  {
   "cell_type": "code",
   "execution_count": 46,
   "metadata": {},
   "outputs": [
    {
     "data": {
      "text/plain": [
       "np.int64(14)"
      ]
     },
     "execution_count": 46,
     "metadata": {},
     "output_type": "execute_result"
    }
   ],
   "source": [
    "df[\"hasPlan\"].isnull().sum()"
   ]
  },
  {
   "cell_type": "code",
   "execution_count": 47,
   "metadata": {},
   "outputs": [
    {
     "data": {
      "text/plain": [
       "array(['no tiene planos', 'tiene planos', 'desconocido'], dtype=object)"
      ]
     },
     "execution_count": 47,
     "metadata": {},
     "output_type": "execute_result"
    }
   ],
   "source": [
    "df.loc[df[\"hasPlan\"] == True, \"hasPlan\"] = \"tiene planos\"\n",
    "df.loc[df[\"hasPlan\"] == False, \"hasPlan\"] = \"no tiene planos\"\n",
    "df[\"hasPlan\"] = df[\"hasPlan\"].fillna(\"desconocido\")\n",
    "df[\"hasPlan\"].unique()"
   ]
  },
  {
   "cell_type": "code",
   "execution_count": 48,
   "metadata": {},
   "outputs": [
    {
     "data": {
      "text/plain": [
       "np.int64(0)"
      ]
     },
     "execution_count": 48,
     "metadata": {},
     "output_type": "execute_result"
    }
   ],
   "source": [
    "df[\"hasPlan\"].isnull().sum()"
   ]
  },
  {
   "cell_type": "markdown",
   "metadata": {},
   "source": [
    "### has3DTour\n",
    "- Cambiamos de booleano a categorica\n"
   ]
  },
  {
   "cell_type": "code",
   "execution_count": 49,
   "metadata": {},
   "outputs": [
    {
     "data": {
      "text/plain": [
       "np.int64(14)"
      ]
     },
     "execution_count": 49,
     "metadata": {},
     "output_type": "execute_result"
    }
   ],
   "source": [
    "df[\"has3DTour\"].isnull().sum()"
   ]
  },
  {
   "cell_type": "code",
   "execution_count": 50,
   "metadata": {},
   "outputs": [
    {
     "data": {
      "text/plain": [
       "array(['no tiene tour 3D', 'desconocido', 'tiene tour 3D'], dtype=object)"
      ]
     },
     "execution_count": 50,
     "metadata": {},
     "output_type": "execute_result"
    }
   ],
   "source": [
    "df.loc[df[\"has3DTour\"] == True, \"has3DTour\"] = \"tiene tour 3D\"\n",
    "df.loc[df[\"has3DTour\"] == False, \"has3DTour\"] = \"no tiene tour 3D\"\n",
    "df[\"has3DTour\"] = df[\"has3DTour\"].fillna(\"desconocido\")\n",
    "df[\"has3DTour\"].unique()"
   ]
  },
  {
   "cell_type": "code",
   "execution_count": 51,
   "metadata": {},
   "outputs": [
    {
     "data": {
      "text/plain": [
       "np.int64(0)"
      ]
     },
     "execution_count": 51,
     "metadata": {},
     "output_type": "execute_result"
    }
   ],
   "source": [
    "df[\"has3DTour\"].isnull().sum()"
   ]
  },
  {
   "cell_type": "markdown",
   "metadata": {},
   "source": [
    "### has360\n",
    "- Cambiamos de booleano a categorica"
   ]
  },
  {
   "cell_type": "code",
   "execution_count": 52,
   "metadata": {},
   "outputs": [
    {
     "data": {
      "text/plain": [
       "np.int64(14)"
      ]
     },
     "execution_count": 52,
     "metadata": {},
     "output_type": "execute_result"
    }
   ],
   "source": [
    "df[\"has360\"].isnull().sum()"
   ]
  },
  {
   "cell_type": "code",
   "execution_count": 53,
   "metadata": {},
   "outputs": [
    {
     "data": {
      "text/html": [
       "<div>\n",
       "<style scoped>\n",
       "    .dataframe tbody tr th:only-of-type {\n",
       "        vertical-align: middle;\n",
       "    }\n",
       "\n",
       "    .dataframe tbody tr th {\n",
       "        vertical-align: top;\n",
       "    }\n",
       "\n",
       "    .dataframe thead th {\n",
       "        text-align: right;\n",
       "    }\n",
       "</style>\n",
       "<table border=\"1\" class=\"dataframe\">\n",
       "  <thead>\n",
       "    <tr style=\"text-align: right;\">\n",
       "      <th></th>\n",
       "      <th>propertyType</th>\n",
       "      <th>status</th>\n",
       "      <th>price</th>\n",
       "      <th>size</th>\n",
       "      <th>rooms</th>\n",
       "      <th>bathrooms</th>\n",
       "      <th>floor</th>\n",
       "      <th>district</th>\n",
       "      <th>province</th>\n",
       "      <th>municipality</th>\n",
       "      <th>exterior</th>\n",
       "      <th>hasLift</th>\n",
       "      <th>hasPlan</th>\n",
       "      <th>has3DTour</th>\n",
       "      <th>has360</th>\n",
       "      <th>distancia_centro</th>\n",
       "    </tr>\n",
       "  </thead>\n",
       "  <tbody>\n",
       "    <tr>\n",
       "      <th>4</th>\n",
       "      <td>studio</td>\n",
       "      <td>desconocido</td>\n",
       "      <td>684.00</td>\n",
       "      <td>45.00</td>\n",
       "      <td>sin habitaciones</td>\n",
       "      <td>1 aseo</td>\n",
       "      <td>desconocido</td>\n",
       "      <td>desconocido</td>\n",
       "      <td>Madrid</td>\n",
       "      <td>Madrid</td>\n",
       "      <td>vista exterior</td>\n",
       "      <td>desconocido</td>\n",
       "      <td>desconocido</td>\n",
       "      <td>desconocido</td>\n",
       "      <td>NaN</td>\n",
       "      <td>Entre 10 y 20 km</td>\n",
       "    </tr>\n",
       "    <tr>\n",
       "      <th>51</th>\n",
       "      <td>flat</td>\n",
       "      <td>desconocido</td>\n",
       "      <td>700.00</td>\n",
       "      <td>50.00</td>\n",
       "      <td>1 habitacion</td>\n",
       "      <td>2 aseos</td>\n",
       "      <td>desconocido</td>\n",
       "      <td>desconocido</td>\n",
       "      <td>Madrid</td>\n",
       "      <td>Camarma de Esteruelas</td>\n",
       "      <td>vista exterior</td>\n",
       "      <td>desconocido</td>\n",
       "      <td>desconocido</td>\n",
       "      <td>desconocido</td>\n",
       "      <td>NaN</td>\n",
       "      <td>Entre 30 y 40 km</td>\n",
       "    </tr>\n",
       "    <tr>\n",
       "      <th>52</th>\n",
       "      <td>duplex</td>\n",
       "      <td>desconocido</td>\n",
       "      <td>750.00</td>\n",
       "      <td>35.00</td>\n",
       "      <td>1 habitacion</td>\n",
       "      <td>1 aseo</td>\n",
       "      <td>desconocido</td>\n",
       "      <td>desconocido</td>\n",
       "      <td>Madrid</td>\n",
       "      <td>Madrid</td>\n",
       "      <td>vista exterior</td>\n",
       "      <td>desconocido</td>\n",
       "      <td>desconocido</td>\n",
       "      <td>desconocido</td>\n",
       "      <td>NaN</td>\n",
       "      <td>Entre 1 y 5 km</td>\n",
       "    </tr>\n",
       "    <tr>\n",
       "      <th>106</th>\n",
       "      <td>flat</td>\n",
       "      <td>desconocido</td>\n",
       "      <td>600.00</td>\n",
       "      <td>55.00</td>\n",
       "      <td>1 habitacion</td>\n",
       "      <td>1 aseo</td>\n",
       "      <td>desconocido</td>\n",
       "      <td>desconocido</td>\n",
       "      <td>Madrid</td>\n",
       "      <td>Daganzo de Arriba</td>\n",
       "      <td>vista exterior</td>\n",
       "      <td>desconocido</td>\n",
       "      <td>desconocido</td>\n",
       "      <td>desconocido</td>\n",
       "      <td>NaN</td>\n",
       "      <td>Entre 20 y 30 km</td>\n",
       "    </tr>\n",
       "    <tr>\n",
       "      <th>121</th>\n",
       "      <td>flat</td>\n",
       "      <td>desconocido</td>\n",
       "      <td>630.00</td>\n",
       "      <td>54.00</td>\n",
       "      <td>1 habitacion</td>\n",
       "      <td>2 aseos</td>\n",
       "      <td>desconocido</td>\n",
       "      <td>desconocido</td>\n",
       "      <td>Madrid</td>\n",
       "      <td>El Álamo</td>\n",
       "      <td>vista exterior</td>\n",
       "      <td>desconocido</td>\n",
       "      <td>desconocido</td>\n",
       "      <td>desconocido</td>\n",
       "      <td>NaN</td>\n",
       "      <td>Entre 30 y 40 km</td>\n",
       "    </tr>\n",
       "    <tr>\n",
       "      <th>137</th>\n",
       "      <td>studio</td>\n",
       "      <td>desconocido</td>\n",
       "      <td>700.00</td>\n",
       "      <td>23.00</td>\n",
       "      <td>sin habitaciones</td>\n",
       "      <td>1 aseo</td>\n",
       "      <td>desconocido</td>\n",
       "      <td>desconocido</td>\n",
       "      <td>Madrid</td>\n",
       "      <td>Madrid</td>\n",
       "      <td>vista exterior</td>\n",
       "      <td>desconocido</td>\n",
       "      <td>desconocido</td>\n",
       "      <td>desconocido</td>\n",
       "      <td>NaN</td>\n",
       "      <td>Entre 1 y 5 km</td>\n",
       "    </tr>\n",
       "    <tr>\n",
       "      <th>147</th>\n",
       "      <td>duplex</td>\n",
       "      <td>desconocido</td>\n",
       "      <td>600.00</td>\n",
       "      <td>80.00</td>\n",
       "      <td>1 habitacion</td>\n",
       "      <td>1 aseo</td>\n",
       "      <td>desconocido</td>\n",
       "      <td>desconocido</td>\n",
       "      <td>Madrid</td>\n",
       "      <td>Madrid</td>\n",
       "      <td>vista interior</td>\n",
       "      <td>desconocido</td>\n",
       "      <td>desconocido</td>\n",
       "      <td>desconocido</td>\n",
       "      <td>NaN</td>\n",
       "      <td>Entre 5 y 10 km</td>\n",
       "    </tr>\n",
       "    <tr>\n",
       "      <th>148</th>\n",
       "      <td>duplex</td>\n",
       "      <td>desconocido</td>\n",
       "      <td>600.00</td>\n",
       "      <td>80.00</td>\n",
       "      <td>1 habitacion</td>\n",
       "      <td>1 aseo</td>\n",
       "      <td>desconocido</td>\n",
       "      <td>desconocido</td>\n",
       "      <td>Madrid</td>\n",
       "      <td>Madrid</td>\n",
       "      <td>vista interior</td>\n",
       "      <td>desconocido</td>\n",
       "      <td>desconocido</td>\n",
       "      <td>desconocido</td>\n",
       "      <td>NaN</td>\n",
       "      <td>Entre 5 y 10 km</td>\n",
       "    </tr>\n",
       "    <tr>\n",
       "      <th>176</th>\n",
       "      <td>flat</td>\n",
       "      <td>desconocido</td>\n",
       "      <td>675.00</td>\n",
       "      <td>35.00</td>\n",
       "      <td>1 habitacion</td>\n",
       "      <td>1 aseo</td>\n",
       "      <td>desconocido</td>\n",
       "      <td>desconocido</td>\n",
       "      <td>Madrid</td>\n",
       "      <td>Madrid</td>\n",
       "      <td>vista interior</td>\n",
       "      <td>desconocido</td>\n",
       "      <td>desconocido</td>\n",
       "      <td>desconocido</td>\n",
       "      <td>NaN</td>\n",
       "      <td>Entre 1 y 5 km</td>\n",
       "    </tr>\n",
       "    <tr>\n",
       "      <th>183</th>\n",
       "      <td>flat</td>\n",
       "      <td>desconocido</td>\n",
       "      <td>750.00</td>\n",
       "      <td>67.00</td>\n",
       "      <td>3 habitaciones</td>\n",
       "      <td>1 aseo</td>\n",
       "      <td>desconocido</td>\n",
       "      <td>desconocido</td>\n",
       "      <td>Madrid</td>\n",
       "      <td>Getafe</td>\n",
       "      <td>vista exterior</td>\n",
       "      <td>desconocido</td>\n",
       "      <td>desconocido</td>\n",
       "      <td>desconocido</td>\n",
       "      <td>NaN</td>\n",
       "      <td>Entre 10 y 20 km</td>\n",
       "    </tr>\n",
       "    <tr>\n",
       "      <th>184</th>\n",
       "      <td>flat</td>\n",
       "      <td>desconocido</td>\n",
       "      <td>600.00</td>\n",
       "      <td>45.00</td>\n",
       "      <td>2 habitaciones</td>\n",
       "      <td>1 aseo</td>\n",
       "      <td>desconocido</td>\n",
       "      <td>desconocido</td>\n",
       "      <td>Madrid</td>\n",
       "      <td>Mataelpino</td>\n",
       "      <td>vista exterior</td>\n",
       "      <td>desconocido</td>\n",
       "      <td>desconocido</td>\n",
       "      <td>desconocido</td>\n",
       "      <td>NaN</td>\n",
       "      <td>Entre 40 y 50 km</td>\n",
       "    </tr>\n",
       "    <tr>\n",
       "      <th>191</th>\n",
       "      <td>flat</td>\n",
       "      <td>desconocido</td>\n",
       "      <td>660.00</td>\n",
       "      <td>155.00</td>\n",
       "      <td>3 habitaciones</td>\n",
       "      <td>2 aseos</td>\n",
       "      <td>desconocido</td>\n",
       "      <td>desconocido</td>\n",
       "      <td>Madrid</td>\n",
       "      <td>Aranjuez</td>\n",
       "      <td>vista interior</td>\n",
       "      <td>desconocido</td>\n",
       "      <td>desconocido</td>\n",
       "      <td>desconocido</td>\n",
       "      <td>NaN</td>\n",
       "      <td>Entre 40 y 50 km</td>\n",
       "    </tr>\n",
       "    <tr>\n",
       "      <th>279</th>\n",
       "      <td>flat</td>\n",
       "      <td>desconocido</td>\n",
       "      <td>725.00</td>\n",
       "      <td>50.00</td>\n",
       "      <td>1 habitacion</td>\n",
       "      <td>1 aseo</td>\n",
       "      <td>desconocido</td>\n",
       "      <td>desconocido</td>\n",
       "      <td>Madrid</td>\n",
       "      <td>Madrid</td>\n",
       "      <td>vista exterior</td>\n",
       "      <td>desconocido</td>\n",
       "      <td>desconocido</td>\n",
       "      <td>desconocido</td>\n",
       "      <td>NaN</td>\n",
       "      <td>Entre 5 y 10 km</td>\n",
       "    </tr>\n",
       "    <tr>\n",
       "      <th>284</th>\n",
       "      <td>flat</td>\n",
       "      <td>desconocido</td>\n",
       "      <td>600.00</td>\n",
       "      <td>75.00</td>\n",
       "      <td>3 habitaciones</td>\n",
       "      <td>1 aseo</td>\n",
       "      <td>desconocido</td>\n",
       "      <td>desconocido</td>\n",
       "      <td>Madrid</td>\n",
       "      <td>Alcalá de Henares</td>\n",
       "      <td>vista exterior</td>\n",
       "      <td>desconocido</td>\n",
       "      <td>desconocido</td>\n",
       "      <td>desconocido</td>\n",
       "      <td>NaN</td>\n",
       "      <td>Entre 20 y 30 km</td>\n",
       "    </tr>\n",
       "  </tbody>\n",
       "</table>\n",
       "</div>"
      ],
      "text/plain": [
       "    propertyType       status  price   size             rooms bathrooms  \\\n",
       "4         studio  desconocido 684.00  45.00  sin habitaciones    1 aseo   \n",
       "51          flat  desconocido 700.00  50.00      1 habitacion   2 aseos   \n",
       "52        duplex  desconocido 750.00  35.00      1 habitacion    1 aseo   \n",
       "106         flat  desconocido 600.00  55.00      1 habitacion    1 aseo   \n",
       "121         flat  desconocido 630.00  54.00      1 habitacion   2 aseos   \n",
       "137       studio  desconocido 700.00  23.00  sin habitaciones    1 aseo   \n",
       "147       duplex  desconocido 600.00  80.00      1 habitacion    1 aseo   \n",
       "148       duplex  desconocido 600.00  80.00      1 habitacion    1 aseo   \n",
       "176         flat  desconocido 675.00  35.00      1 habitacion    1 aseo   \n",
       "183         flat  desconocido 750.00  67.00    3 habitaciones    1 aseo   \n",
       "184         flat  desconocido 600.00  45.00    2 habitaciones    1 aseo   \n",
       "191         flat  desconocido 660.00 155.00    3 habitaciones   2 aseos   \n",
       "279         flat  desconocido 725.00  50.00      1 habitacion    1 aseo   \n",
       "284         flat  desconocido 600.00  75.00    3 habitaciones    1 aseo   \n",
       "\n",
       "           floor     district province           municipality        exterior  \\\n",
       "4    desconocido  desconocido   Madrid                 Madrid  vista exterior   \n",
       "51   desconocido  desconocido   Madrid  Camarma de Esteruelas  vista exterior   \n",
       "52   desconocido  desconocido   Madrid                 Madrid  vista exterior   \n",
       "106  desconocido  desconocido   Madrid      Daganzo de Arriba  vista exterior   \n",
       "121  desconocido  desconocido   Madrid               El Álamo  vista exterior   \n",
       "137  desconocido  desconocido   Madrid                 Madrid  vista exterior   \n",
       "147  desconocido  desconocido   Madrid                 Madrid  vista interior   \n",
       "148  desconocido  desconocido   Madrid                 Madrid  vista interior   \n",
       "176  desconocido  desconocido   Madrid                 Madrid  vista interior   \n",
       "183  desconocido  desconocido   Madrid                 Getafe  vista exterior   \n",
       "184  desconocido  desconocido   Madrid             Mataelpino  vista exterior   \n",
       "191  desconocido  desconocido   Madrid               Aranjuez  vista interior   \n",
       "279  desconocido  desconocido   Madrid                 Madrid  vista exterior   \n",
       "284  desconocido  desconocido   Madrid      Alcalá de Henares  vista exterior   \n",
       "\n",
       "         hasLift      hasPlan    has3DTour has360  distancia_centro  \n",
       "4    desconocido  desconocido  desconocido    NaN  Entre 10 y 20 km  \n",
       "51   desconocido  desconocido  desconocido    NaN  Entre 30 y 40 km  \n",
       "52   desconocido  desconocido  desconocido    NaN    Entre 1 y 5 km  \n",
       "106  desconocido  desconocido  desconocido    NaN  Entre 20 y 30 km  \n",
       "121  desconocido  desconocido  desconocido    NaN  Entre 30 y 40 km  \n",
       "137  desconocido  desconocido  desconocido    NaN    Entre 1 y 5 km  \n",
       "147  desconocido  desconocido  desconocido    NaN   Entre 5 y 10 km  \n",
       "148  desconocido  desconocido  desconocido    NaN   Entre 5 y 10 km  \n",
       "176  desconocido  desconocido  desconocido    NaN    Entre 1 y 5 km  \n",
       "183  desconocido  desconocido  desconocido    NaN  Entre 10 y 20 km  \n",
       "184  desconocido  desconocido  desconocido    NaN  Entre 40 y 50 km  \n",
       "191  desconocido  desconocido  desconocido    NaN  Entre 40 y 50 km  \n",
       "279  desconocido  desconocido  desconocido    NaN   Entre 5 y 10 km  \n",
       "284  desconocido  desconocido  desconocido    NaN  Entre 20 y 30 km  "
      ]
     },
     "execution_count": 53,
     "metadata": {},
     "output_type": "execute_result"
    }
   ],
   "source": [
    "c = df[\"has360\"].isnull() == True\n",
    "df[c]\n"
   ]
  },
  {
   "cell_type": "markdown",
   "metadata": {},
   "source": [
    "#### Habrá que ver si estos datos merece la pena tenerlos, hay muchas cosas desconocidas"
   ]
  },
  {
   "cell_type": "code",
   "execution_count": 54,
   "metadata": {},
   "outputs": [
    {
     "data": {
      "text/plain": [
       "array(['no tiene fotos 360', 'tiene fotos 360', 'desconocido'],\n",
       "      dtype=object)"
      ]
     },
     "execution_count": 54,
     "metadata": {},
     "output_type": "execute_result"
    }
   ],
   "source": [
    "df.loc[df[\"has360\"] == True, \"has360\"] = \"tiene fotos 360\"\n",
    "df.loc[df[\"has360\"] == False, \"has360\"] = \"no tiene fotos 360\"\n",
    "df[\"has360\"] = df[\"has360\"].fillna(\"desconocido\")\n",
    "df[\"has360\"].unique()"
   ]
  },
  {
   "cell_type": "code",
   "execution_count": 55,
   "metadata": {},
   "outputs": [
    {
     "data": {
      "text/plain": [
       "np.int64(0)"
      ]
     },
     "execution_count": 55,
     "metadata": {},
     "output_type": "execute_result"
    }
   ],
   "source": [
    "df[\"has360\"].isnull().sum()"
   ]
  },
  {
   "cell_type": "markdown",
   "metadata": {},
   "source": [
    "### distancia_centro"
   ]
  },
  {
   "cell_type": "code",
   "execution_count": 56,
   "metadata": {},
   "outputs": [
    {
     "data": {
      "text/plain": [
       "np.int64(0)"
      ]
     },
     "execution_count": 56,
     "metadata": {},
     "output_type": "execute_result"
    }
   ],
   "source": [
    "df[\"distancia_centro\"].isnull().sum()"
   ]
  },
  {
   "cell_type": "markdown",
   "metadata": {},
   "source": [
    "# Gestión nulos numéricas\n",
    "- Sin tocar la VR (Precio).\n",
    "- Rellenaremos con IterativeImputer y RandomForest\n",
    "    - Las relaciones son complejas"
   ]
  },
  {
   "cell_type": "code",
   "execution_count": 57,
   "metadata": {},
   "outputs": [
    {
     "data": {
      "text/plain": [
       "propertyType        0\n",
       "status              0\n",
       "price               0\n",
       "size                0\n",
       "rooms               0\n",
       "bathrooms           0\n",
       "floor               0\n",
       "district            0\n",
       "province            0\n",
       "municipality        0\n",
       "exterior            0\n",
       "hasLift             0\n",
       "hasPlan             0\n",
       "has3DTour           0\n",
       "has360              0\n",
       "distancia_centro    0\n",
       "dtype: int64"
      ]
     },
     "execution_count": 57,
     "metadata": {},
     "output_type": "execute_result"
    }
   ],
   "source": [
    "df.isnull().sum()"
   ]
  },
  {
   "cell_type": "markdown",
   "metadata": {},
   "source": [
    "# Modelo 7 eliminar province"
   ]
  },
  {
   "cell_type": "code",
   "execution_count": 58,
   "metadata": {},
   "outputs": [],
   "source": [
    "df.drop(columns=\"province\",inplace=True)"
   ]
  },
  {
   "cell_type": "markdown",
   "metadata": {},
   "source": [
    "# Modelo 8 Eliminar district y has3DTour"
   ]
  },
  {
   "cell_type": "code",
   "execution_count": 59,
   "metadata": {},
   "outputs": [],
   "source": [
    "df.drop(columns=[\"district\",\"has3DTour\"],inplace=True)"
   ]
  },
  {
   "cell_type": "markdown",
   "metadata": {},
   "source": [
    "# Guardamos"
   ]
  },
  {
   "cell_type": "code",
   "execution_count": 60,
   "metadata": {},
   "outputs": [],
   "source": [
    "df.to_csv(\"../../datos/03_api_rent_sin_nulos.csv\",index=False)"
   ]
  }
 ],
 "metadata": {
  "kernelspec": {
   "display_name": "Python 3",
   "language": "python",
   "name": "python3"
  },
  "language_info": {
   "codemirror_mode": {
    "name": "ipython",
    "version": 3
   },
   "file_extension": ".py",
   "mimetype": "text/x-python",
   "name": "python",
   "nbconvert_exporter": "python",
   "pygments_lexer": "ipython3",
   "version": "3.11.9"
  }
 },
 "nbformat": 4,
 "nbformat_minor": 2
}
