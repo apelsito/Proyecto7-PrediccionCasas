{
 "cells": [
  {
   "cell_type": "code",
   "execution_count": 1,
   "metadata": {},
   "outputs": [],
   "source": [
    "# Para gestionar el feature scaling\n",
    "# -----------------------------------------------------------------------\n",
    "from sklearn.preprocessing import MinMaxScaler, Normalizer, StandardScaler, RobustScaler\n",
    "\n",
    "# Tratamiento de datos\n",
    "# -----------------------------------------------------------------------\n",
    "import pandas as pd\n",
    "# Tratamiento de datos\n",
    "# -----------------------------------------------------------------------\n",
    "import matplotlib.pyplot as plt\n",
    "import seaborn as sns\n",
    "\n",
    "import sys\n",
    "sys.path.append(\"../../\")\n",
    "from src.soporte_graficas import (\n",
    "    boxplot_scaler\n",
    ")"
   ]
  },
  {
   "cell_type": "code",
   "execution_count": 2,
   "metadata": {},
   "outputs": [],
   "source": [
    "df = pd.read_csv(\"../../datos/04_rent_target_onehot_encoded.csv\")"
   ]
  },
  {
   "cell_type": "markdown",
   "metadata": {},
   "source": [
    "# Cuales escalar\n",
    "- Todas las no binarias\n"
   ]
  },
  {
   "cell_type": "markdown",
   "metadata": {},
   "source": [
    "# Aplicamos Feature Scaling... Pero ¿Cual?\n",
    "Tenemos los Siguientes pero antes:\n",
    "\n",
    "### ¿Qué importancia tienen los outliers?\n",
    "- **RobustScaler:** Es el mas \"amigable\" con los outliers,genera un rango de 0 a X (depende de cuantos datos tengamos) donde aún manteniendo la distribución los tenemos más juntos, si queremos darles mucho peso es nuestra mejor opción\n",
    "\n",
    "- **StandardScaler:** También es amigable con los outliers, pero genera un rango de 0 a X mucho menos que el anterior, mantiene la distribución, si queremos darles algo de peso a los outliers, este es definitivamente nuestro amigo.\n",
    "\n",
    "- **MinMaxScaler:** Genera un rango de 0 a 1 donde mantiene la distribución original pero está todo mucho más comprimido, aquí los outliers no se van a poder apreciar, así que si no te interesan y tus datos no están normalizados... es tu opción\n",
    "\n",
    "- **Normalizer:** Tus datos están normalizados y no te interesan los outliers?, Está es tu opción, Genera un Rango de -1 a 1 en donde mantiene la distribución (como el resto). Es solo para datos normalizados, algo que veremos poco por aquí... \n"
   ]
  },
  {
   "cell_type": "code",
   "execution_count": 3,
   "metadata": {},
   "outputs": [
    {
     "name": "stdout",
     "output_type": "stream",
     "text": [
      "<class 'pandas.core.frame.DataFrame'>\n",
      "RangeIndex: 442 entries, 0 to 441\n",
      "Data columns (total 39 columns):\n",
      " #   Column                     Non-Null Count  Dtype  \n",
      "---  ------                     --------------  -----  \n",
      " 0   price                      442 non-null    float64\n",
      " 1   size                       442 non-null    float64\n",
      " 2   bathrooms                  442 non-null    float64\n",
      " 3   distancia_centro           442 non-null    float64\n",
      " 4   municipality               442 non-null    float64\n",
      " 5   propertyType_chalet        442 non-null    float64\n",
      " 6   propertyType_countryHouse  442 non-null    float64\n",
      " 7   propertyType_duplex        442 non-null    float64\n",
      " 8   propertyType_flat          442 non-null    float64\n",
      " 9   propertyType_penthouse     442 non-null    float64\n",
      " 10  propertyType_studio        442 non-null    float64\n",
      " 11  status_desconocido         442 non-null    float64\n",
      " 12  status_good                442 non-null    float64\n",
      " 13  status_newdevelopment      442 non-null    float64\n",
      " 14  status_renew               442 non-null    float64\n",
      " 15  rooms_1 habitacion         442 non-null    float64\n",
      " 16  rooms_2 habitaciones       442 non-null    float64\n",
      " 17  rooms_3 habitaciones       442 non-null    float64\n",
      " 18  rooms_4 habitaciones       442 non-null    float64\n",
      " 19  rooms_6 habitaciones       442 non-null    float64\n",
      " 20  rooms_sin habitaciones     442 non-null    float64\n",
      " 21  floor_bajo                 442 non-null    float64\n",
      " 22  floor_cuarto               442 non-null    float64\n",
      " 23  floor_decimo cuarto        442 non-null    float64\n",
      " 24  floor_desconocido          442 non-null    float64\n",
      " 25  floor_entreplanta          442 non-null    float64\n",
      " 26  floor_octavo               442 non-null    float64\n",
      " 27  floor_primero              442 non-null    float64\n",
      " 28  floor_quinto               442 non-null    float64\n",
      " 29  floor_segundo              442 non-null    float64\n",
      " 30  floor_septimo              442 non-null    float64\n",
      " 31  floor_sexto                442 non-null    float64\n",
      " 32  floor_sotano               442 non-null    float64\n",
      " 33  floor_tercero              442 non-null    float64\n",
      " 34  exterior_vista exterior    442 non-null    float64\n",
      " 35  exterior_vista interior    442 non-null    float64\n",
      " 36  hasLift_desconocido        442 non-null    float64\n",
      " 37  hasLift_no tiene ascensor  442 non-null    float64\n",
      " 38  hasLift_tiene ascensor     442 non-null    float64\n",
      "dtypes: float64(39)\n",
      "memory usage: 134.8 KB\n"
     ]
    }
   ],
   "source": [
    "df.info()"
   ]
  },
  {
   "cell_type": "markdown",
   "metadata": {},
   "source": [
    "# Vamos a usar RobustScaler\n",
    "- Quiero mantener los outliers con peso, pueden aportar valor"
   ]
  },
  {
   "cell_type": "code",
   "execution_count": 4,
   "metadata": {},
   "outputs": [],
   "source": [
    "cols_escalar = [\"size\",\"bathrooms\",\"municipality\",\"distancia_centro\"]\n",
    "escalador_robust = RobustScaler()\n",
    "datos_transf_robust = escalador_robust.fit_transform(df[cols_escalar])\n",
    "df_c = pd.DataFrame(datos_transf_robust,columns=df[cols_escalar].columns)\n",
    "df.drop(columns=cols_escalar, inplace=True)\n",
    "df = pd.concat([df_c,df],axis=1)"
   ]
  },
  {
   "cell_type": "code",
   "execution_count": 5,
   "metadata": {},
   "outputs": [
    {
     "data": {
      "text/html": [
       "<div>\n",
       "<style scoped>\n",
       "    .dataframe tbody tr th:only-of-type {\n",
       "        vertical-align: middle;\n",
       "    }\n",
       "\n",
       "    .dataframe tbody tr th {\n",
       "        vertical-align: top;\n",
       "    }\n",
       "\n",
       "    .dataframe thead th {\n",
       "        text-align: right;\n",
       "    }\n",
       "</style>\n",
       "<table border=\"1\" class=\"dataframe\">\n",
       "  <thead>\n",
       "    <tr style=\"text-align: right;\">\n",
       "      <th></th>\n",
       "      <th>size</th>\n",
       "      <th>bathrooms</th>\n",
       "      <th>municipality</th>\n",
       "      <th>distancia_centro</th>\n",
       "      <th>price</th>\n",
       "      <th>propertyType_chalet</th>\n",
       "      <th>propertyType_countryHouse</th>\n",
       "      <th>propertyType_duplex</th>\n",
       "      <th>propertyType_flat</th>\n",
       "      <th>propertyType_penthouse</th>\n",
       "      <th>...</th>\n",
       "      <th>floor_segundo</th>\n",
       "      <th>floor_septimo</th>\n",
       "      <th>floor_sexto</th>\n",
       "      <th>floor_sotano</th>\n",
       "      <th>floor_tercero</th>\n",
       "      <th>exterior_vista exterior</th>\n",
       "      <th>exterior_vista interior</th>\n",
       "      <th>hasLift_desconocido</th>\n",
       "      <th>hasLift_no tiene ascensor</th>\n",
       "      <th>hasLift_tiene ascensor</th>\n",
       "    </tr>\n",
       "  </thead>\n",
       "  <tbody>\n",
       "    <tr>\n",
       "      <th>36</th>\n",
       "      <td>0.82963</td>\n",
       "      <td>0.0</td>\n",
       "      <td>0.0</td>\n",
       "      <td>-1.530655</td>\n",
       "      <td>750.0</td>\n",
       "      <td>0.0</td>\n",
       "      <td>0.0</td>\n",
       "      <td>0.0</td>\n",
       "      <td>1.0</td>\n",
       "      <td>0.0</td>\n",
       "      <td>...</td>\n",
       "      <td>0.0</td>\n",
       "      <td>0.0</td>\n",
       "      <td>0.0</td>\n",
       "      <td>0.0</td>\n",
       "      <td>0.0</td>\n",
       "      <td>1.0</td>\n",
       "      <td>0.0</td>\n",
       "      <td>0.0</td>\n",
       "      <td>1.0</td>\n",
       "      <td>0.0</td>\n",
       "    </tr>\n",
       "  </tbody>\n",
       "</table>\n",
       "<p>1 rows × 39 columns</p>\n",
       "</div>"
      ],
      "text/plain": [
       "       size  bathrooms  municipality  distancia_centro  price  \\\n",
       "36  0.82963        0.0           0.0         -1.530655  750.0   \n",
       "\n",
       "    propertyType_chalet  propertyType_countryHouse  propertyType_duplex  \\\n",
       "36                  0.0                        0.0                  0.0   \n",
       "\n",
       "    propertyType_flat  propertyType_penthouse  ...  floor_segundo  \\\n",
       "36                1.0                     0.0  ...            0.0   \n",
       "\n",
       "    floor_septimo  floor_sexto  floor_sotano  floor_tercero  \\\n",
       "36            0.0          0.0           0.0            0.0   \n",
       "\n",
       "    exterior_vista exterior  exterior_vista interior  hasLift_desconocido  \\\n",
       "36                      1.0                      0.0                  0.0   \n",
       "\n",
       "    hasLift_no tiene ascensor  hasLift_tiene ascensor  \n",
       "36                        1.0                     0.0  \n",
       "\n",
       "[1 rows x 39 columns]"
      ]
     },
     "execution_count": 5,
     "metadata": {},
     "output_type": "execute_result"
    }
   ],
   "source": [
    "df.sample()"
   ]
  },
  {
   "cell_type": "code",
   "execution_count": 6,
   "metadata": {},
   "outputs": [
    {
     "data": {
      "image/png": "[encoded data removed]",
      "text/plain": [
       "<Figure size 1500x1000 with 4 Axes>"
      ]
     },
     "metadata": {},
     "output_type": "display_data"
    }
   ],
   "source": [
    "cols_escalar = [\"size\",\"bathrooms\",\"municipality\",\"distancia_centro\"]\n",
    "boxplot_scaler(df,cols_escalar,\"Robust\")"
   ]
  },
  {
   "cell_type": "code",
   "execution_count": 7,
   "metadata": {},
   "outputs": [],
   "source": [
    "df.to_csv(\"../../datos/05_rent_featuredscaled.csv\",index=False)"
   ]
  }
 ],
 "metadata": {
  "kernelspec": {
   "display_name": "Python 3",
   "language": "python",
   "name": "python3"
  },
  "language_info": {
   "codemirror_mode": {
    "name": "ipython",
    "version": 3
   },
   "file_extension": ".py",
   "mimetype": "text/x-python",
   "name": "python",
   "nbconvert_exporter": "python",
   "pygments_lexer": "ipython3",
   "version": "3.11.9"
  }
 },
 "nbformat": 4,
 "nbformat_minor": 2
}
