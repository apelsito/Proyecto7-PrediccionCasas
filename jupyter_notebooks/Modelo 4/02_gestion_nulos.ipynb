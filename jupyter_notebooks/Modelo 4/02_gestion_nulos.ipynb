{
 "cells": [
  {
   "cell_type": "code",
   "execution_count": 59,
   "metadata": {},
   "outputs": [],
   "source": [
    "# Tratamiento de datos\n",
    "# -----------------------------------------------------------------------\n",
    "import numpy as np\n",
    "import pandas as pd\n",
    "pd.set_option('display.float_format', '{:.2f}'.format)\n",
    "\n",
    "\n",
    "# Imputación de nulos usando métodos avanzados estadísticos\n",
    "# -----------------------------------------------------------------------\n",
    "from sklearn.impute import SimpleImputer\n",
    "from sklearn.experimental import enable_iterative_imputer\n",
    "from sklearn.impute import IterativeImputer\n",
    "from sklearn.impute import KNNImputer\n",
    "from sklearn.ensemble import RandomForestRegressor\n",
    "\n",
    "import warnings\n",
    "warnings.filterwarnings(\"ignore\")\n",
    "pd.set_option('display.max_columns',100)\n"
   ]
  },
  {
   "cell_type": "code",
   "execution_count": 60,
   "metadata": {},
   "outputs": [
    {
     "data": {
      "text/html": [
       "<div>\n",
       "<style scoped>\n",
       "    .dataframe tbody tr th:only-of-type {\n",
       "        vertical-align: middle;\n",
       "    }\n",
       "\n",
       "    .dataframe tbody tr th {\n",
       "        vertical-align: top;\n",
       "    }\n",
       "\n",
       "    .dataframe thead th {\n",
       "        text-align: right;\n",
       "    }\n",
       "</style>\n",
       "<table border=\"1\" class=\"dataframe\">\n",
       "  <thead>\n",
       "    <tr style=\"text-align: right;\">\n",
       "      <th></th>\n",
       "      <th>propertyType</th>\n",
       "      <th>status</th>\n",
       "      <th>price</th>\n",
       "      <th>size</th>\n",
       "      <th>rooms</th>\n",
       "      <th>bathrooms</th>\n",
       "      <th>floor</th>\n",
       "      <th>neighborhood</th>\n",
       "      <th>address</th>\n",
       "      <th>district</th>\n",
       "      <th>province</th>\n",
       "      <th>municipality</th>\n",
       "      <th>exterior</th>\n",
       "      <th>hasLift</th>\n",
       "      <th>hasPlan</th>\n",
       "      <th>has3DTour</th>\n",
       "      <th>has360</th>\n",
       "      <th>distance</th>\n",
       "    </tr>\n",
       "  </thead>\n",
       "  <tbody>\n",
       "    <tr>\n",
       "      <th>290</th>\n",
       "      <td>flat</td>\n",
       "      <td>good</td>\n",
       "      <td>730.00</td>\n",
       "      <td>35.00</td>\n",
       "      <td>1</td>\n",
       "      <td>1</td>\n",
       "      <td>2</td>\n",
       "      <td>Chueca-Justicia</td>\n",
       "      <td>Hernán Cortes</td>\n",
       "      <td>Centro</td>\n",
       "      <td>Madrid</td>\n",
       "      <td>Madrid</td>\n",
       "      <td>False</td>\n",
       "      <td>True</td>\n",
       "      <td>False</td>\n",
       "      <td>False</td>\n",
       "      <td>False</td>\n",
       "      <td>760</td>\n",
       "    </tr>\n",
       "  </tbody>\n",
       "</table>\n",
       "</div>"
      ],
      "text/plain": [
       "    propertyType status  price  size  rooms  bathrooms floor     neighborhood  \\\n",
       "290         flat   good 730.00 35.00      1          1     2  Chueca-Justicia   \n",
       "\n",
       "           address district province municipality  exterior hasLift hasPlan  \\\n",
       "290  Hernán Cortes   Centro   Madrid       Madrid     False    True   False   \n",
       "\n",
       "    has3DTour has360  distance  \n",
       "290     False  False       760  "
      ]
     },
     "execution_count": 60,
     "metadata": {},
     "output_type": "execute_result"
    }
   ],
   "source": [
    "df = pd.read_csv(\"../../datos/02_api_rent_limpieza_cols.csv\")\n",
    "df.sample()"
   ]
  },
  {
   "cell_type": "markdown",
   "metadata": {},
   "source": [
    "# Gestión de Valores erróneos\n",
    "Vamos a revisarlos en:\n",
    "- Precio\n",
    "- pricebyarea\n",
    "- size\n",
    "- rooms\n",
    "- bathrooms\n"
   ]
  },
  {
   "cell_type": "code",
   "execution_count": 61,
   "metadata": {},
   "outputs": [
    {
     "data": {
      "text/plain": [
       "array(['Toledo', 'Madrid', 'Guadalajara', 'Segovia', 'Ávila'],\n",
       "      dtype=object)"
      ]
     },
     "execution_count": 61,
     "metadata": {},
     "output_type": "execute_result"
    }
   ],
   "source": [
    "df[\"province\"].unique()"
   ]
  },
  {
   "cell_type": "code",
   "execution_count": 62,
   "metadata": {},
   "outputs": [
    {
     "data": {
      "text/plain": [
       "array([550., 750., 400., 450., 590., 684., 600., 700., 695., 650., 675.,\n",
       "       500., 680., 747., 730., 640., 530., 625., 720., 699., 620., 595.,\n",
       "       725., 666., 630., 635., 740., 690., 624., 633., 645., 735., 705.,\n",
       "       710., 610., 580., 560., 670., 723., 660., 692., 609., 718., 694.,\n",
       "       658., 728., 495., 715., 475., 470., 749., 667., 340., 525., 685.,\n",
       "       460., 350., 430., 380., 733., 605., 480., 745.])"
      ]
     },
     "execution_count": 62,
     "metadata": {},
     "output_type": "execute_result"
    }
   ],
   "source": [
    "df[\"price\"].unique()"
   ]
  },
  {
   "cell_type": "markdown",
   "metadata": {},
   "source": [
    "No se ven anómalos"
   ]
  },
  {
   "cell_type": "markdown",
   "metadata": {},
   "source": [
    "### size"
   ]
  },
  {
   "cell_type": "code",
   "execution_count": 63,
   "metadata": {},
   "outputs": [
    {
     "data": {
      "text/plain": [
       "0     371.00\n",
       "407   341.00\n",
       "260   238.00\n",
       "71    230.00\n",
       "237   216.00\n",
       "Name: size, dtype: float64"
      ]
     },
     "execution_count": 63,
     "metadata": {},
     "output_type": "execute_result"
    }
   ],
   "source": [
    "df[\"size\"].nlargest(5)"
   ]
  },
  {
   "cell_type": "code",
   "execution_count": 64,
   "metadata": {},
   "outputs": [
    {
     "data": {
      "text/plain": [
       "335   20.00\n",
       "169   23.00\n",
       "280   23.00\n",
       "34    25.00\n",
       "133   25.00\n",
       "Name: size, dtype: float64"
      ]
     },
     "execution_count": 64,
     "metadata": {},
     "output_type": "execute_result"
    }
   ],
   "source": [
    "df[\"size\"].nsmallest(5)"
   ]
  },
  {
   "cell_type": "markdown",
   "metadata": {},
   "source": [
    "No parece erróneos"
   ]
  },
  {
   "cell_type": "markdown",
   "metadata": {},
   "source": [
    "### rooms"
   ]
  },
  {
   "cell_type": "code",
   "execution_count": 65,
   "metadata": {},
   "outputs": [
    {
     "data": {
      "text/plain": [
       "array([6, 1, 2, 3, 0, 4])"
      ]
     },
     "execution_count": 65,
     "metadata": {},
     "output_type": "execute_result"
    }
   ],
   "source": [
    "df[\"rooms\"].unique()"
   ]
  },
  {
   "cell_type": "markdown",
   "metadata": {},
   "source": [
    "0 es que son estudios"
   ]
  },
  {
   "cell_type": "markdown",
   "metadata": {},
   "source": [
    "### bathrooms"
   ]
  },
  {
   "cell_type": "code",
   "execution_count": 66,
   "metadata": {},
   "outputs": [
    {
     "data": {
      "text/plain": [
       "array([3, 1, 2])"
      ]
     },
     "execution_count": 66,
     "metadata": {},
     "output_type": "execute_result"
    }
   ],
   "source": [
    "df[\"bathrooms\"].unique()"
   ]
  },
  {
   "cell_type": "markdown",
   "metadata": {},
   "source": [
    "No se ven valores erróneos"
   ]
  },
  {
   "cell_type": "markdown",
   "metadata": {},
   "source": [
    "# Corregir \"floor\"\n",
    "- Vamos a pasar todo a texto para que sea una categórica"
   ]
  },
  {
   "cell_type": "code",
   "execution_count": 67,
   "metadata": {},
   "outputs": [
    {
     "data": {
      "text/plain": [
       "array([nan, '3', 'bj', '2', '1', '5', 'en', '4', 'st', '8', '7', '6',\n",
       "       '14', 'ss'], dtype=object)"
      ]
     },
     "execution_count": 67,
     "metadata": {},
     "output_type": "execute_result"
    }
   ],
   "source": [
    "df[\"floor\"].unique()"
   ]
  },
  {
   "cell_type": "markdown",
   "metadata": {},
   "source": [
    "### Generamos un diccionario para aplicar los cambios"
   ]
  },
  {
   "cell_type": "code",
   "execution_count": 68,
   "metadata": {},
   "outputs": [
    {
     "data": {
      "text/plain": [
       "array([nan, 'tercero', 'bajo', 'segundo', 'primero', 'quinto',\n",
       "       'entreplanta', 'cuarto', 'sotano', 'octavo', 'septimo', 'sexto',\n",
       "       'decimo cuarto'], dtype=object)"
      ]
     },
     "execution_count": 68,
     "metadata": {},
     "output_type": "execute_result"
    }
   ],
   "source": [
    "diccionario_pisos = {\n",
    "    \"1\": \"primero\",\n",
    "    \"2\": \"segundo\",\n",
    "    \"3\": \"tercero\",\n",
    "    \"4\": \"cuarto\",\n",
    "    \"5\": \"quinto\",\n",
    "    \"6\": \"sexto\",\n",
    "    \"7\": \"septimo\",\n",
    "    \"8\": \"octavo\",\n",
    "    \"14\": \"decimo cuarto\",\n",
    "    \"bj\": \"bajo\",\n",
    "    \"en\": \"entreplanta\",\n",
    "    \"ss\": \"sotano\",\n",
    "    \"st\": \"sotano\",\n",
    "}\n",
    "\n",
    "df[\"floor\"] = df[\"floor\"].map(diccionario_pisos)\n",
    "df[\"floor\"].unique()\n"
   ]
  },
  {
   "cell_type": "markdown",
   "metadata": {},
   "source": [
    "# Corregir Bathrooms\n",
    "- Vamos a pasar todo a texto para que sea una categórica"
   ]
  },
  {
   "cell_type": "code",
   "execution_count": 69,
   "metadata": {},
   "outputs": [
    {
     "data": {
      "text/plain": [
       "array([3, 1, 2])"
      ]
     },
     "execution_count": 69,
     "metadata": {},
     "output_type": "execute_result"
    }
   ],
   "source": [
    "df[\"bathrooms\"].unique()"
   ]
  },
  {
   "cell_type": "code",
   "execution_count": 70,
   "metadata": {},
   "outputs": [],
   "source": [
    "df.loc[df[\"bathrooms\"] == 1, \"bathrooms\"] = \"1 aseo\"\n",
    "df.loc[df[\"bathrooms\"] == 2, \"bathrooms\"] = \"2 aseos\"\n",
    "df.loc[df[\"bathrooms\"] == 3, \"bathrooms\"] = \"3 aseos\""
   ]
  },
  {
   "cell_type": "code",
   "execution_count": 71,
   "metadata": {},
   "outputs": [
    {
     "data": {
      "text/plain": [
       "array(['3 aseos', '1 aseo', '2 aseos'], dtype=object)"
      ]
     },
     "execution_count": 71,
     "metadata": {},
     "output_type": "execute_result"
    }
   ],
   "source": [
    "df[\"bathrooms\"].unique()"
   ]
  },
  {
   "cell_type": "markdown",
   "metadata": {},
   "source": [
    "# Corregir rooms\n",
    "- Vamos a pasar todo a texto para que sea una categórica"
   ]
  },
  {
   "cell_type": "code",
   "execution_count": 72,
   "metadata": {},
   "outputs": [
    {
     "data": {
      "text/plain": [
       "array([6, 1, 2, 3, 0, 4])"
      ]
     },
     "execution_count": 72,
     "metadata": {},
     "output_type": "execute_result"
    }
   ],
   "source": [
    "df[\"rooms\"].unique()"
   ]
  },
  {
   "cell_type": "code",
   "execution_count": 73,
   "metadata": {},
   "outputs": [],
   "source": [
    "df.loc[df[\"rooms\"] == 0, \"rooms\"] = \"sin habitaciones\"\n",
    "df.loc[df[\"rooms\"] == 1, \"rooms\"] = \"1 habitacion\"\n",
    "df.loc[df[\"rooms\"] == 2, \"rooms\"] = \"2 habitaciones\"\n",
    "df.loc[df[\"rooms\"] == 3, \"rooms\"] = \"3 habitaciones\"\n",
    "df.loc[df[\"rooms\"] == 4, \"rooms\"] = \"4 habitaciones\"\n",
    "df.loc[df[\"rooms\"] == 6, \"rooms\"] = \"6 habitaciones\""
   ]
  },
  {
   "cell_type": "code",
   "execution_count": 74,
   "metadata": {},
   "outputs": [
    {
     "data": {
      "text/plain": [
       "array(['6 habitaciones', '1 habitacion', '2 habitaciones',\n",
       "       '3 habitaciones', 'sin habitaciones', '4 habitaciones'],\n",
       "      dtype=object)"
      ]
     },
     "execution_count": 74,
     "metadata": {},
     "output_type": "execute_result"
    }
   ],
   "source": [
    "df[\"rooms\"].unique()"
   ]
  },
  {
   "cell_type": "markdown",
   "metadata": {},
   "source": [
    "# Reducción / Simplificación de columnas\n",
    "- Vamos a quitarnos todo lo que:\n",
    "    - Especifique demasiado para el precio\n",
    "- Vamos a simplificar todo lo que:\n",
    "    - Especifique demasiado, pero al generalizarlo, aporte valor"
   ]
  },
  {
   "cell_type": "code",
   "execution_count": 75,
   "metadata": {},
   "outputs": [
    {
     "data": {
      "text/html": [
       "<div>\n",
       "<style scoped>\n",
       "    .dataframe tbody tr th:only-of-type {\n",
       "        vertical-align: middle;\n",
       "    }\n",
       "\n",
       "    .dataframe tbody tr th {\n",
       "        vertical-align: top;\n",
       "    }\n",
       "\n",
       "    .dataframe thead th {\n",
       "        text-align: right;\n",
       "    }\n",
       "</style>\n",
       "<table border=\"1\" class=\"dataframe\">\n",
       "  <thead>\n",
       "    <tr style=\"text-align: right;\">\n",
       "      <th></th>\n",
       "      <th>propertyType</th>\n",
       "      <th>status</th>\n",
       "      <th>price</th>\n",
       "      <th>size</th>\n",
       "      <th>rooms</th>\n",
       "      <th>bathrooms</th>\n",
       "      <th>floor</th>\n",
       "      <th>neighborhood</th>\n",
       "      <th>address</th>\n",
       "      <th>district</th>\n",
       "      <th>province</th>\n",
       "      <th>municipality</th>\n",
       "      <th>exterior</th>\n",
       "      <th>hasLift</th>\n",
       "      <th>hasPlan</th>\n",
       "      <th>has3DTour</th>\n",
       "      <th>has360</th>\n",
       "      <th>distance</th>\n",
       "    </tr>\n",
       "  </thead>\n",
       "  <tbody>\n",
       "    <tr>\n",
       "      <th>339</th>\n",
       "      <td>flat</td>\n",
       "      <td>good</td>\n",
       "      <td>750.00</td>\n",
       "      <td>87.00</td>\n",
       "      <td>3 habitaciones</td>\n",
       "      <td>1 aseo</td>\n",
       "      <td>bajo</td>\n",
       "      <td>NaN</td>\n",
       "      <td>Calle Ecuador</td>\n",
       "      <td>La Espinilla - Parque Blanco</td>\n",
       "      <td>Madrid</td>\n",
       "      <td>Coslada</td>\n",
       "      <td>True</td>\n",
       "      <td>True</td>\n",
       "      <td>False</td>\n",
       "      <td>False</td>\n",
       "      <td>False</td>\n",
       "      <td>12519</td>\n",
       "    </tr>\n",
       "  </tbody>\n",
       "</table>\n",
       "</div>"
      ],
      "text/plain": [
       "    propertyType status  price  size           rooms bathrooms floor  \\\n",
       "339         flat   good 750.00 87.00  3 habitaciones    1 aseo  bajo   \n",
       "\n",
       "    neighborhood        address                      district province  \\\n",
       "339          NaN  Calle Ecuador  La Espinilla - Parque Blanco   Madrid   \n",
       "\n",
       "    municipality  exterior hasLift hasPlan has3DTour has360  distance  \n",
       "339      Coslada      True    True   False     False  False     12519  "
      ]
     },
     "execution_count": 75,
     "metadata": {},
     "output_type": "execute_result"
    }
   ],
   "source": [
    "df.sample()"
   ]
  },
  {
   "cell_type": "markdown",
   "metadata": {},
   "source": [
    "### Dropeamos\n",
    "- address: No se puede generalizar"
   ]
  },
  {
   "cell_type": "code",
   "execution_count": 76,
   "metadata": {},
   "outputs": [],
   "source": [
    "df.drop(columns=\"address\",inplace=True)"
   ]
  },
  {
   "cell_type": "markdown",
   "metadata": {},
   "source": [
    "### Generalizamos\n",
    "- distance: Lo haremos por rangos de distancia al centro"
   ]
  },
  {
   "cell_type": "code",
   "execution_count": 77,
   "metadata": {},
   "outputs": [
    {
     "data": {
      "text/plain": [
       "330    59919\n",
       "359    59674\n",
       "361    59601\n",
       "293    59351\n",
       "352    59106\n",
       "Name: distance, dtype: int64"
      ]
     },
     "execution_count": 77,
     "metadata": {},
     "output_type": "execute_result"
    }
   ],
   "source": [
    "df[\"distance\"].nlargest()"
   ]
  },
  {
   "cell_type": "code",
   "execution_count": 78,
   "metadata": {},
   "outputs": [
    {
     "data": {
      "text/plain": [
       "133    183\n",
       "154    470\n",
       "34     533\n",
       "168    625\n",
       "394    691\n",
       "Name: distance, dtype: int64"
      ]
     },
     "execution_count": 78,
     "metadata": {},
     "output_type": "execute_result"
    }
   ],
   "source": [
    "df[\"distance\"].nsmallest()"
   ]
  },
  {
   "cell_type": "code",
   "execution_count": 79,
   "metadata": {},
   "outputs": [],
   "source": [
    "df[\"distancia_centro\"] = \"unknown\"\n",
    "df.loc[df[\"distance\"].between(0,1000,inclusive=\"left\"), \"distancia_centro\"] = \"Menos de 1 km\"\n",
    "df.loc[df[\"distance\"].between(1000,5000,inclusive=\"left\"), \"distancia_centro\"] = \"Entre 1 y 5 km\"\n",
    "df.loc[df[\"distance\"].between(5000,10000,inclusive=\"left\"), \"distancia_centro\"] =  \"Entre 5 y 10 km\"\n",
    "df.loc[df[\"distance\"].between(10000,20000,inclusive=\"left\"), \"distancia_centro\"] = \"Entre 10 y 20 km\"\n",
    "df.loc[df[\"distance\"].between(20000,30000,inclusive=\"left\"), \"distancia_centro\"] = \"Entre 20 y 30 km\"\n",
    "df.loc[df[\"distance\"].between(30000,40000,inclusive=\"left\"), \"distancia_centro\"] = \"Entre 30 y 40 km\"\n",
    "df.loc[df[\"distance\"].between(40000,50000,inclusive=\"both\"), \"distancia_centro\"] = \"Entre 40 y 50 km\"\n",
    "df.loc[df[\"distance\"] > 50000, \"distancia_centro\"] = \"Mas de 50 km\""
   ]
  },
  {
   "cell_type": "code",
   "execution_count": 80,
   "metadata": {},
   "outputs": [
    {
     "data": {
      "text/plain": [
       "distancia_centro\n",
       "Entre 5 y 10 km     82\n",
       "Entre 20 y 30 km    74\n",
       "Entre 10 y 20 km    65\n",
       "Entre 30 y 40 km    62\n",
       "Entre 1 y 5 km      62\n",
       "Entre 40 y 50 km    45\n",
       "Mas de 50 km        40\n",
       "Menos de 1 km       12\n",
       "Name: count, dtype: int64"
      ]
     },
     "execution_count": 80,
     "metadata": {},
     "output_type": "execute_result"
    }
   ],
   "source": [
    "df[\"distancia_centro\"].value_counts()"
   ]
  },
  {
   "cell_type": "markdown",
   "metadata": {},
   "source": [
    "# Dropeamos distance"
   ]
  },
  {
   "cell_type": "code",
   "execution_count": 81,
   "metadata": {},
   "outputs": [],
   "source": [
    "df.drop(columns=\"distance\",inplace=True)"
   ]
  },
  {
   "cell_type": "markdown",
   "metadata": {},
   "source": [
    "# Gestionar nulos variables categóricas\n",
    "- Las booleanas las volvemos categóricas\n",
    "- Los nans los pondremos en desconocido"
   ]
  },
  {
   "cell_type": "code",
   "execution_count": 82,
   "metadata": {},
   "outputs": [
    {
     "name": "stdout",
     "output_type": "stream",
     "text": [
      "<class 'pandas.core.frame.DataFrame'>\n",
      "RangeIndex: 442 entries, 0 to 441\n",
      "Data columns (total 17 columns):\n",
      " #   Column            Non-Null Count  Dtype  \n",
      "---  ------            --------------  -----  \n",
      " 0   propertyType      442 non-null    object \n",
      " 1   status            424 non-null    object \n",
      " 2   price             442 non-null    float64\n",
      " 3   size              442 non-null    float64\n",
      " 4   rooms             442 non-null    object \n",
      " 5   bathrooms         442 non-null    object \n",
      " 6   floor             361 non-null    object \n",
      " 7   neighborhood      174 non-null    object \n",
      " 8   district          333 non-null    object \n",
      " 9   province          442 non-null    object \n",
      " 10  municipality      442 non-null    object \n",
      " 11  exterior          442 non-null    bool   \n",
      " 12  hasLift           411 non-null    object \n",
      " 13  hasPlan           424 non-null    object \n",
      " 14  has3DTour         424 non-null    object \n",
      " 15  has360            424 non-null    object \n",
      " 16  distancia_centro  442 non-null    object \n",
      "dtypes: bool(1), float64(2), object(14)\n",
      "memory usage: 55.8+ KB\n"
     ]
    }
   ],
   "source": [
    "df.info()"
   ]
  },
  {
   "cell_type": "markdown",
   "metadata": {},
   "source": [
    "### propertyType"
   ]
  },
  {
   "cell_type": "code",
   "execution_count": 83,
   "metadata": {},
   "outputs": [
    {
     "data": {
      "text/plain": [
       "np.int64(0)"
      ]
     },
     "execution_count": 83,
     "metadata": {},
     "output_type": "execute_result"
    }
   ],
   "source": [
    "df[\"propertyType\"].isnull().sum()"
   ]
  },
  {
   "cell_type": "markdown",
   "metadata": {},
   "source": [
    "### status"
   ]
  },
  {
   "cell_type": "code",
   "execution_count": 84,
   "metadata": {},
   "outputs": [
    {
     "data": {
      "text/plain": [
       "np.int64(18)"
      ]
     },
     "execution_count": 84,
     "metadata": {},
     "output_type": "execute_result"
    }
   ],
   "source": [
    "df[\"status\"].isnull().sum()"
   ]
  },
  {
   "cell_type": "code",
   "execution_count": 85,
   "metadata": {},
   "outputs": [
    {
     "data": {
      "text/plain": [
       "array(['good', 'desconocido', 'newdevelopment', 'renew'], dtype=object)"
      ]
     },
     "execution_count": 85,
     "metadata": {},
     "output_type": "execute_result"
    }
   ],
   "source": [
    "df[\"status\"]= df[\"status\"].fillna(\"desconocido\")\n",
    "df[\"status\"].unique()"
   ]
  },
  {
   "cell_type": "code",
   "execution_count": 86,
   "metadata": {},
   "outputs": [
    {
     "data": {
      "text/plain": [
       "np.int64(0)"
      ]
     },
     "execution_count": 86,
     "metadata": {},
     "output_type": "execute_result"
    }
   ],
   "source": [
    "df[\"status\"].isnull().sum()"
   ]
  },
  {
   "cell_type": "markdown",
   "metadata": {},
   "source": [
    "### floor"
   ]
  },
  {
   "cell_type": "code",
   "execution_count": 87,
   "metadata": {},
   "outputs": [
    {
     "data": {
      "text/plain": [
       "np.int64(81)"
      ]
     },
     "execution_count": 87,
     "metadata": {},
     "output_type": "execute_result"
    }
   ],
   "source": [
    "df[\"floor\"].isnull().sum()"
   ]
  },
  {
   "cell_type": "code",
   "execution_count": 88,
   "metadata": {},
   "outputs": [
    {
     "data": {
      "text/plain": [
       "array(['desconocido', 'tercero', 'bajo', 'segundo', 'primero', 'quinto',\n",
       "       'entreplanta', 'cuarto', 'sotano', 'octavo', 'septimo', 'sexto',\n",
       "       'decimo cuarto'], dtype=object)"
      ]
     },
     "execution_count": 88,
     "metadata": {},
     "output_type": "execute_result"
    }
   ],
   "source": [
    "df[\"floor\"]= df[\"floor\"].fillna(\"desconocido\")\n",
    "df[\"floor\"].unique()"
   ]
  },
  {
   "cell_type": "code",
   "execution_count": 89,
   "metadata": {},
   "outputs": [
    {
     "data": {
      "text/plain": [
       "np.int64(0)"
      ]
     },
     "execution_count": 89,
     "metadata": {},
     "output_type": "execute_result"
    }
   ],
   "source": [
    "df[\"floor\"].isnull().sum()"
   ]
  },
  {
   "cell_type": "markdown",
   "metadata": {},
   "source": [
    "### neighborhood (Dropear Columna)\n",
    "- Demasiados nulos, no tiene sentido"
   ]
  },
  {
   "cell_type": "code",
   "execution_count": 90,
   "metadata": {},
   "outputs": [
    {
     "data": {
      "text/plain": [
       "np.int64(268)"
      ]
     },
     "execution_count": 90,
     "metadata": {},
     "output_type": "execute_result"
    }
   ],
   "source": [
    "df[\"neighborhood\"].isnull().sum()"
   ]
  },
  {
   "cell_type": "code",
   "execution_count": 91,
   "metadata": {},
   "outputs": [],
   "source": [
    "df.drop(columns=\"neighborhood\",inplace=True)"
   ]
  },
  {
   "cell_type": "markdown",
   "metadata": {},
   "source": [
    "### district\n",
    "- Tal vez especifique demasiado"
   ]
  },
  {
   "cell_type": "code",
   "execution_count": 92,
   "metadata": {},
   "outputs": [
    {
     "data": {
      "text/plain": [
       "np.int64(109)"
      ]
     },
     "execution_count": 92,
     "metadata": {},
     "output_type": "execute_result"
    }
   ],
   "source": [
    "df[\"district\"].isnull().sum()"
   ]
  },
  {
   "cell_type": "code",
   "execution_count": 93,
   "metadata": {},
   "outputs": [
    {
     "data": {
      "text/plain": [
       "np.int64(0)"
      ]
     },
     "execution_count": 93,
     "metadata": {},
     "output_type": "execute_result"
    }
   ],
   "source": [
    "df[\"district\"]= df[\"district\"].fillna(\"desconocido\")\n",
    "df[\"district\"].isnull().sum()"
   ]
  },
  {
   "cell_type": "markdown",
   "metadata": {},
   "source": [
    "### province"
   ]
  },
  {
   "cell_type": "code",
   "execution_count": 94,
   "metadata": {},
   "outputs": [
    {
     "data": {
      "text/plain": [
       "np.int64(0)"
      ]
     },
     "execution_count": 94,
     "metadata": {},
     "output_type": "execute_result"
    }
   ],
   "source": [
    "df[\"province\"].isnull().sum()"
   ]
  },
  {
   "cell_type": "markdown",
   "metadata": {},
   "source": [
    "### municipality"
   ]
  },
  {
   "cell_type": "code",
   "execution_count": 95,
   "metadata": {},
   "outputs": [
    {
     "data": {
      "text/plain": [
       "np.int64(0)"
      ]
     },
     "execution_count": 95,
     "metadata": {},
     "output_type": "execute_result"
    }
   ],
   "source": [
    "df[\"municipality\"].isnull().sum()"
   ]
  },
  {
   "cell_type": "markdown",
   "metadata": {},
   "source": [
    "###  exterior\n",
    "- Cambiamos de booleano a categorica"
   ]
  },
  {
   "cell_type": "code",
   "execution_count": 96,
   "metadata": {},
   "outputs": [
    {
     "data": {
      "text/plain": [
       "np.int64(0)"
      ]
     },
     "execution_count": 96,
     "metadata": {},
     "output_type": "execute_result"
    }
   ],
   "source": [
    "df[\"exterior\"].isnull().sum()"
   ]
  },
  {
   "cell_type": "code",
   "execution_count": 97,
   "metadata": {},
   "outputs": [
    {
     "data": {
      "text/plain": [
       "array([False,  True])"
      ]
     },
     "execution_count": 97,
     "metadata": {},
     "output_type": "execute_result"
    }
   ],
   "source": [
    "df[\"exterior\"].unique()"
   ]
  },
  {
   "cell_type": "code",
   "execution_count": 98,
   "metadata": {},
   "outputs": [
    {
     "data": {
      "text/plain": [
       "array(['vista interior', 'vista exterior'], dtype=object)"
      ]
     },
     "execution_count": 98,
     "metadata": {},
     "output_type": "execute_result"
    }
   ],
   "source": [
    "df.loc[df[\"exterior\"] == True, \"exterior\"] = \"vista exterior\"\n",
    "df.loc[df[\"exterior\"] == False, \"exterior\"] = \"vista interior\"\n",
    "df[\"exterior\"].unique()"
   ]
  },
  {
   "cell_type": "markdown",
   "metadata": {},
   "source": [
    "### hasLift \n",
    "- Cambiamos de booleano a categorica"
   ]
  },
  {
   "cell_type": "code",
   "execution_count": 99,
   "metadata": {},
   "outputs": [
    {
     "data": {
      "text/plain": [
       "np.int64(31)"
      ]
     },
     "execution_count": 99,
     "metadata": {},
     "output_type": "execute_result"
    }
   ],
   "source": [
    "df[\"hasLift\"].isnull().sum()"
   ]
  },
  {
   "cell_type": "code",
   "execution_count": 100,
   "metadata": {},
   "outputs": [
    {
     "data": {
      "text/plain": [
       "array([nan, True, False], dtype=object)"
      ]
     },
     "execution_count": 100,
     "metadata": {},
     "output_type": "execute_result"
    }
   ],
   "source": [
    "df[\"hasLift\"].unique()"
   ]
  },
  {
   "cell_type": "code",
   "execution_count": 101,
   "metadata": {},
   "outputs": [
    {
     "data": {
      "text/plain": [
       "array(['desconocido', 'tiene ascensor', 'no tiene ascensor'], dtype=object)"
      ]
     },
     "execution_count": 101,
     "metadata": {},
     "output_type": "execute_result"
    }
   ],
   "source": [
    "df.loc[df[\"hasLift\"] == True, \"hasLift\"] = \"tiene ascensor\"\n",
    "df.loc[df[\"hasLift\"] == False, \"hasLift\"] = \"no tiene ascensor\"\n",
    "df[\"hasLift\"] = df[\"hasLift\"].fillna(\"desconocido\")\n",
    "df[\"hasLift\"].unique()"
   ]
  },
  {
   "cell_type": "code",
   "execution_count": 102,
   "metadata": {},
   "outputs": [
    {
     "data": {
      "text/plain": [
       "np.int64(0)"
      ]
     },
     "execution_count": 102,
     "metadata": {},
     "output_type": "execute_result"
    }
   ],
   "source": [
    "df[\"hasLift\"].isnull().sum()"
   ]
  },
  {
   "cell_type": "markdown",
   "metadata": {},
   "source": [
    "### hasPlan\n",
    "- Cambiamos de booleano a categorica\n"
   ]
  },
  {
   "cell_type": "code",
   "execution_count": 103,
   "metadata": {},
   "outputs": [
    {
     "data": {
      "text/plain": [
       "np.int64(18)"
      ]
     },
     "execution_count": 103,
     "metadata": {},
     "output_type": "execute_result"
    }
   ],
   "source": [
    "df[\"hasPlan\"].isnull().sum()"
   ]
  },
  {
   "cell_type": "code",
   "execution_count": 104,
   "metadata": {},
   "outputs": [
    {
     "data": {
      "text/plain": [
       "array(['no tiene planos', 'tiene planos', 'desconocido'], dtype=object)"
      ]
     },
     "execution_count": 104,
     "metadata": {},
     "output_type": "execute_result"
    }
   ],
   "source": [
    "df.loc[df[\"hasPlan\"] == True, \"hasPlan\"] = \"tiene planos\"\n",
    "df.loc[df[\"hasPlan\"] == False, \"hasPlan\"] = \"no tiene planos\"\n",
    "df[\"hasPlan\"] = df[\"hasPlan\"].fillna(\"desconocido\")\n",
    "df[\"hasPlan\"].unique()"
   ]
  },
  {
   "cell_type": "code",
   "execution_count": 105,
   "metadata": {},
   "outputs": [
    {
     "data": {
      "text/plain": [
       "np.int64(0)"
      ]
     },
     "execution_count": 105,
     "metadata": {},
     "output_type": "execute_result"
    }
   ],
   "source": [
    "df[\"hasPlan\"].isnull().sum()"
   ]
  },
  {
   "cell_type": "markdown",
   "metadata": {},
   "source": [
    "### has3DTour (Eliminar)\n",
    "- No tenemos datos que marquen distintos pesos\n"
   ]
  },
  {
   "cell_type": "code",
   "execution_count": 106,
   "metadata": {},
   "outputs": [],
   "source": [
    "df.drop(columns=\"has3DTour\", inplace=True)"
   ]
  },
  {
   "cell_type": "markdown",
   "metadata": {},
   "source": [
    "### has360\n",
    "- Cambiamos de booleano a categorica"
   ]
  },
  {
   "cell_type": "code",
   "execution_count": 107,
   "metadata": {},
   "outputs": [
    {
     "data": {
      "text/plain": [
       "np.int64(18)"
      ]
     },
     "execution_count": 107,
     "metadata": {},
     "output_type": "execute_result"
    }
   ],
   "source": [
    "df[\"has360\"].isnull().sum()"
   ]
  },
  {
   "cell_type": "code",
   "execution_count": 108,
   "metadata": {},
   "outputs": [
    {
     "data": {
      "text/html": [
       "<div>\n",
       "<style scoped>\n",
       "    .dataframe tbody tr th:only-of-type {\n",
       "        vertical-align: middle;\n",
       "    }\n",
       "\n",
       "    .dataframe tbody tr th {\n",
       "        vertical-align: top;\n",
       "    }\n",
       "\n",
       "    .dataframe thead th {\n",
       "        text-align: right;\n",
       "    }\n",
       "</style>\n",
       "<table border=\"1\" class=\"dataframe\">\n",
       "  <thead>\n",
       "    <tr style=\"text-align: right;\">\n",
       "      <th></th>\n",
       "      <th>propertyType</th>\n",
       "      <th>status</th>\n",
       "      <th>price</th>\n",
       "      <th>size</th>\n",
       "      <th>rooms</th>\n",
       "      <th>bathrooms</th>\n",
       "      <th>floor</th>\n",
       "      <th>district</th>\n",
       "      <th>province</th>\n",
       "      <th>municipality</th>\n",
       "      <th>exterior</th>\n",
       "      <th>hasLift</th>\n",
       "      <th>hasPlan</th>\n",
       "      <th>has360</th>\n",
       "      <th>distancia_centro</th>\n",
       "    </tr>\n",
       "  </thead>\n",
       "  <tbody>\n",
       "    <tr>\n",
       "      <th>7</th>\n",
       "      <td>studio</td>\n",
       "      <td>desconocido</td>\n",
       "      <td>684.00</td>\n",
       "      <td>45.00</td>\n",
       "      <td>sin habitaciones</td>\n",
       "      <td>1 aseo</td>\n",
       "      <td>desconocido</td>\n",
       "      <td>desconocido</td>\n",
       "      <td>Madrid</td>\n",
       "      <td>Madrid</td>\n",
       "      <td>vista exterior</td>\n",
       "      <td>desconocido</td>\n",
       "      <td>desconocido</td>\n",
       "      <td>NaN</td>\n",
       "      <td>Entre 10 y 20 km</td>\n",
       "    </tr>\n",
       "    <tr>\n",
       "      <th>37</th>\n",
       "      <td>flat</td>\n",
       "      <td>desconocido</td>\n",
       "      <td>750.00</td>\n",
       "      <td>95.00</td>\n",
       "      <td>3 habitaciones</td>\n",
       "      <td>2 aseos</td>\n",
       "      <td>desconocido</td>\n",
       "      <td>desconocido</td>\n",
       "      <td>Toledo</td>\n",
       "      <td>Illescas</td>\n",
       "      <td>vista exterior</td>\n",
       "      <td>desconocido</td>\n",
       "      <td>desconocido</td>\n",
       "      <td>NaN</td>\n",
       "      <td>Entre 30 y 40 km</td>\n",
       "    </tr>\n",
       "    <tr>\n",
       "      <th>66</th>\n",
       "      <td>flat</td>\n",
       "      <td>desconocido</td>\n",
       "      <td>700.00</td>\n",
       "      <td>50.00</td>\n",
       "      <td>1 habitacion</td>\n",
       "      <td>2 aseos</td>\n",
       "      <td>desconocido</td>\n",
       "      <td>desconocido</td>\n",
       "      <td>Madrid</td>\n",
       "      <td>Camarma de Esteruelas</td>\n",
       "      <td>vista exterior</td>\n",
       "      <td>desconocido</td>\n",
       "      <td>desconocido</td>\n",
       "      <td>NaN</td>\n",
       "      <td>Entre 30 y 40 km</td>\n",
       "    </tr>\n",
       "    <tr>\n",
       "      <th>67</th>\n",
       "      <td>duplex</td>\n",
       "      <td>desconocido</td>\n",
       "      <td>750.00</td>\n",
       "      <td>35.00</td>\n",
       "      <td>1 habitacion</td>\n",
       "      <td>1 aseo</td>\n",
       "      <td>desconocido</td>\n",
       "      <td>desconocido</td>\n",
       "      <td>Madrid</td>\n",
       "      <td>Madrid</td>\n",
       "      <td>vista exterior</td>\n",
       "      <td>desconocido</td>\n",
       "      <td>desconocido</td>\n",
       "      <td>NaN</td>\n",
       "      <td>Entre 1 y 5 km</td>\n",
       "    </tr>\n",
       "    <tr>\n",
       "      <th>131</th>\n",
       "      <td>flat</td>\n",
       "      <td>desconocido</td>\n",
       "      <td>600.00</td>\n",
       "      <td>55.00</td>\n",
       "      <td>1 habitacion</td>\n",
       "      <td>1 aseo</td>\n",
       "      <td>desconocido</td>\n",
       "      <td>desconocido</td>\n",
       "      <td>Madrid</td>\n",
       "      <td>Daganzo de Arriba</td>\n",
       "      <td>vista exterior</td>\n",
       "      <td>desconocido</td>\n",
       "      <td>desconocido</td>\n",
       "      <td>NaN</td>\n",
       "      <td>Entre 20 y 30 km</td>\n",
       "    </tr>\n",
       "    <tr>\n",
       "      <th>137</th>\n",
       "      <td>flat</td>\n",
       "      <td>desconocido</td>\n",
       "      <td>550.00</td>\n",
       "      <td>106.00</td>\n",
       "      <td>2 habitaciones</td>\n",
       "      <td>1 aseo</td>\n",
       "      <td>desconocido</td>\n",
       "      <td>desconocido</td>\n",
       "      <td>Toledo</td>\n",
       "      <td>Ocaña</td>\n",
       "      <td>vista exterior</td>\n",
       "      <td>desconocido</td>\n",
       "      <td>desconocido</td>\n",
       "      <td>NaN</td>\n",
       "      <td>Mas de 50 km</td>\n",
       "    </tr>\n",
       "    <tr>\n",
       "      <th>149</th>\n",
       "      <td>flat</td>\n",
       "      <td>desconocido</td>\n",
       "      <td>630.00</td>\n",
       "      <td>54.00</td>\n",
       "      <td>1 habitacion</td>\n",
       "      <td>2 aseos</td>\n",
       "      <td>desconocido</td>\n",
       "      <td>desconocido</td>\n",
       "      <td>Madrid</td>\n",
       "      <td>El Álamo</td>\n",
       "      <td>vista exterior</td>\n",
       "      <td>desconocido</td>\n",
       "      <td>desconocido</td>\n",
       "      <td>NaN</td>\n",
       "      <td>Entre 30 y 40 km</td>\n",
       "    </tr>\n",
       "    <tr>\n",
       "      <th>169</th>\n",
       "      <td>studio</td>\n",
       "      <td>desconocido</td>\n",
       "      <td>700.00</td>\n",
       "      <td>23.00</td>\n",
       "      <td>sin habitaciones</td>\n",
       "      <td>1 aseo</td>\n",
       "      <td>desconocido</td>\n",
       "      <td>desconocido</td>\n",
       "      <td>Madrid</td>\n",
       "      <td>Madrid</td>\n",
       "      <td>vista exterior</td>\n",
       "      <td>desconocido</td>\n",
       "      <td>desconocido</td>\n",
       "      <td>NaN</td>\n",
       "      <td>Entre 1 y 5 km</td>\n",
       "    </tr>\n",
       "    <tr>\n",
       "      <th>179</th>\n",
       "      <td>duplex</td>\n",
       "      <td>desconocido</td>\n",
       "      <td>600.00</td>\n",
       "      <td>80.00</td>\n",
       "      <td>1 habitacion</td>\n",
       "      <td>1 aseo</td>\n",
       "      <td>desconocido</td>\n",
       "      <td>desconocido</td>\n",
       "      <td>Madrid</td>\n",
       "      <td>Madrid</td>\n",
       "      <td>vista interior</td>\n",
       "      <td>desconocido</td>\n",
       "      <td>desconocido</td>\n",
       "      <td>NaN</td>\n",
       "      <td>Entre 5 y 10 km</td>\n",
       "    </tr>\n",
       "    <tr>\n",
       "      <th>180</th>\n",
       "      <td>duplex</td>\n",
       "      <td>desconocido</td>\n",
       "      <td>600.00</td>\n",
       "      <td>80.00</td>\n",
       "      <td>1 habitacion</td>\n",
       "      <td>1 aseo</td>\n",
       "      <td>desconocido</td>\n",
       "      <td>desconocido</td>\n",
       "      <td>Madrid</td>\n",
       "      <td>Madrid</td>\n",
       "      <td>vista interior</td>\n",
       "      <td>desconocido</td>\n",
       "      <td>desconocido</td>\n",
       "      <td>NaN</td>\n",
       "      <td>Entre 5 y 10 km</td>\n",
       "    </tr>\n",
       "    <tr>\n",
       "      <th>208</th>\n",
       "      <td>flat</td>\n",
       "      <td>desconocido</td>\n",
       "      <td>675.00</td>\n",
       "      <td>35.00</td>\n",
       "      <td>1 habitacion</td>\n",
       "      <td>1 aseo</td>\n",
       "      <td>desconocido</td>\n",
       "      <td>desconocido</td>\n",
       "      <td>Madrid</td>\n",
       "      <td>Madrid</td>\n",
       "      <td>vista interior</td>\n",
       "      <td>desconocido</td>\n",
       "      <td>desconocido</td>\n",
       "      <td>NaN</td>\n",
       "      <td>Entre 1 y 5 km</td>\n",
       "    </tr>\n",
       "    <tr>\n",
       "      <th>221</th>\n",
       "      <td>flat</td>\n",
       "      <td>desconocido</td>\n",
       "      <td>750.00</td>\n",
       "      <td>67.00</td>\n",
       "      <td>3 habitaciones</td>\n",
       "      <td>1 aseo</td>\n",
       "      <td>desconocido</td>\n",
       "      <td>desconocido</td>\n",
       "      <td>Madrid</td>\n",
       "      <td>Getafe</td>\n",
       "      <td>vista exterior</td>\n",
       "      <td>desconocido</td>\n",
       "      <td>desconocido</td>\n",
       "      <td>NaN</td>\n",
       "      <td>Entre 10 y 20 km</td>\n",
       "    </tr>\n",
       "    <tr>\n",
       "      <th>222</th>\n",
       "      <td>flat</td>\n",
       "      <td>desconocido</td>\n",
       "      <td>600.00</td>\n",
       "      <td>45.00</td>\n",
       "      <td>2 habitaciones</td>\n",
       "      <td>1 aseo</td>\n",
       "      <td>desconocido</td>\n",
       "      <td>desconocido</td>\n",
       "      <td>Madrid</td>\n",
       "      <td>Mataelpino</td>\n",
       "      <td>vista exterior</td>\n",
       "      <td>desconocido</td>\n",
       "      <td>desconocido</td>\n",
       "      <td>NaN</td>\n",
       "      <td>Entre 40 y 50 km</td>\n",
       "    </tr>\n",
       "    <tr>\n",
       "      <th>230</th>\n",
       "      <td>flat</td>\n",
       "      <td>desconocido</td>\n",
       "      <td>660.00</td>\n",
       "      <td>155.00</td>\n",
       "      <td>3 habitaciones</td>\n",
       "      <td>2 aseos</td>\n",
       "      <td>desconocido</td>\n",
       "      <td>desconocido</td>\n",
       "      <td>Madrid</td>\n",
       "      <td>Aranjuez</td>\n",
       "      <td>vista interior</td>\n",
       "      <td>desconocido</td>\n",
       "      <td>desconocido</td>\n",
       "      <td>NaN</td>\n",
       "      <td>Entre 40 y 50 km</td>\n",
       "    </tr>\n",
       "    <tr>\n",
       "      <th>322</th>\n",
       "      <td>flat</td>\n",
       "      <td>desconocido</td>\n",
       "      <td>460.00</td>\n",
       "      <td>55.00</td>\n",
       "      <td>1 habitacion</td>\n",
       "      <td>1 aseo</td>\n",
       "      <td>desconocido</td>\n",
       "      <td>desconocido</td>\n",
       "      <td>Toledo</td>\n",
       "      <td>Mocejón</td>\n",
       "      <td>vista exterior</td>\n",
       "      <td>desconocido</td>\n",
       "      <td>desconocido</td>\n",
       "      <td>NaN</td>\n",
       "      <td>Mas de 50 km</td>\n",
       "    </tr>\n",
       "    <tr>\n",
       "      <th>332</th>\n",
       "      <td>duplex</td>\n",
       "      <td>desconocido</td>\n",
       "      <td>600.00</td>\n",
       "      <td>70.00</td>\n",
       "      <td>2 habitaciones</td>\n",
       "      <td>1 aseo</td>\n",
       "      <td>desconocido</td>\n",
       "      <td>desconocido</td>\n",
       "      <td>Toledo</td>\n",
       "      <td>Alameda de la Sagra</td>\n",
       "      <td>vista exterior</td>\n",
       "      <td>desconocido</td>\n",
       "      <td>desconocido</td>\n",
       "      <td>NaN</td>\n",
       "      <td>Entre 40 y 50 km</td>\n",
       "    </tr>\n",
       "    <tr>\n",
       "      <th>334</th>\n",
       "      <td>flat</td>\n",
       "      <td>desconocido</td>\n",
       "      <td>725.00</td>\n",
       "      <td>50.00</td>\n",
       "      <td>1 habitacion</td>\n",
       "      <td>1 aseo</td>\n",
       "      <td>desconocido</td>\n",
       "      <td>desconocido</td>\n",
       "      <td>Madrid</td>\n",
       "      <td>Madrid</td>\n",
       "      <td>vista exterior</td>\n",
       "      <td>desconocido</td>\n",
       "      <td>desconocido</td>\n",
       "      <td>NaN</td>\n",
       "      <td>Entre 5 y 10 km</td>\n",
       "    </tr>\n",
       "    <tr>\n",
       "      <th>343</th>\n",
       "      <td>flat</td>\n",
       "      <td>desconocido</td>\n",
       "      <td>600.00</td>\n",
       "      <td>75.00</td>\n",
       "      <td>3 habitaciones</td>\n",
       "      <td>1 aseo</td>\n",
       "      <td>desconocido</td>\n",
       "      <td>desconocido</td>\n",
       "      <td>Madrid</td>\n",
       "      <td>Alcalá de Henares</td>\n",
       "      <td>vista exterior</td>\n",
       "      <td>desconocido</td>\n",
       "      <td>desconocido</td>\n",
       "      <td>NaN</td>\n",
       "      <td>Entre 20 y 30 km</td>\n",
       "    </tr>\n",
       "  </tbody>\n",
       "</table>\n",
       "</div>"
      ],
      "text/plain": [
       "    propertyType       status  price   size             rooms bathrooms  \\\n",
       "7         studio  desconocido 684.00  45.00  sin habitaciones    1 aseo   \n",
       "37          flat  desconocido 750.00  95.00    3 habitaciones   2 aseos   \n",
       "66          flat  desconocido 700.00  50.00      1 habitacion   2 aseos   \n",
       "67        duplex  desconocido 750.00  35.00      1 habitacion    1 aseo   \n",
       "131         flat  desconocido 600.00  55.00      1 habitacion    1 aseo   \n",
       "137         flat  desconocido 550.00 106.00    2 habitaciones    1 aseo   \n",
       "149         flat  desconocido 630.00  54.00      1 habitacion   2 aseos   \n",
       "169       studio  desconocido 700.00  23.00  sin habitaciones    1 aseo   \n",
       "179       duplex  desconocido 600.00  80.00      1 habitacion    1 aseo   \n",
       "180       duplex  desconocido 600.00  80.00      1 habitacion    1 aseo   \n",
       "208         flat  desconocido 675.00  35.00      1 habitacion    1 aseo   \n",
       "221         flat  desconocido 750.00  67.00    3 habitaciones    1 aseo   \n",
       "222         flat  desconocido 600.00  45.00    2 habitaciones    1 aseo   \n",
       "230         flat  desconocido 660.00 155.00    3 habitaciones   2 aseos   \n",
       "322         flat  desconocido 460.00  55.00      1 habitacion    1 aseo   \n",
       "332       duplex  desconocido 600.00  70.00    2 habitaciones    1 aseo   \n",
       "334         flat  desconocido 725.00  50.00      1 habitacion    1 aseo   \n",
       "343         flat  desconocido 600.00  75.00    3 habitaciones    1 aseo   \n",
       "\n",
       "           floor     district province           municipality        exterior  \\\n",
       "7    desconocido  desconocido   Madrid                 Madrid  vista exterior   \n",
       "37   desconocido  desconocido   Toledo               Illescas  vista exterior   \n",
       "66   desconocido  desconocido   Madrid  Camarma de Esteruelas  vista exterior   \n",
       "67   desconocido  desconocido   Madrid                 Madrid  vista exterior   \n",
       "131  desconocido  desconocido   Madrid      Daganzo de Arriba  vista exterior   \n",
       "137  desconocido  desconocido   Toledo                  Ocaña  vista exterior   \n",
       "149  desconocido  desconocido   Madrid               El Álamo  vista exterior   \n",
       "169  desconocido  desconocido   Madrid                 Madrid  vista exterior   \n",
       "179  desconocido  desconocido   Madrid                 Madrid  vista interior   \n",
       "180  desconocido  desconocido   Madrid                 Madrid  vista interior   \n",
       "208  desconocido  desconocido   Madrid                 Madrid  vista interior   \n",
       "221  desconocido  desconocido   Madrid                 Getafe  vista exterior   \n",
       "222  desconocido  desconocido   Madrid             Mataelpino  vista exterior   \n",
       "230  desconocido  desconocido   Madrid               Aranjuez  vista interior   \n",
       "322  desconocido  desconocido   Toledo                Mocejón  vista exterior   \n",
       "332  desconocido  desconocido   Toledo    Alameda de la Sagra  vista exterior   \n",
       "334  desconocido  desconocido   Madrid                 Madrid  vista exterior   \n",
       "343  desconocido  desconocido   Madrid      Alcalá de Henares  vista exterior   \n",
       "\n",
       "         hasLift      hasPlan has360  distancia_centro  \n",
       "7    desconocido  desconocido    NaN  Entre 10 y 20 km  \n",
       "37   desconocido  desconocido    NaN  Entre 30 y 40 km  \n",
       "66   desconocido  desconocido    NaN  Entre 30 y 40 km  \n",
       "67   desconocido  desconocido    NaN    Entre 1 y 5 km  \n",
       "131  desconocido  desconocido    NaN  Entre 20 y 30 km  \n",
       "137  desconocido  desconocido    NaN      Mas de 50 km  \n",
       "149  desconocido  desconocido    NaN  Entre 30 y 40 km  \n",
       "169  desconocido  desconocido    NaN    Entre 1 y 5 km  \n",
       "179  desconocido  desconocido    NaN   Entre 5 y 10 km  \n",
       "180  desconocido  desconocido    NaN   Entre 5 y 10 km  \n",
       "208  desconocido  desconocido    NaN    Entre 1 y 5 km  \n",
       "221  desconocido  desconocido    NaN  Entre 10 y 20 km  \n",
       "222  desconocido  desconocido    NaN  Entre 40 y 50 km  \n",
       "230  desconocido  desconocido    NaN  Entre 40 y 50 km  \n",
       "322  desconocido  desconocido    NaN      Mas de 50 km  \n",
       "332  desconocido  desconocido    NaN  Entre 40 y 50 km  \n",
       "334  desconocido  desconocido    NaN   Entre 5 y 10 km  \n",
       "343  desconocido  desconocido    NaN  Entre 20 y 30 km  "
      ]
     },
     "execution_count": 108,
     "metadata": {},
     "output_type": "execute_result"
    }
   ],
   "source": [
    "c = df[\"has360\"].isnull() == True\n",
    "df[c]\n"
   ]
  },
  {
   "cell_type": "markdown",
   "metadata": {},
   "source": [
    "#### Habrá que ver si estos datos merece la pena tenerlos, hay muchas cosas desconocidas"
   ]
  },
  {
   "cell_type": "code",
   "execution_count": 109,
   "metadata": {},
   "outputs": [
    {
     "data": {
      "text/plain": [
       "array(['no tiene fotos 360', 'tiene fotos 360', 'desconocido'],\n",
       "      dtype=object)"
      ]
     },
     "execution_count": 109,
     "metadata": {},
     "output_type": "execute_result"
    }
   ],
   "source": [
    "df.loc[df[\"has360\"] == True, \"has360\"] = \"tiene fotos 360\"\n",
    "df.loc[df[\"has360\"] == False, \"has360\"] = \"no tiene fotos 360\"\n",
    "df[\"has360\"] = df[\"has360\"].fillna(\"desconocido\")\n",
    "df[\"has360\"].unique()"
   ]
  },
  {
   "cell_type": "code",
   "execution_count": 110,
   "metadata": {},
   "outputs": [
    {
     "data": {
      "text/plain": [
       "np.int64(0)"
      ]
     },
     "execution_count": 110,
     "metadata": {},
     "output_type": "execute_result"
    }
   ],
   "source": [
    "df[\"has360\"].isnull().sum()"
   ]
  },
  {
   "cell_type": "markdown",
   "metadata": {},
   "source": [
    "### distancia_centro"
   ]
  },
  {
   "cell_type": "code",
   "execution_count": 111,
   "metadata": {},
   "outputs": [
    {
     "data": {
      "text/plain": [
       "np.int64(0)"
      ]
     },
     "execution_count": 111,
     "metadata": {},
     "output_type": "execute_result"
    }
   ],
   "source": [
    "df[\"distancia_centro\"].isnull().sum()"
   ]
  },
  {
   "cell_type": "markdown",
   "metadata": {},
   "source": [
    "# Gestión nulos numéricas\n",
    "- Sin tocar la VR (Precio).\n",
    "- Rellenaremos con IterativeImputer y RandomForest\n",
    "    - Las relaciones son complejas"
   ]
  },
  {
   "cell_type": "code",
   "execution_count": 112,
   "metadata": {},
   "outputs": [
    {
     "data": {
      "text/plain": [
       "propertyType        0\n",
       "status              0\n",
       "price               0\n",
       "size                0\n",
       "rooms               0\n",
       "bathrooms           0\n",
       "floor               0\n",
       "district            0\n",
       "province            0\n",
       "municipality        0\n",
       "exterior            0\n",
       "hasLift             0\n",
       "hasPlan             0\n",
       "has360              0\n",
       "distancia_centro    0\n",
       "dtype: int64"
      ]
     },
     "execution_count": 112,
     "metadata": {},
     "output_type": "execute_result"
    }
   ],
   "source": [
    "df.isnull().sum()"
   ]
  },
  {
   "cell_type": "markdown",
   "metadata": {},
   "source": [
    "# Eliminar district\n",
    "- Tiene demasiados \"Desconocido\"\n",
    "- Tiene demasiados datos que especifican demasiado"
   ]
  },
  {
   "cell_type": "code",
   "execution_count": 113,
   "metadata": {},
   "outputs": [],
   "source": [
    "df.drop(columns=\"district\", inplace=True)"
   ]
  },
  {
   "cell_type": "markdown",
   "metadata": {},
   "source": [
    "# Eliminar hasPlan, has360 y Province"
   ]
  },
  {
   "cell_type": "code",
   "execution_count": 114,
   "metadata": {},
   "outputs": [],
   "source": [
    "cols_chao = [\"hasPlan\",\"has360\",\"province\"]\n",
    "df.drop(columns=cols_chao,inplace=True)"
   ]
  },
  {
   "cell_type": "markdown",
   "metadata": {},
   "source": [
    "# Guardamos"
   ]
  },
  {
   "cell_type": "code",
   "execution_count": 115,
   "metadata": {},
   "outputs": [],
   "source": [
    "df.to_csv(\"../../datos/03_api_rent_sin_nulos.csv\",index=False)"
   ]
  }
 ],
 "metadata": {
  "kernelspec": {
   "display_name": "Python 3",
   "language": "python",
   "name": "python3"
  },
  "language_info": {
   "codemirror_mode": {
    "name": "ipython",
    "version": 3
   },
   "file_extension": ".py",
   "mimetype": "text/x-python",
   "name": "python",
   "nbconvert_exporter": "python",
   "pygments_lexer": "ipython3",
   "version": "3.11.9"
  }
 },
 "nbformat": 4,
 "nbformat_minor": 2
}
