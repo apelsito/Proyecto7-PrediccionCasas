{
 "cells": [
  {
   "cell_type": "code",
   "execution_count": 55,
   "metadata": {},
   "outputs": [],
   "source": [
    "# Tratamiento de datos\n",
    "# -----------------------------------------------------------------------\n",
    "import numpy as np\n",
    "import pandas as pd\n",
    "\n",
    "# Otros objetivos\n",
    "# -----------------------------------------------------------------------\n",
    "import math\n",
    "\n",
    "# Gráficos\n",
    "# -----------------------------------------------------------------------\n",
    "import seaborn as sns\n",
    "import matplotlib.pyplot as plt\n",
    "import sys\n",
    "sys.path.append(\"../../\")\n",
    "from src.SupportPreProcesamiento import (\n",
    "    exploracion_dataframe,\n",
    "    separarar_df,\n",
    "    plot_numericas,\n",
    "    plot_categoricas,\n",
    "    relacion_vr_categoricas,\n",
    "    relacion_vr_numericas,\n",
    "    matriz_correlacion,\n",
    "    detectar_outliers,\n",
    "    diferencia_tras_rellenar_nulos\n",
    ")\n",
    "\n",
    "pd.set_option('display.float_format', '{:.2f}'.format)\n",
    "\n",
    "\n",
    "# Imputación de nulos usando métodos avanzados estadísticos\n",
    "# -----------------------------------------------------------------------\n",
    "from sklearn.impute import SimpleImputer\n",
    "from sklearn.experimental import enable_iterative_imputer\n",
    "from sklearn.impute import IterativeImputer\n",
    "from sklearn.impute import KNNImputer\n",
    "from sklearn.ensemble import RandomForestRegressor\n",
    "\n",
    "import warnings\n",
    "warnings.filterwarnings(\"ignore\")\n",
    "pd.set_option('display.max_columns',100)\n"
   ]
  },
  {
   "cell_type": "code",
   "execution_count": 56,
   "metadata": {},
   "outputs": [],
   "source": [
    "df = pd.read_csv(\"../../datos/api_rent_madrid.csv\",sep=\";\")"
   ]
  },
  {
   "cell_type": "code",
   "execution_count": 57,
   "metadata": {},
   "outputs": [
    {
     "data": {
      "text/plain": [
       "(450, 38)"
      ]
     },
     "execution_count": 57,
     "metadata": {},
     "output_type": "execute_result"
    }
   ],
   "source": [
    "df.shape"
   ]
  },
  {
   "cell_type": "markdown",
   "metadata": {},
   "source": [
    "# Que vamos a hacer:\n",
    "- **Conocer las columnas**: Para saber que nos indican\n",
    "- **Fijar la Variable Respuesta**: Ver cual es la variable a predecir\n",
    "- **Eliminar duplicados:**: Antes de tocar nada, no queremos duplicados, es el único momento donde podemos hacerlo\n",
    "- **Análisis exhaustivo de los datos**: Para conocer con lo que estamos trabajando\n",
    "- **Fijar las Columnas categóricas**: Ver las columnas que nos otorgan precio\n",
    "- **Eliminar columnas que no sean necesarias**: Para poder trabajar con los datos reducidos"
   ]
  },
  {
   "cell_type": "code",
   "execution_count": 58,
   "metadata": {},
   "outputs": [
    {
     "data": {
      "text/html": [
       "<div>\n",
       "<style scoped>\n",
       "    .dataframe tbody tr th:only-of-type {\n",
       "        vertical-align: middle;\n",
       "    }\n",
       "\n",
       "    .dataframe tbody tr th {\n",
       "        vertical-align: top;\n",
       "    }\n",
       "\n",
       "    .dataframe thead th {\n",
       "        text-align: right;\n",
       "    }\n",
       "</style>\n",
       "<table border=\"1\" class=\"dataframe\">\n",
       "  <thead>\n",
       "    <tr style=\"text-align: right;\">\n",
       "      <th></th>\n",
       "      <th>propertyCode</th>\n",
       "      <th>numPhotos</th>\n",
       "      <th>price</th>\n",
       "      <th>propertyType</th>\n",
       "      <th>operation</th>\n",
       "      <th>size</th>\n",
       "      <th>exterior</th>\n",
       "      <th>rooms</th>\n",
       "      <th>bathrooms</th>\n",
       "      <th>address</th>\n",
       "      <th>province</th>\n",
       "      <th>municipality</th>\n",
       "      <th>country</th>\n",
       "      <th>latitude</th>\n",
       "      <th>longitude</th>\n",
       "      <th>showAddress</th>\n",
       "      <th>distance</th>\n",
       "      <th>description</th>\n",
       "      <th>hasVideo</th>\n",
       "      <th>status</th>\n",
       "      <th>newDevelopment</th>\n",
       "      <th>priceByArea</th>\n",
       "      <th>detailedType</th>\n",
       "      <th>suggestedTexts</th>\n",
       "      <th>hasPlan</th>\n",
       "      <th>has3DTour</th>\n",
       "      <th>has360</th>\n",
       "      <th>hasStaging</th>\n",
       "      <th>superTopHighlight</th>\n",
       "      <th>topNewDevelopment</th>\n",
       "      <th>externalReference</th>\n",
       "      <th>floor</th>\n",
       "      <th>district</th>\n",
       "      <th>neighborhood</th>\n",
       "      <th>hasLift</th>\n",
       "      <th>parkingSpace</th>\n",
       "      <th>labels</th>\n",
       "      <th>newDevelopmentFinished</th>\n",
       "    </tr>\n",
       "  </thead>\n",
       "  <tbody>\n",
       "    <tr>\n",
       "      <th>262</th>\n",
       "      <td>92160914</td>\n",
       "      <td>28</td>\n",
       "      <td>725.00</td>\n",
       "      <td>flat</td>\n",
       "      <td>rent</td>\n",
       "      <td>67.00</td>\n",
       "      <td>True</td>\n",
       "      <td>3</td>\n",
       "      <td>1</td>\n",
       "      <td>Calle Valladolid</td>\n",
       "      <td>Madrid</td>\n",
       "      <td>Móstoles</td>\n",
       "      <td>es</td>\n",
       "      <td>403.206.268</td>\n",
       "      <td>-38.622.583</td>\n",
       "      <td>False</td>\n",
       "      <td>17191</td>\n",
       "      <td>PROMOCIÓN: 1 MES DE ALQUILER GRATIS si reserva...</td>\n",
       "      <td>True</td>\n",
       "      <td>good</td>\n",
       "      <td>False</td>\n",
       "      <td>11.00</td>\n",
       "      <td>{'typology': 'flat'}</td>\n",
       "      <td>{'subtitle': 'Centro, Móstoles', 'title': 'Pis...</td>\n",
       "      <td>True</td>\n",
       "      <td>False</td>\n",
       "      <td>True</td>\n",
       "      <td>False</td>\n",
       "      <td>False</td>\n",
       "      <td>False</td>\n",
       "      <td>CH-56672-0001</td>\n",
       "      <td>4</td>\n",
       "      <td>Centro</td>\n",
       "      <td>NaN</td>\n",
       "      <td>False</td>\n",
       "      <td>NaN</td>\n",
       "      <td>NaN</td>\n",
       "      <td>NaN</td>\n",
       "    </tr>\n",
       "  </tbody>\n",
       "</table>\n",
       "</div>"
      ],
      "text/plain": [
       "     propertyCode  numPhotos  price propertyType operation  size  exterior  \\\n",
       "262      92160914         28 725.00         flat      rent 67.00      True   \n",
       "\n",
       "     rooms  bathrooms           address province municipality country  \\\n",
       "262      3          1  Calle Valladolid   Madrid     Móstoles      es   \n",
       "\n",
       "        latitude    longitude  showAddress  distance  \\\n",
       "262  403.206.268  -38.622.583        False     17191   \n",
       "\n",
       "                                           description hasVideo status  \\\n",
       "262  PROMOCIÓN: 1 MES DE ALQUILER GRATIS si reserva...     True   good   \n",
       "\n",
       "    newDevelopment  priceByArea          detailedType  \\\n",
       "262          False        11.00  {'typology': 'flat'}   \n",
       "\n",
       "                                        suggestedTexts hasPlan has3DTour  \\\n",
       "262  {'subtitle': 'Centro, Móstoles', 'title': 'Pis...    True     False   \n",
       "\n",
       "    has360 hasStaging superTopHighlight topNewDevelopment externalReference  \\\n",
       "262   True      False             False             False     CH-56672-0001   \n",
       "\n",
       "    floor district neighborhood hasLift parkingSpace labels  \\\n",
       "262     4   Centro          NaN   False          NaN    NaN   \n",
       "\n",
       "    newDevelopmentFinished  \n",
       "262                    NaN  "
      ]
     },
     "execution_count": 58,
     "metadata": {},
     "output_type": "execute_result"
    }
   ],
   "source": [
    "df.sample()"
   ]
  },
  {
   "cell_type": "code",
   "execution_count": 59,
   "metadata": {},
   "outputs": [],
   "source": [
    "for col in df.columns:\n",
    "    #print(f\"- **{col}**:\") # Imprimir columnas para markdown\n",
    "    pass"
   ]
  },
  {
   "cell_type": "markdown",
   "metadata": {},
   "source": [
    " #  Conocer Columnas\n",
    "- **propertyCode**: Código único de la propiedad\n",
    "- **numPhotos**: número de fotos del apartamento\n",
    "- **price**: Precio en euros **Variable Respuesta**\n",
    "- **propertyType**: Tipo de propiedad\n",
    "- **operation**: Tipo de operación (rent)\n",
    "- **size**: Tamaño en m2\n",
    "- **exterior**: Booleano si es exterior\n",
    "- **rooms**: numero de habitacioens\n",
    "- **bathrooms**: numero de baños\n",
    "- **address**: Dirección aprxo de la propiedad\n",
    "- **province**: Provincia\n",
    "- **municipality**: Municipio\n",
    "- **country**: País\n",
    "- **latitude**: Latitud\n",
    "- **longitude**: Longitud\n",
    "- **showAddress**: Bool para mostrar dirección\n",
    "- **distance**: distancia al centro en metros\n",
    "- **description**: descripción\n",
    "- **hasVideo**: Bool si se le saco vídeo\n",
    "- **status**: \n",
    "- **newDevelopment**: Bool que indica si es nueva construcción\n",
    "- **priceByArea**: Precio por m2 en €\n",
    "- **detailedType**: \n",
    "- **suggestedTexts**: \n",
    "- **hasPlan**:\n",
    "- **has3DTour**: Indica si tiene tour disponible\n",
    "- **has360**: Indica si tiene video 360\n",
    "- **hasStaging**:\n",
    "- **superTopHighlight**: Bool de si estña destacada\n",
    "- **topNewDevelopment**:bool de si está destacado la nueva construcción\n",
    "- **externalReference**:\n",
    "- **floor**: Piso de la propiedad\n",
    "- **district**: Distrito\n",
    "- **neighborhood**: Barrio dentro del distrito\n",
    "- **hasLift**: Indica si la propiedad tiene ascensor\n",
    "- **parkingSpace**: Indica info estacionamiento\n",
    "- **labels**: \n",
    "- **newDevelopmentFinished**:"
   ]
  },
  {
   "cell_type": "markdown",
   "metadata": {},
   "source": [
    "# Muchas columnas\n",
    "- Veamos que son las que no sabemos que son"
   ]
  },
  {
   "cell_type": "code",
   "execution_count": 60,
   "metadata": {},
   "outputs": [
    {
     "data": {
      "text/plain": [
       "newDevelopmentFinished\n",
       "True     12\n",
       "False     5\n",
       "Name: count, dtype: int64"
      ]
     },
     "execution_count": 60,
     "metadata": {},
     "output_type": "execute_result"
    }
   ],
   "source": [
    "df[\"newDevelopmentFinished\"].value_counts()"
   ]
  },
  {
   "cell_type": "code",
   "execution_count": 61,
   "metadata": {},
   "outputs": [
    {
     "data": {
      "text/plain": [
       "labels\n",
       "[{'name': 'apartamentoType', 'text': 'Apartamento'}]    30\n",
       "Name: count, dtype: int64"
      ]
     },
     "execution_count": 61,
     "metadata": {},
     "output_type": "execute_result"
    }
   ],
   "source": [
    "df[\"labels\"].value_counts()"
   ]
  },
  {
   "cell_type": "code",
   "execution_count": 62,
   "metadata": {},
   "outputs": [
    {
     "data": {
      "text/html": [
       "<div>\n",
       "<style scoped>\n",
       "    .dataframe tbody tr th:only-of-type {\n",
       "        vertical-align: middle;\n",
       "    }\n",
       "\n",
       "    .dataframe tbody tr th {\n",
       "        vertical-align: top;\n",
       "    }\n",
       "\n",
       "    .dataframe thead th {\n",
       "        text-align: right;\n",
       "    }\n",
       "</style>\n",
       "<table border=\"1\" class=\"dataframe\">\n",
       "  <thead>\n",
       "    <tr style=\"text-align: right;\">\n",
       "      <th></th>\n",
       "      <th>externalReference</th>\n",
       "      <th>count</th>\n",
       "    </tr>\n",
       "  </thead>\n",
       "  <tbody>\n",
       "    <tr>\n",
       "      <th>287</th>\n",
       "      <td>40DG-000002-01</td>\n",
       "      <td>1</td>\n",
       "    </tr>\n",
       "  </tbody>\n",
       "</table>\n",
       "</div>"
      ],
      "text/plain": [
       "    externalReference  count\n",
       "287    40DG-000002-01      1"
      ]
     },
     "execution_count": 62,
     "metadata": {},
     "output_type": "execute_result"
    }
   ],
   "source": [
    "df[\"externalReference\"].value_counts().reset_index().sample()"
   ]
  },
  {
   "cell_type": "code",
   "execution_count": 63,
   "metadata": {},
   "outputs": [
    {
     "data": {
      "text/plain": [
       "hasStaging\n",
       "False    432\n",
       "Name: count, dtype: int64"
      ]
     },
     "execution_count": 63,
     "metadata": {},
     "output_type": "execute_result"
    }
   ],
   "source": [
    "df[\"hasStaging\"].value_counts()"
   ]
  },
  {
   "cell_type": "code",
   "execution_count": 64,
   "metadata": {},
   "outputs": [
    {
     "data": {
      "text/plain": [
       "detailedType\n",
       "{'typology': 'flat'}                                           344\n",
       "{'typology': 'flat', 'subTypology': 'studio'}                   46\n",
       "{'typology': 'flat', 'subTypology': 'penthouse'}                16\n",
       "{'typology': 'flat', 'subTypology': 'duplex'}                   15\n",
       "{'typology': 'chalet', 'subTypology': 'terracedHouse'}           5\n",
       "{'typology': 'chalet', 'subTypology': 'independantHouse'}        2\n",
       "{'typology': 'chalet'}                                           1\n",
       "{'typology': 'countryHouse', 'subTypology': 'countryHouse'}      1\n",
       "{'typology': 'chalet', 'subTypology': 'semidetachedHouse'}       1\n",
       "{'typology': 'countryHouse', 'subTypology': 'casaDePueblo'}      1\n",
       "Name: count, dtype: int64"
      ]
     },
     "execution_count": 64,
     "metadata": {},
     "output_type": "execute_result"
    }
   ],
   "source": [
    "df[\"detailedType\"].value_counts()"
   ]
  },
  {
   "cell_type": "code",
   "execution_count": 65,
   "metadata": {},
   "outputs": [
    {
     "data": {
      "text/plain": [
       "suggestedTexts\n",
       "{'subtitle': 'Suroeste, Torrejón de Ardoz', 'title': 'Piso en Calle Valle de Ambles, 2'}            10\n",
       "{'subtitle': 'El Quiñón, Seseña', 'title': 'Piso'}                                                   4\n",
       "{'subtitle': 'Los Rosales, Madrid', 'title': 'Piso en Calle de Sáhara'}                              3\n",
       "{'subtitle': 'Las Sedas - El Olivar, Alcalá de Henares', 'title': 'Piso en Calle de Honduras'}       3\n",
       "{'subtitle': 'Cabañas de la Sagra', 'title': 'Piso'}                                                 2\n",
       "                                                                                                    ..\n",
       "{'subtitle': 'Rascafría', 'title': 'Piso'}                                                           1\n",
       "{'subtitle': 'Cedillo del Condado', 'title': 'Piso en Calle Arena'}                                  1\n",
       "{'subtitle': 'Recas', 'title': 'Piso en Calle Arroyo'}                                               1\n",
       "{'subtitle': 'Villamanrique de Tajo', 'title': 'Ático en Calle Madrid'}                              1\n",
       "{'subtitle': 'Centro Urbano, San Sebastián de los Reyes', 'title': 'Piso en Gregorio izquierdo'}     1\n",
       "Name: count, Length: 395, dtype: int64"
      ]
     },
     "execution_count": 65,
     "metadata": {},
     "output_type": "execute_result"
    }
   ],
   "source": [
    "df[\"suggestedTexts\"].value_counts()"
   ]
  },
  {
   "cell_type": "code",
   "execution_count": 66,
   "metadata": {},
   "outputs": [
    {
     "data": {
      "text/plain": [
       "hasPlan\n",
       "False    296\n",
       "True     136\n",
       "Name: count, dtype: int64"
      ]
     },
     "execution_count": 66,
     "metadata": {},
     "output_type": "execute_result"
    }
   ],
   "source": [
    "df[\"hasPlan\"].value_counts()"
   ]
  },
  {
   "cell_type": "code",
   "execution_count": 67,
   "metadata": {},
   "outputs": [
    {
     "data": {
      "text/plain": [
       "status\n",
       "good              413\n",
       "newdevelopment     17\n",
       "renew               2\n",
       "Name: count, dtype: int64"
      ]
     },
     "execution_count": 67,
     "metadata": {},
     "output_type": "execute_result"
    }
   ],
   "source": [
    "df[\"status\"].value_counts()"
   ]
  },
  {
   "cell_type": "markdown",
   "metadata": {},
   "source": [
    "- **newDevelopmentFinished**: Describe si se ha terminado la obra\n",
    "- **labels**: Tipo apartamento, parece que siempre es \"Apartamento\" \n",
    "- **externalReference**: Código de referencia del piso 335 (únicos)\n",
    "- **hasStaging**: No se que es, pero siempre es Falso\n",
    "- **detailedType**: Tipo de vivienda detallada\n",
    "- **suggestedTexts**: Título y Subtítulo Recomendados para la vivienda\n",
    "- **hasPlan**: Bool, dice si la casa tiene los planos\n",
    "- **status**: Estado de la casa (Bueno, nuevo, reformada)"
   ]
  },
  {
   "cell_type": "markdown",
   "metadata": {},
   "source": [
    "# Ya conocemos las columnas, vamos ahora a eliminar duplicados"
   ]
  },
  {
   "cell_type": "code",
   "execution_count": 68,
   "metadata": {},
   "outputs": [
    {
     "data": {
      "text/plain": [
       "np.int64(8)"
      ]
     },
     "execution_count": 68,
     "metadata": {},
     "output_type": "execute_result"
    }
   ],
   "source": [
    "df.duplicated().sum()"
   ]
  },
  {
   "cell_type": "code",
   "execution_count": 69,
   "metadata": {},
   "outputs": [],
   "source": [
    "df.drop_duplicates(inplace=True)"
   ]
  },
  {
   "cell_type": "markdown",
   "metadata": {},
   "source": [
    "# Selección inicial de columnas\n",
    "Vamos a seleccionar las columnas que pueden aportarnos valor al precio, son las siguientes:\n",
    "- price: Es la variable Respuesta\n",
    "- propertyType: Tipo Propiedad\n",
    "- operation\n",
    "- size: Tamaño en m2\n",
    "- exterior: Bool, dice si es exterior\n",
    "- rooms\n",
    "- bathrooms\n",
    "- address\n",
    "- province\n",
    "- municipality\n",
    "- country\n",
    "- latitude\n",
    "- longitude\n",
    "- distance\n",
    "- status\n",
    "- priceByArea\n",
    "- hasPlan\n",
    "- has3DTour\n",
    "- has360\n",
    "- superTopHighlight\n",
    "- topNewDevelopment\n",
    "- floor\n",
    "- district\n",
    "- neighborhood\n",
    "- hasLift\n",
    "- parkingSpace\n",
    "- newDevelopmentFinished\n"
   ]
  },
  {
   "cell_type": "code",
   "execution_count": 70,
   "metadata": {},
   "outputs": [
    {
     "data": {
      "text/plain": [
       "Index(['propertyCode', 'numPhotos', 'price', 'propertyType', 'operation',\n",
       "       'size', 'exterior', 'rooms', 'bathrooms', 'address', 'province',\n",
       "       'municipality', 'country', 'latitude', 'longitude', 'showAddress',\n",
       "       'distance', 'description', 'hasVideo', 'status', 'newDevelopment',\n",
       "       'priceByArea', 'detailedType', 'suggestedTexts', 'hasPlan', 'has3DTour',\n",
       "       'has360', 'hasStaging', 'superTopHighlight', 'topNewDevelopment',\n",
       "       'externalReference', 'floor', 'district', 'neighborhood', 'hasLift',\n",
       "       'parkingSpace', 'labels', 'newDevelopmentFinished'],\n",
       "      dtype='object')"
      ]
     },
     "execution_count": 70,
     "metadata": {},
     "output_type": "execute_result"
    }
   ],
   "source": [
    "df.columns"
   ]
  },
  {
   "cell_type": "code",
   "execution_count": 71,
   "metadata": {},
   "outputs": [],
   "source": [
    "cols = [\"price\",\"propertyType\",\"operation\",\"size\",\"exterior\",\"rooms\",\"bathrooms\",\n",
    "        \"address\",\"province\",\"municipality\",\"country\",\"latitude\",\"longitude\",\"distance\",\n",
    "        \"status\",\"priceByArea\",\"hasPlan\",\"has3DTour\",\"has360\",\"superTopHighlight\",\n",
    "        \"topNewDevelopment\",\"floor\",\"district\",\"neighborhood\",\"hasLift\",\"parkingSpace\",\n",
    "        \"newDevelopmentFinished\"]\n",
    "df = df[cols]"
   ]
  },
  {
   "cell_type": "code",
   "execution_count": 72,
   "metadata": {},
   "outputs": [
    {
     "data": {
      "text/html": [
       "<div>\n",
       "<style scoped>\n",
       "    .dataframe tbody tr th:only-of-type {\n",
       "        vertical-align: middle;\n",
       "    }\n",
       "\n",
       "    .dataframe tbody tr th {\n",
       "        vertical-align: top;\n",
       "    }\n",
       "\n",
       "    .dataframe thead th {\n",
       "        text-align: right;\n",
       "    }\n",
       "</style>\n",
       "<table border=\"1\" class=\"dataframe\">\n",
       "  <thead>\n",
       "    <tr style=\"text-align: right;\">\n",
       "      <th></th>\n",
       "      <th>price</th>\n",
       "      <th>propertyType</th>\n",
       "      <th>operation</th>\n",
       "      <th>size</th>\n",
       "      <th>exterior</th>\n",
       "      <th>rooms</th>\n",
       "      <th>bathrooms</th>\n",
       "      <th>address</th>\n",
       "      <th>province</th>\n",
       "      <th>municipality</th>\n",
       "      <th>country</th>\n",
       "      <th>latitude</th>\n",
       "      <th>longitude</th>\n",
       "      <th>distance</th>\n",
       "      <th>status</th>\n",
       "      <th>priceByArea</th>\n",
       "      <th>hasPlan</th>\n",
       "      <th>has3DTour</th>\n",
       "      <th>has360</th>\n",
       "      <th>superTopHighlight</th>\n",
       "      <th>topNewDevelopment</th>\n",
       "      <th>floor</th>\n",
       "      <th>district</th>\n",
       "      <th>neighborhood</th>\n",
       "      <th>hasLift</th>\n",
       "      <th>parkingSpace</th>\n",
       "      <th>newDevelopmentFinished</th>\n",
       "    </tr>\n",
       "  </thead>\n",
       "  <tbody>\n",
       "    <tr>\n",
       "      <th>332</th>\n",
       "      <td>750.00</td>\n",
       "      <td>flat</td>\n",
       "      <td>rent</td>\n",
       "      <td>42.00</td>\n",
       "      <td>False</td>\n",
       "      <td>1</td>\n",
       "      <td>1</td>\n",
       "      <td>Paseo de las delicias, 125</td>\n",
       "      <td>Madrid</td>\n",
       "      <td>Madrid</td>\n",
       "      <td>es</td>\n",
       "      <td>403.927.535</td>\n",
       "      <td>-36.945.366</td>\n",
       "      <td>2762</td>\n",
       "      <td>good</td>\n",
       "      <td>18.00</td>\n",
       "      <td>False</td>\n",
       "      <td>False</td>\n",
       "      <td>False</td>\n",
       "      <td>False</td>\n",
       "      <td>False</td>\n",
       "      <td>4</td>\n",
       "      <td>Arganzuela</td>\n",
       "      <td>Delicias</td>\n",
       "      <td>True</td>\n",
       "      <td>NaN</td>\n",
       "      <td>NaN</td>\n",
       "    </tr>\n",
       "  </tbody>\n",
       "</table>\n",
       "</div>"
      ],
      "text/plain": [
       "     price propertyType operation  size  exterior  rooms  bathrooms  \\\n",
       "332 750.00         flat      rent 42.00     False      1          1   \n",
       "\n",
       "                        address province municipality country     latitude  \\\n",
       "332  Paseo de las delicias, 125   Madrid       Madrid      es  403.927.535   \n",
       "\n",
       "       longitude  distance status  priceByArea hasPlan has3DTour has360  \\\n",
       "332  -36.945.366      2762   good        18.00   False     False  False   \n",
       "\n",
       "    superTopHighlight topNewDevelopment floor    district neighborhood  \\\n",
       "332             False             False     4  Arganzuela     Delicias   \n",
       "\n",
       "    hasLift parkingSpace newDevelopmentFinished  \n",
       "332    True          NaN                    NaN  "
      ]
     },
     "execution_count": 72,
     "metadata": {},
     "output_type": "execute_result"
    }
   ],
   "source": [
    "df.sample()"
   ]
  },
  {
   "cell_type": "markdown",
   "metadata": {},
   "source": [
    "# Segunda Revisión de las Columnas"
   ]
  },
  {
   "cell_type": "code",
   "execution_count": 73,
   "metadata": {},
   "outputs": [],
   "source": [
    "df_cat = df.select_dtypes(\"O\")"
   ]
  },
  {
   "cell_type": "code",
   "execution_count": 74,
   "metadata": {},
   "outputs": [
    {
     "name": "stdout",
     "output_type": "stream",
     "text": [
      "|   Columna: propertyType  |\n",
      "No nulos: 442/442\n",
      "-------------------------\n",
      "Valores únicos:\n",
      "propertyType\n",
      "flat            348\n",
      "studio           48\n",
      "duplex           19\n",
      "penthouse        16\n",
      "chalet            9\n",
      "countryHouse      2\n",
      "Name: count, dtype: int64\n",
      "--------------------------------------\n",
      "|   Columna: operation  |\n",
      "No nulos: 442/442\n",
      "-------------------------\n",
      "Valores únicos:\n",
      "operation\n",
      "rent    442\n",
      "Name: count, dtype: int64\n",
      "--------------------------------------\n",
      "|   Columna: address  |\n",
      "No nulos: 442/442\n",
      "-------------------------\n",
      "Valores únicos:\n",
      "address\n",
      "Calle Valle de Ambles, 2             7\n",
      "El Quiñón                            4\n",
      "Calle de Sáhara                      3\n",
      "Calle de Honduras                    3\n",
      "jerez                                2\n",
      "                                    ..\n",
      "Calle de Ramón Esteban, 12           1\n",
      "duque de medinaceli                  1\n",
      "Avenida Matapiñonera, 11             1\n",
      "Avenida de la Ciudad de Barcelona    1\n",
      "sexta bandera                        1\n",
      "Name: count, Length: 405, dtype: int64\n",
      "--------------------------------------\n",
      "|   Columna: province  |\n",
      "No nulos: 442/442\n",
      "-------------------------\n",
      "Valores únicos:\n",
      "province\n",
      "Madrid         353\n",
      "Toledo          59\n",
      "Guadalajara     21\n",
      "Segovia          8\n",
      "Ávila            1\n",
      "Name: count, dtype: int64\n",
      "--------------------------------------\n",
      "|   Columna: municipality  |\n",
      "No nulos: 442/442\n",
      "-------------------------\n",
      "Valores únicos:\n",
      "municipality\n",
      "Madrid                    170\n",
      "Alcalá de Henares          22\n",
      "Seseña                     14\n",
      "Parla                      14\n",
      "Torrejón de Ardoz          11\n",
      "                         ... \n",
      "Sevilla la Nueva            1\n",
      "Santa Cruz del Retamar      1\n",
      "Torrelaguna                 1\n",
      "Villalbilla                 1\n",
      "Alcobendas                  1\n",
      "Name: count, Length: 96, dtype: int64\n",
      "--------------------------------------\n",
      "|   Columna: country  |\n",
      "No nulos: 442/442\n",
      "-------------------------\n",
      "Valores únicos:\n",
      "country\n",
      "es    442\n",
      "Name: count, dtype: int64\n",
      "--------------------------------------\n",
      "|   Columna: latitude  |\n",
      "No nulos: 442/442\n",
      "-------------------------\n",
      "Valores únicos:\n",
      "latitude\n",
      "404.430.651    7\n",
      "403.809.876    2\n",
      "402.003.307    2\n",
      "403.082.527    2\n",
      "40.437.054     1\n",
      "              ..\n",
      "404.436.001    1\n",
      "405.756.061    1\n",
      "404.312.011    1\n",
      "402.998.979    1\n",
      "400.318.018    1\n",
      "Name: count, Length: 433, dtype: int64\n",
      "--------------------------------------\n",
      "|   Columna: longitude  |\n",
      "No nulos: 442/442\n",
      "-------------------------\n",
      "Valores únicos:\n",
      "longitude\n",
      "-34.659.877    7\n",
      "-36.338.528    2\n",
      "-36.919.489    2\n",
      "-37.365.244    2\n",
      "-36.453.254    1\n",
      "              ..\n",
      "-36.477.389    1\n",
      "-40.067.032    1\n",
      "-37.181.341    1\n",
      "-34.342.379    1\n",
      "-36.022.527    1\n",
      "Name: count, Length: 433, dtype: int64\n",
      "--------------------------------------\n",
      "|   Columna: status  |\n",
      "No nulos: 424/442\n",
      "-------------------------\n",
      "Valores únicos:\n",
      "status\n",
      "good              409\n",
      "newdevelopment     13\n",
      "renew               2\n",
      "Name: count, dtype: int64\n",
      "--------------------------------------\n",
      "|   Columna: hasPlan  |\n",
      "No nulos: 424/442\n",
      "-------------------------\n",
      "Valores únicos:\n",
      "hasPlan\n",
      "False    293\n",
      "True     131\n",
      "Name: count, dtype: int64\n",
      "--------------------------------------\n",
      "|   Columna: has3DTour  |\n",
      "No nulos: 424/442\n",
      "-------------------------\n",
      "Valores únicos:\n",
      "has3DTour\n",
      "False    418\n",
      "True       6\n",
      "Name: count, dtype: int64\n",
      "--------------------------------------\n",
      "|   Columna: has360  |\n",
      "No nulos: 424/442\n",
      "-------------------------\n",
      "Valores únicos:\n",
      "has360\n",
      "False    337\n",
      "True      87\n",
      "Name: count, dtype: int64\n",
      "--------------------------------------\n",
      "|   Columna: superTopHighlight  |\n",
      "No nulos: 424/442\n",
      "-------------------------\n",
      "Valores únicos:\n",
      "superTopHighlight\n",
      "False    424\n",
      "Name: count, dtype: int64\n",
      "--------------------------------------\n",
      "|   Columna: topNewDevelopment  |\n",
      "No nulos: 424/442\n",
      "-------------------------\n",
      "Valores únicos:\n",
      "topNewDevelopment\n",
      "False    424\n",
      "Name: count, dtype: int64\n",
      "--------------------------------------\n",
      "|   Columna: floor  |\n",
      "No nulos: 361/442\n",
      "-------------------------\n",
      "Valores únicos:\n",
      "floor\n",
      "1     94\n",
      "2     75\n",
      "bj    67\n",
      "3     59\n",
      "4     36\n",
      "5     11\n",
      "en     6\n",
      "8      5\n",
      "6      4\n",
      "st     1\n",
      "7      1\n",
      "14     1\n",
      "ss     1\n",
      "Name: count, dtype: int64\n",
      "--------------------------------------\n",
      "|   Columna: district  |\n",
      "No nulos: 333/442\n",
      "-------------------------\n",
      "Valores únicos:\n",
      "district\n",
      "Centro                        48\n",
      "Villaverde                    23\n",
      "Puente de Vallecas            17\n",
      "El Quiñón                     13\n",
      "Tetuán                        13\n",
      "                              ..\n",
      "Pol. Industrial sur            1\n",
      "Parque - Ctra de Ugena         1\n",
      "San Isidro                     1\n",
      "Pryconsa - Poligono Europa     1\n",
      "Alcobendas Centro              1\n",
      "Name: count, Length: 96, dtype: int64\n",
      "--------------------------------------\n",
      "|   Columna: neighborhood  |\n",
      "No nulos: 174/442\n",
      "-------------------------\n",
      "Valores únicos:\n",
      "neighborhood\n",
      "Lavapiés-Embajadores    11\n",
      "Villaverde Alto          9\n",
      "Valdeacederas            8\n",
      "San Diego                8\n",
      "Los Rosales              7\n",
      "                        ..\n",
      "Portazgo                 1\n",
      "Jerónimos                1\n",
      "Pradolongo               1\n",
      "Pilar                    1\n",
      "Concepción               1\n",
      "Name: count, Length: 74, dtype: int64\n",
      "--------------------------------------\n",
      "|   Columna: hasLift  |\n",
      "No nulos: 411/442\n",
      "-------------------------\n",
      "Valores únicos:\n",
      "hasLift\n",
      "True     226\n",
      "False    185\n",
      "Name: count, dtype: int64\n",
      "--------------------------------------\n",
      "|   Columna: parkingSpace  |\n",
      "No nulos: 134/442\n",
      "-------------------------\n",
      "Valores únicos:\n",
      "parkingSpace\n",
      "{'hasParkingSpace': True, 'isParkingSpaceIncludedInPrice': True}                                   130\n",
      "{'hasParkingSpace': True, 'isParkingSpaceIncludedInPrice': False, 'parkingSpacePrice': 50.0}         1\n",
      "{'hasParkingSpace': True, 'isParkingSpaceIncludedInPrice': False, 'parkingSpacePrice': 40.0}         1\n",
      "{'hasParkingSpace': True, 'isParkingSpaceIncludedInPrice': False, 'parkingSpacePrice': 90.0}         1\n",
      "{'hasParkingSpace': True, 'isParkingSpaceIncludedInPrice': False, 'parkingSpacePrice': 15000.0}      1\n",
      "Name: count, dtype: int64\n",
      "--------------------------------------\n",
      "|   Columna: newDevelopmentFinished  |\n",
      "No nulos: 13/442\n",
      "-------------------------\n",
      "Valores únicos:\n",
      "newDevelopmentFinished\n",
      "True     8\n",
      "False    5\n",
      "Name: count, dtype: int64\n",
      "--------------------------------------\n"
     ]
    }
   ],
   "source": [
    "for col in df_cat.columns:\n",
    "    print(f\"|   Columna: {col}  |\")\n",
    "    print(f\"No nulos: {df[col].value_counts().sum()}/{df.shape[0]}\")\n",
    "    print(\"-------------------------\")\n",
    "    print(f\"Valores únicos:\")\n",
    "    print(df[col].value_counts())\n",
    "    print(\"--------------------------------------\")"
   ]
  },
  {
   "cell_type": "markdown",
   "metadata": {},
   "source": [
    "# Nos quitamos columnas\n",
    "No nos aportan info las siguientes\n",
    "- operation: solo tiene valor \"rent\"\n",
    "- country: solo tiene valor \"es\"\n",
    "- ParkingSpace: Pocos datos, muchos nulos\n",
    "- superTopHighlight: todo False\n",
    "- topNewDevelopment: todo False\n",
    "- newDevelopmentFinished: Muy pocos datos"
   ]
  },
  {
   "cell_type": "code",
   "execution_count": 76,
   "metadata": {},
   "outputs": [
    {
     "data": {
      "text/html": [
       "<div>\n",
       "<style scoped>\n",
       "    .dataframe tbody tr th:only-of-type {\n",
       "        vertical-align: middle;\n",
       "    }\n",
       "\n",
       "    .dataframe tbody tr th {\n",
       "        vertical-align: top;\n",
       "    }\n",
       "\n",
       "    .dataframe thead th {\n",
       "        text-align: right;\n",
       "    }\n",
       "</style>\n",
       "<table border=\"1\" class=\"dataframe\">\n",
       "  <thead>\n",
       "    <tr style=\"text-align: right;\">\n",
       "      <th></th>\n",
       "      <th>price</th>\n",
       "      <th>propertyType</th>\n",
       "      <th>size</th>\n",
       "      <th>exterior</th>\n",
       "      <th>rooms</th>\n",
       "      <th>bathrooms</th>\n",
       "      <th>address</th>\n",
       "      <th>province</th>\n",
       "      <th>municipality</th>\n",
       "      <th>latitude</th>\n",
       "      <th>longitude</th>\n",
       "      <th>distance</th>\n",
       "      <th>status</th>\n",
       "      <th>priceByArea</th>\n",
       "      <th>hasPlan</th>\n",
       "      <th>has3DTour</th>\n",
       "      <th>has360</th>\n",
       "      <th>floor</th>\n",
       "      <th>district</th>\n",
       "      <th>neighborhood</th>\n",
       "      <th>hasLift</th>\n",
       "    </tr>\n",
       "  </thead>\n",
       "  <tbody>\n",
       "    <tr>\n",
       "      <th>92</th>\n",
       "      <td>650.00</td>\n",
       "      <td>flat</td>\n",
       "      <td>65.00</td>\n",
       "      <td>True</td>\n",
       "      <td>2</td>\n",
       "      <td>1</td>\n",
       "      <td>Calle de Fuente de Lima</td>\n",
       "      <td>Madrid</td>\n",
       "      <td>Madrid</td>\n",
       "      <td>403.827.984</td>\n",
       "      <td>-3.780.637</td>\n",
       "      <td>7559</td>\n",
       "      <td>good</td>\n",
       "      <td>10.00</td>\n",
       "      <td>False</td>\n",
       "      <td>False</td>\n",
       "      <td>False</td>\n",
       "      <td>NaN</td>\n",
       "      <td>Latina</td>\n",
       "      <td>Águilas</td>\n",
       "      <td>True</td>\n",
       "    </tr>\n",
       "  </tbody>\n",
       "</table>\n",
       "</div>"
      ],
      "text/plain": [
       "    price propertyType  size  exterior  rooms  bathrooms  \\\n",
       "92 650.00         flat 65.00      True      2          1   \n",
       "\n",
       "                    address province municipality     latitude   longitude  \\\n",
       "92  Calle de Fuente de Lima   Madrid       Madrid  403.827.984  -3.780.637   \n",
       "\n",
       "    distance status  priceByArea hasPlan has3DTour has360 floor district  \\\n",
       "92      7559   good        10.00   False     False  False   NaN   Latina   \n",
       "\n",
       "   neighborhood hasLift  \n",
       "92      Águilas    True  "
      ]
     },
     "execution_count": 76,
     "metadata": {},
     "output_type": "execute_result"
    }
   ],
   "source": [
    "cols_chao = [\"operation\",\"country\",\"parkingSpace\",\"superTopHighlight\",\"topNewDevelopment\",\"newDevelopmentFinished\"]\n",
    "df.drop(columns=cols_chao,inplace=True)\n",
    "df.sample()\n"
   ]
  }
 ],
 "metadata": {
  "kernelspec": {
   "display_name": "Python 3",
   "language": "python",
   "name": "python3"
  },
  "language_info": {
   "codemirror_mode": {
    "name": "ipython",
    "version": 3
   },
   "file_extension": ".py",
   "mimetype": "text/x-python",
   "name": "python",
   "nbconvert_exporter": "python",
   "pygments_lexer": "ipython3",
   "version": "3.11.9"
  }
 },
 "nbformat": 4,
 "nbformat_minor": 2
}
