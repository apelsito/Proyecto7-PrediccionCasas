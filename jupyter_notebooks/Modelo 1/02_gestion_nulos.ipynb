{
 "cells": [
  {
   "cell_type": "markdown",
   "metadata": {},
   "source": [
    "# Geopy para rellenar falsos"
   ]
  },
  {
   "cell_type": "code",
   "execution_count": null,
   "metadata": {
    "vscode": {
     "languageId": "plaintext"
    }
   },
   "outputs": [],
   "source": [
    "from geopy.geocoders import Nominatim\n",
    "from tqdm import tqdm\n",
    "\n",
    "# Inicializar el geocodificador\n",
    "geolocator = Nominatim(user_agent=\"lab-geolocation-GRO\") #User agent debe ser lo que quieras\n",
    "direcciones = df[\"address\"].tolist()\n",
    "for direccion in tqdm(direcciones):\n",
    "    print(f\"{direccion},Madrid,España\")\n",
    "    location = geolocator.geocode(f\"{direccion},Madrid,España\")\n",
    "    # Reverse geocoding para obtener detalles administrativos\n",
    "    ubicacion_detalles = geolocator.reverse((location.latitude, location.longitude), exactly_one=True)\n",
    "    if ubicacion_detalles and ubicacion_detalles.raw.get('address'):\n",
    "        detalles = ubicacion_detalles.raw['address']\n",
    "        print(f\"Distrito: {detalles.get('city_district', 'No disponible')}\")\n",
    "        print(f\"Municipio: {detalles.get('municipality', detalles.get('city', 'No disponible'))}\")\n",
    "        print(f\"Provincia: {detalles.get('state', 'No disponible')}\")\n",
    "        print(f\"Vecindario: {detalles.get('suburb', 'No disponible')}\")\n"
   ]
  }
 ],
 "metadata": {
  "language_info": {
   "name": "python"
  }
 },
 "nbformat": 4,
 "nbformat_minor": 2
}
