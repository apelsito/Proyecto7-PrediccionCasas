{
 "cells": [
  {
   "cell_type": "code",
   "execution_count": 196,
   "metadata": {},
   "outputs": [],
   "source": [
    "# Tratamiento de datos\n",
    "# -----------------------------------------------------------------------\n",
    "import numpy as np\n",
    "import pandas as pd\n",
    "\n",
    "# Otros objetivos\n",
    "# -----------------------------------------------------------------------\n",
    "import math\n",
    "\n",
    "from geopy.geocoders import Nominatim\n",
    "from geopy.exc import GeocoderTimedOut\n",
    "from tqdm import tqdm\n",
    "import time\n",
    "\n",
    "# Gráficos\n",
    "# -----------------------------------------------------------------------\n",
    "import seaborn as sns\n",
    "import matplotlib.pyplot as plt\n",
    "import sys\n",
    "sys.path.append(\"../../\")\n",
    "from src.SupportPreProcesamiento import (\n",
    "    exploracion_dataframe,\n",
    "    separarar_df,\n",
    "    plot_numericas,\n",
    "    plot_categoricas,\n",
    "    relacion_vr_categoricas,\n",
    "    relacion_vr_numericas,\n",
    "    matriz_correlacion,\n",
    "    detectar_outliers,\n",
    "    diferencia_tras_rellenar_nulos\n",
    ")\n",
    "\n",
    "pd.set_option('display.float_format', '{:.2f}'.format)\n",
    "\n",
    "\n",
    "# Imputación de nulos usando métodos avanzados estadísticos\n",
    "# -----------------------------------------------------------------------\n",
    "from sklearn.impute import SimpleImputer\n",
    "from sklearn.experimental import enable_iterative_imputer\n",
    "from sklearn.impute import IterativeImputer\n",
    "from sklearn.impute import KNNImputer\n",
    "from sklearn.ensemble import RandomForestRegressor\n",
    "\n",
    "import warnings\n",
    "warnings.filterwarnings(\"ignore\")\n",
    "pd.set_option('display.max_columns',100)\n"
   ]
  },
  {
   "cell_type": "code",
   "execution_count": 197,
   "metadata": {},
   "outputs": [
    {
     "data": {
      "text/html": [
       "<div>\n",
       "<style scoped>\n",
       "    .dataframe tbody tr th:only-of-type {\n",
       "        vertical-align: middle;\n",
       "    }\n",
       "\n",
       "    .dataframe tbody tr th {\n",
       "        vertical-align: top;\n",
       "    }\n",
       "\n",
       "    .dataframe thead th {\n",
       "        text-align: right;\n",
       "    }\n",
       "</style>\n",
       "<table border=\"1\" class=\"dataframe\">\n",
       "  <thead>\n",
       "    <tr style=\"text-align: right;\">\n",
       "      <th></th>\n",
       "      <th>propertyType</th>\n",
       "      <th>status</th>\n",
       "      <th>price</th>\n",
       "      <th>priceByArea</th>\n",
       "      <th>size</th>\n",
       "      <th>rooms</th>\n",
       "      <th>bathrooms</th>\n",
       "      <th>floor</th>\n",
       "      <th>neighborhood</th>\n",
       "      <th>address</th>\n",
       "      <th>district</th>\n",
       "      <th>province</th>\n",
       "      <th>municipality</th>\n",
       "      <th>exterior</th>\n",
       "      <th>hasLift</th>\n",
       "      <th>hasPlan</th>\n",
       "      <th>has3DTour</th>\n",
       "      <th>has360</th>\n",
       "      <th>distance</th>\n",
       "    </tr>\n",
       "  </thead>\n",
       "  <tbody>\n",
       "    <tr>\n",
       "      <th>160</th>\n",
       "      <td>flat</td>\n",
       "      <td>good</td>\n",
       "      <td>610.00</td>\n",
       "      <td>8.00</td>\n",
       "      <td>72.00</td>\n",
       "      <td>1</td>\n",
       "      <td>1</td>\n",
       "      <td>bj</td>\n",
       "      <td>NaN</td>\n",
       "      <td>Calle de Pedro Faura</td>\n",
       "      <td>San José - Buenos Aires</td>\n",
       "      <td>Madrid</td>\n",
       "      <td>Pinto</td>\n",
       "      <td>False</td>\n",
       "      <td>True</td>\n",
       "      <td>True</td>\n",
       "      <td>False</td>\n",
       "      <td>True</td>\n",
       "      <td>19544</td>\n",
       "    </tr>\n",
       "  </tbody>\n",
       "</table>\n",
       "</div>"
      ],
      "text/plain": [
       "    propertyType status  price  priceByArea  size  rooms  bathrooms floor  \\\n",
       "160         flat   good 610.00         8.00 72.00      1          1    bj   \n",
       "\n",
       "    neighborhood               address                 district province  \\\n",
       "160          NaN  Calle de Pedro Faura  San José - Buenos Aires   Madrid   \n",
       "\n",
       "    municipality  exterior hasLift hasPlan has3DTour has360  distance  \n",
       "160        Pinto     False    True    True     False   True     19544  "
      ]
     },
     "execution_count": 197,
     "metadata": {},
     "output_type": "execute_result"
    }
   ],
   "source": [
    "df = pd.read_csv(\"../../datos/02_api_rent_limpieza_cols.csv\")\n",
    "df.sample()"
   ]
  },
  {
   "cell_type": "markdown",
   "metadata": {},
   "source": [
    "# Gestión de Valores erróneos\n",
    "Vamos a revisarlos en:\n",
    "- Precio\n",
    "- pricebyarea\n",
    "- size\n",
    "- rooms\n",
    "- bathrooms\n"
   ]
  },
  {
   "cell_type": "code",
   "execution_count": 198,
   "metadata": {},
   "outputs": [
    {
     "data": {
      "text/plain": [
       "array(['Toledo', 'Madrid', 'Guadalajara', 'Segovia', 'Ávila'],\n",
       "      dtype=object)"
      ]
     },
     "execution_count": 198,
     "metadata": {},
     "output_type": "execute_result"
    }
   ],
   "source": [
    "df[\"province\"].unique()"
   ]
  },
  {
   "cell_type": "code",
   "execution_count": 199,
   "metadata": {},
   "outputs": [
    {
     "data": {
      "text/plain": [
       "array([550., 750., 400., 450., 590., 684., 600., 700., 695., 650., 675.,\n",
       "       500., 680., 747., 730., 640., 530., 625., 720., 699., 620., 595.,\n",
       "       725., 666., 630., 635., 740., 690., 624., 633., 645., 735., 705.,\n",
       "       710., 610., 580., 560., 670., 723., 660., 692., 609., 718., 694.,\n",
       "       658., 728., 495., 715., 475., 470., 749., 667., 340., 525., 685.,\n",
       "       460., 350., 430., 380., 733., 605., 480., 745.])"
      ]
     },
     "execution_count": 199,
     "metadata": {},
     "output_type": "execute_result"
    }
   ],
   "source": [
    "df[\"price\"].unique()"
   ]
  },
  {
   "cell_type": "markdown",
   "metadata": {},
   "source": [
    "No se ven anómalos"
   ]
  },
  {
   "cell_type": "markdown",
   "metadata": {},
   "source": [
    "### Price by Area"
   ]
  },
  {
   "cell_type": "code",
   "execution_count": 200,
   "metadata": {},
   "outputs": [
    {
     "data": {
      "text/plain": [
       "array([ 1., 13., 11.,  6.,  5.,  8., nan, 10., 25., 16., 23., 20.,  3.,\n",
       "        7., 17.,  4., 18., 15., 30., 19., 12.,  9., 14., 26., 21., 24.,\n",
       "       22., 29., 33., 31., 28.,  2.])"
      ]
     },
     "execution_count": 200,
     "metadata": {},
     "output_type": "execute_result"
    }
   ],
   "source": [
    "df[\"priceByArea\"].unique()"
   ]
  },
  {
   "cell_type": "markdown",
   "metadata": {},
   "source": [
    "Se ven anómalos aquellos menores a 5€ el m2 Teniendo en cuenta que estamos con 'Toledo', 'Madrid', 'Guadalajara', 'Segovia', 'Ávila'\n",
    "- Veamos cuantos hay por debajo de 5"
   ]
  },
  {
   "cell_type": "code",
   "execution_count": 201,
   "metadata": {},
   "outputs": [
    {
     "data": {
      "text/plain": [
       "(15, 19)"
      ]
     },
     "execution_count": 201,
     "metadata": {},
     "output_type": "execute_result"
    }
   ],
   "source": [
    "cond = df[\"priceByArea\"] < 5\n",
    "df[cond].shape"
   ]
  },
  {
   "cell_type": "markdown",
   "metadata": {},
   "source": [
    "Los nulificamos"
   ]
  },
  {
   "cell_type": "code",
   "execution_count": 202,
   "metadata": {},
   "outputs": [],
   "source": [
    "df.loc[cond,\"priceByArea\"] = np.nan"
   ]
  },
  {
   "cell_type": "markdown",
   "metadata": {},
   "source": [
    "### size"
   ]
  },
  {
   "cell_type": "code",
   "execution_count": 203,
   "metadata": {},
   "outputs": [
    {
     "data": {
      "text/plain": [
       "0     371.00\n",
       "407   341.00\n",
       "260   238.00\n",
       "71    230.00\n",
       "237   216.00\n",
       "Name: size, dtype: float64"
      ]
     },
     "execution_count": 203,
     "metadata": {},
     "output_type": "execute_result"
    }
   ],
   "source": [
    "df[\"size\"].nlargest(5)"
   ]
  },
  {
   "cell_type": "code",
   "execution_count": 204,
   "metadata": {},
   "outputs": [
    {
     "data": {
      "text/plain": [
       "335   20.00\n",
       "169   23.00\n",
       "280   23.00\n",
       "34    25.00\n",
       "133   25.00\n",
       "Name: size, dtype: float64"
      ]
     },
     "execution_count": 204,
     "metadata": {},
     "output_type": "execute_result"
    }
   ],
   "source": [
    "df[\"size\"].nsmallest(5)"
   ]
  },
  {
   "cell_type": "markdown",
   "metadata": {},
   "source": [
    "No parece erróneos"
   ]
  },
  {
   "cell_type": "markdown",
   "metadata": {},
   "source": [
    "### rooms"
   ]
  },
  {
   "cell_type": "code",
   "execution_count": 205,
   "metadata": {},
   "outputs": [
    {
     "data": {
      "text/plain": [
       "array([6, 1, 2, 3, 0, 4])"
      ]
     },
     "execution_count": 205,
     "metadata": {},
     "output_type": "execute_result"
    }
   ],
   "source": [
    "df[\"rooms\"].unique()"
   ]
  },
  {
   "cell_type": "markdown",
   "metadata": {},
   "source": [
    "0 es que son estudios"
   ]
  },
  {
   "cell_type": "markdown",
   "metadata": {},
   "source": [
    "### bathrooms"
   ]
  },
  {
   "cell_type": "code",
   "execution_count": 206,
   "metadata": {},
   "outputs": [
    {
     "data": {
      "text/plain": [
       "array([3, 1, 2])"
      ]
     },
     "execution_count": 206,
     "metadata": {},
     "output_type": "execute_result"
    }
   ],
   "source": [
    "df[\"bathrooms\"].unique()"
   ]
  },
  {
   "cell_type": "markdown",
   "metadata": {},
   "source": [
    "No se ven valores erróneos"
   ]
  },
  {
   "cell_type": "markdown",
   "metadata": {},
   "source": [
    "# Corregir \"floor\"\n",
    "- Vamos a pasar todo a texto para que sea una categórica"
   ]
  },
  {
   "cell_type": "code",
   "execution_count": 207,
   "metadata": {},
   "outputs": [
    {
     "data": {
      "text/plain": [
       "array([nan, '3', 'bj', '2', '1', '5', 'en', '4', 'st', '8', '7', '6',\n",
       "       '14', 'ss'], dtype=object)"
      ]
     },
     "execution_count": 207,
     "metadata": {},
     "output_type": "execute_result"
    }
   ],
   "source": [
    "df[\"floor\"].unique()"
   ]
  },
  {
   "cell_type": "markdown",
   "metadata": {},
   "source": [
    "### Generamos un diccionario para aplicar los cambios"
   ]
  },
  {
   "cell_type": "code",
   "execution_count": 208,
   "metadata": {},
   "outputs": [
    {
     "data": {
      "text/plain": [
       "array([nan, 'tercero', 'bajo', 'segundo', 'primero', 'quinto',\n",
       "       'entreplanta', 'cuarto', 'sotano', 'octavo', 'septimo', 'sexto',\n",
       "       'decimo cuarto'], dtype=object)"
      ]
     },
     "execution_count": 208,
     "metadata": {},
     "output_type": "execute_result"
    }
   ],
   "source": [
    "diccionario_pisos = {\n",
    "    \"1\": \"primero\",\n",
    "    \"2\": \"segundo\",\n",
    "    \"3\": \"tercero\",\n",
    "    \"4\": \"cuarto\",\n",
    "    \"5\": \"quinto\",\n",
    "    \"6\": \"sexto\",\n",
    "    \"7\": \"septimo\",\n",
    "    \"8\": \"octavo\",\n",
    "    \"14\": \"decimo cuarto\",\n",
    "    \"bj\": \"bajo\",\n",
    "    \"en\": \"entreplanta\",\n",
    "    \"ss\": \"sotano\",\n",
    "    \"st\": \"sotano\",\n",
    "}\n",
    "\n",
    "df[\"floor\"] = df[\"floor\"].map(diccionario_pisos)\n",
    "df[\"floor\"].unique()\n"
   ]
  },
  {
   "cell_type": "markdown",
   "metadata": {},
   "source": [
    "# Reducción / Simplificación de columnas\n",
    "- Vamos a quitarnos todo lo que:\n",
    "    - Especifique demasiado para el precio\n",
    "- Vamos a simplificar todo lo que:\n",
    "    - Especifique demasiado, pero al generalizarlo, aporte valor"
   ]
  },
  {
   "cell_type": "code",
   "execution_count": 209,
   "metadata": {},
   "outputs": [
    {
     "data": {
      "text/html": [
       "<div>\n",
       "<style scoped>\n",
       "    .dataframe tbody tr th:only-of-type {\n",
       "        vertical-align: middle;\n",
       "    }\n",
       "\n",
       "    .dataframe tbody tr th {\n",
       "        vertical-align: top;\n",
       "    }\n",
       "\n",
       "    .dataframe thead th {\n",
       "        text-align: right;\n",
       "    }\n",
       "</style>\n",
       "<table border=\"1\" class=\"dataframe\">\n",
       "  <thead>\n",
       "    <tr style=\"text-align: right;\">\n",
       "      <th></th>\n",
       "      <th>propertyType</th>\n",
       "      <th>status</th>\n",
       "      <th>price</th>\n",
       "      <th>priceByArea</th>\n",
       "      <th>size</th>\n",
       "      <th>rooms</th>\n",
       "      <th>bathrooms</th>\n",
       "      <th>floor</th>\n",
       "      <th>neighborhood</th>\n",
       "      <th>address</th>\n",
       "      <th>district</th>\n",
       "      <th>province</th>\n",
       "      <th>municipality</th>\n",
       "      <th>exterior</th>\n",
       "      <th>hasLift</th>\n",
       "      <th>hasPlan</th>\n",
       "      <th>has3DTour</th>\n",
       "      <th>has360</th>\n",
       "      <th>distance</th>\n",
       "    </tr>\n",
       "  </thead>\n",
       "  <tbody>\n",
       "    <tr>\n",
       "      <th>330</th>\n",
       "      <td>flat</td>\n",
       "      <td>good</td>\n",
       "      <td>600.00</td>\n",
       "      <td>9.00</td>\n",
       "      <td>70.00</td>\n",
       "      <td>3</td>\n",
       "      <td>1</td>\n",
       "      <td>segundo</td>\n",
       "      <td>NaN</td>\n",
       "      <td>Colonia Esperanza</td>\n",
       "      <td>NaN</td>\n",
       "      <td>Segovia</td>\n",
       "      <td>San Ildefonso o la Granja</td>\n",
       "      <td>True</td>\n",
       "      <td>False</td>\n",
       "      <td>False</td>\n",
       "      <td>False</td>\n",
       "      <td>False</td>\n",
       "      <td>59919</td>\n",
       "    </tr>\n",
       "  </tbody>\n",
       "</table>\n",
       "</div>"
      ],
      "text/plain": [
       "    propertyType status  price  priceByArea  size  rooms  bathrooms    floor  \\\n",
       "330         flat   good 600.00         9.00 70.00      3          1  segundo   \n",
       "\n",
       "    neighborhood            address district province  \\\n",
       "330          NaN  Colonia Esperanza      NaN  Segovia   \n",
       "\n",
       "                  municipality  exterior hasLift hasPlan has3DTour has360  \\\n",
       "330  San Ildefonso o la Granja      True   False   False     False  False   \n",
       "\n",
       "     distance  \n",
       "330     59919  "
      ]
     },
     "execution_count": 209,
     "metadata": {},
     "output_type": "execute_result"
    }
   ],
   "source": [
    "df.sample()"
   ]
  },
  {
   "cell_type": "markdown",
   "metadata": {},
   "source": [
    "### Dropeamos\n",
    "- address: No se puede generalizar"
   ]
  },
  {
   "cell_type": "code",
   "execution_count": 210,
   "metadata": {},
   "outputs": [],
   "source": [
    "df.drop(columns=\"address\",inplace=True)"
   ]
  },
  {
   "cell_type": "markdown",
   "metadata": {},
   "source": [
    "### Generalizamos\n",
    "- distance: Lo haremos por rangos de distancia al centro"
   ]
  },
  {
   "cell_type": "code",
   "execution_count": 211,
   "metadata": {},
   "outputs": [
    {
     "data": {
      "text/plain": [
       "330    59919\n",
       "359    59674\n",
       "361    59601\n",
       "293    59351\n",
       "352    59106\n",
       "Name: distance, dtype: int64"
      ]
     },
     "execution_count": 211,
     "metadata": {},
     "output_type": "execute_result"
    }
   ],
   "source": [
    "df[\"distance\"].nlargest()"
   ]
  },
  {
   "cell_type": "code",
   "execution_count": 212,
   "metadata": {},
   "outputs": [
    {
     "data": {
      "text/plain": [
       "133    183\n",
       "154    470\n",
       "34     533\n",
       "168    625\n",
       "394    691\n",
       "Name: distance, dtype: int64"
      ]
     },
     "execution_count": 212,
     "metadata": {},
     "output_type": "execute_result"
    }
   ],
   "source": [
    "df[\"distance\"].nsmallest()"
   ]
  },
  {
   "cell_type": "code",
   "execution_count": 213,
   "metadata": {},
   "outputs": [],
   "source": [
    "df[\"distancia_centro\"] = \"unknown\"\n",
    "df.loc[df[\"distance\"].between(0,1000,inclusive=\"left\"), \"distancia_centro\"] = \"Menos de 1 km\"\n",
    "df.loc[df[\"distance\"].between(1000,5000,inclusive=\"left\"), \"distancia_centro\"] = \"Entre 1 y 5 km\"\n",
    "df.loc[df[\"distance\"].between(5000,10000,inclusive=\"left\"), \"distancia_centro\"] =  \"Entre 5 y 10 km\"\n",
    "df.loc[df[\"distance\"].between(10000,20000,inclusive=\"left\"), \"distancia_centro\"] = \"Entre 10 y 20 km\"\n",
    "df.loc[df[\"distance\"].between(20000,30000,inclusive=\"left\"), \"distancia_centro\"] = \"Entre 20 y 30 km\"\n",
    "df.loc[df[\"distance\"].between(30000,40000,inclusive=\"left\"), \"distancia_centro\"] = \"Entre 30 y 40 km\"\n",
    "df.loc[df[\"distance\"].between(40000,50000,inclusive=\"both\"), \"distancia_centro\"] = \"Entre 40 y 50 km\"\n",
    "df.loc[df[\"distance\"] > 50000, \"distancia_centro\"] = \"Mas de 50 km\""
   ]
  },
  {
   "cell_type": "code",
   "execution_count": 214,
   "metadata": {},
   "outputs": [
    {
     "data": {
      "text/plain": [
       "distancia_centro\n",
       "Entre 5 y 10 km     82\n",
       "Entre 20 y 30 km    74\n",
       "Entre 10 y 20 km    65\n",
       "Entre 30 y 40 km    62\n",
       "Entre 1 y 5 km      62\n",
       "Entre 40 y 50 km    45\n",
       "Mas de 50 km        40\n",
       "Menos de 1 km       12\n",
       "Name: count, dtype: int64"
      ]
     },
     "execution_count": 214,
     "metadata": {},
     "output_type": "execute_result"
    }
   ],
   "source": [
    "df[\"distancia_centro\"].value_counts()"
   ]
  },
  {
   "cell_type": "markdown",
   "metadata": {},
   "source": [
    "# Dropeamos distance"
   ]
  },
  {
   "cell_type": "code",
   "execution_count": 215,
   "metadata": {},
   "outputs": [],
   "source": [
    "df.drop(columns=\"distance\",inplace=True)"
   ]
  },
  {
   "cell_type": "markdown",
   "metadata": {},
   "source": [
    "# Gestionar nulos variables categóricas\n",
    "- Las booleanas las volvemos categóricas\n",
    "- Los nans los pondremos en desconocido"
   ]
  },
  {
   "cell_type": "code",
   "execution_count": 216,
   "metadata": {},
   "outputs": [
    {
     "name": "stdout",
     "output_type": "stream",
     "text": [
      "<class 'pandas.core.frame.DataFrame'>\n",
      "RangeIndex: 442 entries, 0 to 441\n",
      "Data columns (total 18 columns):\n",
      " #   Column            Non-Null Count  Dtype  \n",
      "---  ------            --------------  -----  \n",
      " 0   propertyType      442 non-null    object \n",
      " 1   status            424 non-null    object \n",
      " 2   price             442 non-null    float64\n",
      " 3   priceByArea       409 non-null    float64\n",
      " 4   size              442 non-null    float64\n",
      " 5   rooms             442 non-null    int64  \n",
      " 6   bathrooms         442 non-null    int64  \n",
      " 7   floor             361 non-null    object \n",
      " 8   neighborhood      174 non-null    object \n",
      " 9   district          333 non-null    object \n",
      " 10  province          442 non-null    object \n",
      " 11  municipality      442 non-null    object \n",
      " 12  exterior          442 non-null    bool   \n",
      " 13  hasLift           411 non-null    object \n",
      " 14  hasPlan           424 non-null    object \n",
      " 15  has3DTour         424 non-null    object \n",
      " 16  has360            424 non-null    object \n",
      " 17  distancia_centro  442 non-null    object \n",
      "dtypes: bool(1), float64(3), int64(2), object(12)\n",
      "memory usage: 59.3+ KB\n"
     ]
    }
   ],
   "source": [
    "df.info()"
   ]
  },
  {
   "cell_type": "markdown",
   "metadata": {},
   "source": [
    "# Columnas Categóricas\n",
    "\n",
    "- hasPlan\n",
    "- has3DTour\n",
    "- has360\n",
    "- distancia_centro"
   ]
  },
  {
   "cell_type": "markdown",
   "metadata": {},
   "source": [
    "### propertyType"
   ]
  },
  {
   "cell_type": "code",
   "execution_count": 217,
   "metadata": {},
   "outputs": [
    {
     "data": {
      "text/plain": [
       "np.int64(0)"
      ]
     },
     "execution_count": 217,
     "metadata": {},
     "output_type": "execute_result"
    }
   ],
   "source": [
    "df[\"propertyType\"].isnull().sum()"
   ]
  },
  {
   "cell_type": "markdown",
   "metadata": {},
   "source": [
    "### status"
   ]
  },
  {
   "cell_type": "code",
   "execution_count": null,
   "metadata": {},
   "outputs": [],
   "source": []
  },
  {
   "cell_type": "markdown",
   "metadata": {},
   "source": [
    "### floor"
   ]
  },
  {
   "cell_type": "code",
   "execution_count": null,
   "metadata": {},
   "outputs": [],
   "source": []
  },
  {
   "cell_type": "markdown",
   "metadata": {},
   "source": [
    "### neighborhood "
   ]
  },
  {
   "cell_type": "code",
   "execution_count": null,
   "metadata": {},
   "outputs": [],
   "source": []
  },
  {
   "cell_type": "markdown",
   "metadata": {},
   "source": [
    "### district"
   ]
  },
  {
   "cell_type": "code",
   "execution_count": null,
   "metadata": {},
   "outputs": [],
   "source": []
  },
  {
   "cell_type": "markdown",
   "metadata": {},
   "source": [
    "### province"
   ]
  },
  {
   "cell_type": "code",
   "execution_count": null,
   "metadata": {},
   "outputs": [],
   "source": []
  },
  {
   "cell_type": "markdown",
   "metadata": {},
   "source": [
    "### municipality"
   ]
  },
  {
   "cell_type": "code",
   "execution_count": null,
   "metadata": {},
   "outputs": [],
   "source": []
  },
  {
   "cell_type": "markdown",
   "metadata": {},
   "source": [
    "###  exterior"
   ]
  },
  {
   "cell_type": "markdown",
   "metadata": {},
   "source": [
    "### hasLift"
   ]
  }
 ],
 "metadata": {
  "kernelspec": {
   "display_name": "Python 3",
   "language": "python",
   "name": "python3"
  },
  "language_info": {
   "codemirror_mode": {
    "name": "ipython",
    "version": 3
   },
   "file_extension": ".py",
   "mimetype": "text/x-python",
   "name": "python",
   "nbconvert_exporter": "python",
   "pygments_lexer": "ipython3",
   "version": "3.11.9"
  }
 },
 "nbformat": 4,
 "nbformat_minor": 2
}
