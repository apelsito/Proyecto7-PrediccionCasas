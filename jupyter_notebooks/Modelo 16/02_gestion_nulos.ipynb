{
 "cells": [
  {
   "cell_type": "code",
   "execution_count": 83,
   "metadata": {},
   "outputs": [],
   "source": [
    "# Tratamiento de datos\n",
    "# -----------------------------------------------------------------------\n",
    "import numpy as np\n",
    "import pandas as pd\n",
    "pd.set_option('display.float_format', '{:.2f}'.format)\n",
    "\n",
    "\n",
    "# Imputación de nulos usando métodos avanzados estadísticos\n",
    "# -----------------------------------------------------------------------\n",
    "from sklearn.impute import SimpleImputer\n",
    "from sklearn.experimental import enable_iterative_imputer\n",
    "from sklearn.impute import IterativeImputer\n",
    "from sklearn.impute import KNNImputer\n",
    "from sklearn.ensemble import RandomForestRegressor\n",
    "\n",
    "import warnings\n",
    "warnings.filterwarnings(\"ignore\")\n",
    "pd.set_option('display.max_columns',100)\n"
   ]
  },
  {
   "cell_type": "code",
   "execution_count": 84,
   "metadata": {},
   "outputs": [
    {
     "data": {
      "text/html": [
       "<div>\n",
       "<style scoped>\n",
       "    .dataframe tbody tr th:only-of-type {\n",
       "        vertical-align: middle;\n",
       "    }\n",
       "\n",
       "    .dataframe tbody tr th {\n",
       "        vertical-align: top;\n",
       "    }\n",
       "\n",
       "    .dataframe thead th {\n",
       "        text-align: right;\n",
       "    }\n",
       "</style>\n",
       "<table border=\"1\" class=\"dataframe\">\n",
       "  <thead>\n",
       "    <tr style=\"text-align: right;\">\n",
       "      <th></th>\n",
       "      <th>propertyType</th>\n",
       "      <th>status</th>\n",
       "      <th>price</th>\n",
       "      <th>size</th>\n",
       "      <th>rooms</th>\n",
       "      <th>bathrooms</th>\n",
       "      <th>floor</th>\n",
       "      <th>neighborhood</th>\n",
       "      <th>address</th>\n",
       "      <th>district</th>\n",
       "      <th>province</th>\n",
       "      <th>municipality</th>\n",
       "      <th>exterior</th>\n",
       "      <th>hasLift</th>\n",
       "      <th>hasPlan</th>\n",
       "      <th>has3DTour</th>\n",
       "      <th>has360</th>\n",
       "      <th>distance</th>\n",
       "    </tr>\n",
       "  </thead>\n",
       "  <tbody>\n",
       "    <tr>\n",
       "      <th>294</th>\n",
       "      <td>flat</td>\n",
       "      <td>good</td>\n",
       "      <td>550.00</td>\n",
       "      <td>76.00</td>\n",
       "      <td>2</td>\n",
       "      <td>1</td>\n",
       "      <td>2</td>\n",
       "      <td>NaN</td>\n",
       "      <td>Yuncos</td>\n",
       "      <td>NaN</td>\n",
       "      <td>Toledo</td>\n",
       "      <td>Yuncos</td>\n",
       "      <td>True</td>\n",
       "      <td>True</td>\n",
       "      <td>False</td>\n",
       "      <td>False</td>\n",
       "      <td>False</td>\n",
       "      <td>38544</td>\n",
       "    </tr>\n",
       "  </tbody>\n",
       "</table>\n",
       "</div>"
      ],
      "text/plain": [
       "    propertyType status  price  size  rooms  bathrooms floor neighborhood  \\\n",
       "294         flat   good 550.00 76.00      2          1     2          NaN   \n",
       "\n",
       "    address district province municipality  exterior hasLift hasPlan  \\\n",
       "294  Yuncos      NaN   Toledo       Yuncos      True    True   False   \n",
       "\n",
       "    has3DTour has360  distance  \n",
       "294     False  False     38544  "
      ]
     },
     "execution_count": 84,
     "metadata": {},
     "output_type": "execute_result"
    }
   ],
   "source": [
    "df = pd.read_csv(\"../../datos/02_api_rent_limpieza_cols.csv\")\n",
    "df.sample()"
   ]
  },
  {
   "cell_type": "markdown",
   "metadata": {},
   "source": [
    "# Gestión de Valores erróneos\n",
    "Vamos a revisarlos en:\n",
    "- Precio\n",
    "- pricebyarea\n",
    "- size\n",
    "- rooms\n",
    "- bathrooms\n"
   ]
  },
  {
   "cell_type": "code",
   "execution_count": 85,
   "metadata": {},
   "outputs": [
    {
     "data": {
      "text/plain": [
       "array(['Toledo', 'Madrid', 'Guadalajara', 'Segovia', 'Ávila'],\n",
       "      dtype=object)"
      ]
     },
     "execution_count": 85,
     "metadata": {},
     "output_type": "execute_result"
    }
   ],
   "source": [
    "df[\"province\"].unique()"
   ]
  },
  {
   "cell_type": "markdown",
   "metadata": {},
   "source": [
    "### Modelo 7 Eliminar casas ajenas a \"Madrid\" "
   ]
  },
  {
   "cell_type": "code",
   "execution_count": 86,
   "metadata": {},
   "outputs": [
    {
     "data": {
      "text/plain": [
       "(353, 18)"
      ]
     },
     "execution_count": 86,
     "metadata": {},
     "output_type": "execute_result"
    }
   ],
   "source": [
    "df = df[df[\"province\"] == \"Madrid\"]\n",
    "df.reset_index(drop=True,inplace=True)\n",
    "df.shape"
   ]
  },
  {
   "cell_type": "code",
   "execution_count": 87,
   "metadata": {},
   "outputs": [
    {
     "data": {
      "text/plain": [
       "array([750., 400., 590., 684., 600., 550., 700., 695., 650., 675., 680.,\n",
       "       747., 640., 625., 720., 699., 620., 500., 595., 725., 666., 630.,\n",
       "       635., 690., 730., 624., 633., 645., 735., 705., 710., 610., 580.,\n",
       "       560., 740., 670., 723., 450., 660., 692., 609., 718., 694., 658.,\n",
       "       728., 715., 475., 749., 667., 525., 733., 745.])"
      ]
     },
     "execution_count": 87,
     "metadata": {},
     "output_type": "execute_result"
    }
   ],
   "source": [
    "df[\"price\"].unique()"
   ]
  },
  {
   "cell_type": "markdown",
   "metadata": {},
   "source": [
    "No se ven anómalos"
   ]
  },
  {
   "cell_type": "markdown",
   "metadata": {},
   "source": [
    "### size"
   ]
  },
  {
   "cell_type": "code",
   "execution_count": 88,
   "metadata": {},
   "outputs": [
    {
     "data": {
      "text/plain": [
       "18    206.00\n",
       "248   180.00\n",
       "195   168.00\n",
       "225   161.00\n",
       "191   155.00\n",
       "Name: size, dtype: float64"
      ]
     },
     "execution_count": 88,
     "metadata": {},
     "output_type": "execute_result"
    }
   ],
   "source": [
    "df[\"size\"].nlargest(5)"
   ]
  },
  {
   "cell_type": "code",
   "execution_count": 89,
   "metadata": {},
   "outputs": [
    {
     "data": {
      "text/plain": [
       "280   20.00\n",
       "137   23.00\n",
       "236   23.00\n",
       "27    25.00\n",
       "108   25.00\n",
       "Name: size, dtype: float64"
      ]
     },
     "execution_count": 89,
     "metadata": {},
     "output_type": "execute_result"
    }
   ],
   "source": [
    "df[\"size\"].nsmallest(5)"
   ]
  },
  {
   "cell_type": "markdown",
   "metadata": {},
   "source": [
    "No parece erróneos"
   ]
  },
  {
   "cell_type": "markdown",
   "metadata": {},
   "source": [
    "### rooms"
   ]
  },
  {
   "cell_type": "code",
   "execution_count": 90,
   "metadata": {},
   "outputs": [
    {
     "data": {
      "text/plain": [
       "array([1, 2, 3, 0, 4])"
      ]
     },
     "execution_count": 90,
     "metadata": {},
     "output_type": "execute_result"
    }
   ],
   "source": [
    "df[\"rooms\"].unique()"
   ]
  },
  {
   "cell_type": "markdown",
   "metadata": {},
   "source": [
    "0 es que son estudios"
   ]
  },
  {
   "cell_type": "markdown",
   "metadata": {},
   "source": [
    "### bathrooms"
   ]
  },
  {
   "cell_type": "code",
   "execution_count": 91,
   "metadata": {},
   "outputs": [
    {
     "data": {
      "text/plain": [
       "array([1, 2, 3])"
      ]
     },
     "execution_count": 91,
     "metadata": {},
     "output_type": "execute_result"
    }
   ],
   "source": [
    "df[\"bathrooms\"].unique()"
   ]
  },
  {
   "cell_type": "markdown",
   "metadata": {},
   "source": [
    "No se ven valores erróneos"
   ]
  },
  {
   "cell_type": "markdown",
   "metadata": {},
   "source": [
    "# Corregir \"floor\"\n",
    "- Vamos a pasar todo a texto para que sea una categórica"
   ]
  },
  {
   "cell_type": "code",
   "execution_count": 92,
   "metadata": {},
   "outputs": [
    {
     "data": {
      "text/plain": [
       "array(['3', 'bj', '2', nan, '1', '5', 'en', '4', 'st', '8', '7', '6',\n",
       "       '14', 'ss'], dtype=object)"
      ]
     },
     "execution_count": 92,
     "metadata": {},
     "output_type": "execute_result"
    }
   ],
   "source": [
    "df[\"floor\"].unique()"
   ]
  },
  {
   "cell_type": "markdown",
   "metadata": {},
   "source": [
    "### Generamos un diccionario para aplicar los cambios"
   ]
  },
  {
   "cell_type": "code",
   "execution_count": 93,
   "metadata": {},
   "outputs": [
    {
     "data": {
      "text/plain": [
       "array(['tercero', 'bajo', 'segundo', nan, 'primero', 'quinto',\n",
       "       'entreplanta', 'cuarto', 'sotano', 'octavo', 'septimo', 'sexto',\n",
       "       'decimo cuarto'], dtype=object)"
      ]
     },
     "execution_count": 93,
     "metadata": {},
     "output_type": "execute_result"
    }
   ],
   "source": [
    "diccionario_pisos = {\n",
    "    \"1\": \"primero\",\n",
    "    \"2\": \"segundo\",\n",
    "    \"3\": \"tercero\",\n",
    "    \"4\": \"cuarto\",\n",
    "    \"5\": \"quinto\",\n",
    "    \"6\": \"sexto\",\n",
    "    \"7\": \"septimo\",\n",
    "    \"8\": \"octavo\",\n",
    "    \"14\": \"decimo cuarto\",\n",
    "    \"bj\": \"bajo\",\n",
    "    \"en\": \"entreplanta\",\n",
    "    \"ss\": \"sotano\",\n",
    "    \"st\": \"sotano\",\n",
    "}\n",
    "\n",
    "df[\"floor\"] = df[\"floor\"].map(diccionario_pisos)\n",
    "df[\"floor\"].unique()\n"
   ]
  },
  {
   "cell_type": "markdown",
   "metadata": {},
   "source": [
    "### Modelo 13 Recategorizar pisos"
   ]
  },
  {
   "cell_type": "code",
   "execution_count": 94,
   "metadata": {},
   "outputs": [],
   "source": [
    "bajos = [\"primero\",\"sotano\",\"bajo\",\"entreplanta\"]\n",
    "altos = [\"segundo\",\"tercero\",\"cuarto\",\"quinto\",\"sexto\",\"septimo\",\"octavo\",\"decimo cuarto\"]"
   ]
  },
  {
   "cell_type": "code",
   "execution_count": 95,
   "metadata": {},
   "outputs": [],
   "source": [
    "df.loc[df[\"floor\"].isin(bajos), \"floor\"] = \"bajos\"\n",
    "df.loc[df[\"floor\"].isin(altos), \"floor\"] = \"altos\""
   ]
  },
  {
   "cell_type": "code",
   "execution_count": 96,
   "metadata": {},
   "outputs": [
    {
     "data": {
      "text/plain": [
       "floor\n",
       "altos    154\n",
       "bajos    136\n",
       "Name: count, dtype: int64"
      ]
     },
     "execution_count": 96,
     "metadata": {},
     "output_type": "execute_result"
    }
   ],
   "source": [
    "df[\"floor\"].value_counts()"
   ]
  },
  {
   "cell_type": "markdown",
   "metadata": {},
   "source": [
    "# Corregir Bathrooms\n",
    "- Vamos a pasar todo a texto para que sea una categórica"
   ]
  },
  {
   "cell_type": "code",
   "execution_count": 97,
   "metadata": {},
   "outputs": [
    {
     "data": {
      "text/plain": [
       "array([1, 2, 3])"
      ]
     },
     "execution_count": 97,
     "metadata": {},
     "output_type": "execute_result"
    }
   ],
   "source": [
    "df[\"bathrooms\"].unique()"
   ]
  },
  {
   "cell_type": "code",
   "execution_count": 98,
   "metadata": {},
   "outputs": [],
   "source": [
    "df.loc[df[\"bathrooms\"] == 1, \"bathrooms\"] = \"1 aseo\"\n",
    "df.loc[df[\"bathrooms\"] == 2, \"bathrooms\"] = \"2 aseos\"\n",
    "df.loc[df[\"bathrooms\"] == 3, \"bathrooms\"] = \"3 aseos\""
   ]
  },
  {
   "cell_type": "code",
   "execution_count": 99,
   "metadata": {},
   "outputs": [
    {
     "data": {
      "text/plain": [
       "array(['1 aseo', '2 aseos', '3 aseos'], dtype=object)"
      ]
     },
     "execution_count": 99,
     "metadata": {},
     "output_type": "execute_result"
    }
   ],
   "source": [
    "df[\"bathrooms\"].unique()"
   ]
  },
  {
   "cell_type": "markdown",
   "metadata": {},
   "source": [
    "# Corregir rooms\n",
    "- Vamos a pasar todo a texto para que sea una categórica"
   ]
  },
  {
   "cell_type": "code",
   "execution_count": 100,
   "metadata": {},
   "outputs": [
    {
     "data": {
      "text/plain": [
       "array([1, 2, 3, 0, 4])"
      ]
     },
     "execution_count": 100,
     "metadata": {},
     "output_type": "execute_result"
    }
   ],
   "source": [
    "df[\"rooms\"].unique()"
   ]
  },
  {
   "cell_type": "code",
   "execution_count": 101,
   "metadata": {},
   "outputs": [],
   "source": [
    "df.loc[df[\"rooms\"] == 0, \"rooms\"] = \"sin habitaciones\"\n",
    "df.loc[df[\"rooms\"] == 1, \"rooms\"] = \"1 habitacion\"\n",
    "df.loc[df[\"rooms\"] == 2, \"rooms\"] = \"2 habitaciones\"\n",
    "df.loc[df[\"rooms\"] == 3, \"rooms\"] = \"3 habitaciones\"\n",
    "df.loc[df[\"rooms\"] == 4, \"rooms\"] = \"4 habitaciones\"\n",
    "df.loc[df[\"rooms\"] == 6, \"rooms\"] = \"6 habitaciones\""
   ]
  },
  {
   "cell_type": "code",
   "execution_count": 102,
   "metadata": {},
   "outputs": [
    {
     "data": {
      "text/plain": [
       "array(['1 habitacion', '2 habitaciones', '3 habitaciones',\n",
       "       'sin habitaciones', '4 habitaciones'], dtype=object)"
      ]
     },
     "execution_count": 102,
     "metadata": {},
     "output_type": "execute_result"
    }
   ],
   "source": [
    "df[\"rooms\"].unique()"
   ]
  },
  {
   "cell_type": "markdown",
   "metadata": {},
   "source": [
    "# Reducción / Simplificación de columnas\n",
    "- Vamos a quitarnos todo lo que:\n",
    "    - Especifique demasiado para el precio\n",
    "- Vamos a simplificar todo lo que:\n",
    "    - Especifique demasiado, pero al generalizarlo, aporte valor"
   ]
  },
  {
   "cell_type": "code",
   "execution_count": 103,
   "metadata": {},
   "outputs": [
    {
     "data": {
      "text/html": [
       "<div>\n",
       "<style scoped>\n",
       "    .dataframe tbody tr th:only-of-type {\n",
       "        vertical-align: middle;\n",
       "    }\n",
       "\n",
       "    .dataframe tbody tr th {\n",
       "        vertical-align: top;\n",
       "    }\n",
       "\n",
       "    .dataframe thead th {\n",
       "        text-align: right;\n",
       "    }\n",
       "</style>\n",
       "<table border=\"1\" class=\"dataframe\">\n",
       "  <thead>\n",
       "    <tr style=\"text-align: right;\">\n",
       "      <th></th>\n",
       "      <th>propertyType</th>\n",
       "      <th>status</th>\n",
       "      <th>price</th>\n",
       "      <th>size</th>\n",
       "      <th>rooms</th>\n",
       "      <th>bathrooms</th>\n",
       "      <th>floor</th>\n",
       "      <th>neighborhood</th>\n",
       "      <th>address</th>\n",
       "      <th>district</th>\n",
       "      <th>province</th>\n",
       "      <th>municipality</th>\n",
       "      <th>exterior</th>\n",
       "      <th>hasLift</th>\n",
       "      <th>hasPlan</th>\n",
       "      <th>has3DTour</th>\n",
       "      <th>has360</th>\n",
       "      <th>distance</th>\n",
       "    </tr>\n",
       "  </thead>\n",
       "  <tbody>\n",
       "    <tr>\n",
       "      <th>200</th>\n",
       "      <td>flat</td>\n",
       "      <td>good</td>\n",
       "      <td>590.00</td>\n",
       "      <td>52.00</td>\n",
       "      <td>1 habitacion</td>\n",
       "      <td>1 aseo</td>\n",
       "      <td>bajos</td>\n",
       "      <td>NaN</td>\n",
       "      <td>Los Molinos</td>\n",
       "      <td>NaN</td>\n",
       "      <td>Madrid</td>\n",
       "      <td>Los Molinos</td>\n",
       "      <td>True</td>\n",
       "      <td>False</td>\n",
       "      <td>False</td>\n",
       "      <td>False</td>\n",
       "      <td>False</td>\n",
       "      <td>44526</td>\n",
       "    </tr>\n",
       "  </tbody>\n",
       "</table>\n",
       "</div>"
      ],
      "text/plain": [
       "    propertyType status  price  size         rooms bathrooms  floor  \\\n",
       "200         flat   good 590.00 52.00  1 habitacion    1 aseo  bajos   \n",
       "\n",
       "    neighborhood      address district province municipality  exterior  \\\n",
       "200          NaN  Los Molinos      NaN   Madrid  Los Molinos      True   \n",
       "\n",
       "    hasLift hasPlan has3DTour has360  distance  \n",
       "200   False   False     False  False     44526  "
      ]
     },
     "execution_count": 103,
     "metadata": {},
     "output_type": "execute_result"
    }
   ],
   "source": [
    "df.sample()"
   ]
  },
  {
   "cell_type": "markdown",
   "metadata": {},
   "source": [
    "### Dropeamos\n",
    "- address: No se puede generalizar"
   ]
  },
  {
   "cell_type": "code",
   "execution_count": 104,
   "metadata": {},
   "outputs": [],
   "source": [
    "df.drop(columns=\"address\",inplace=True)"
   ]
  },
  {
   "cell_type": "markdown",
   "metadata": {},
   "source": [
    "### Generalizamos\n",
    "- distance: Lo haremos por rangos de distancia al centro"
   ]
  },
  {
   "cell_type": "code",
   "execution_count": 105,
   "metadata": {},
   "outputs": [
    {
     "data": {
      "text/plain": [
       "3      56596\n",
       "2      55041\n",
       "188    53247\n",
       "186    53238\n",
       "289    49280\n",
       "Name: distance, dtype: int64"
      ]
     },
     "execution_count": 105,
     "metadata": {},
     "output_type": "execute_result"
    }
   ],
   "source": [
    "df[\"distance\"].nlargest()"
   ]
  },
  {
   "cell_type": "code",
   "execution_count": 106,
   "metadata": {},
   "outputs": [
    {
     "data": {
      "text/plain": [
       "108    183\n",
       "126    470\n",
       "27     533\n",
       "136    625\n",
       "317    691\n",
       "Name: distance, dtype: int64"
      ]
     },
     "execution_count": 106,
     "metadata": {},
     "output_type": "execute_result"
    }
   ],
   "source": [
    "df[\"distance\"].nsmallest()"
   ]
  },
  {
   "cell_type": "code",
   "execution_count": 107,
   "metadata": {},
   "outputs": [],
   "source": [
    "df[\"distancia_centro\"] = \"unknown\"\n",
    "df.loc[df[\"distance\"].between(0,1000,inclusive=\"left\"), \"distancia_centro\"] = \"Menos de 1 km\"\n",
    "df.loc[df[\"distance\"].between(1000,5000,inclusive=\"left\"), \"distancia_centro\"] = \"Entre 1 y 5 km\"\n",
    "df.loc[df[\"distance\"].between(5000,10000,inclusive=\"left\"), \"distancia_centro\"] =  \"Entre 5 y 10 km\"\n",
    "df.loc[df[\"distance\"].between(10000,20000,inclusive=\"left\"), \"distancia_centro\"] = \"Entre 10 y 20 km\"\n",
    "df.loc[df[\"distance\"].between(20000,30000,inclusive=\"left\"), \"distancia_centro\"] = \"Entre 20 y 30 km\"\n",
    "df.loc[df[\"distance\"].between(30000,40000,inclusive=\"left\"), \"distancia_centro\"] = \"Entre 30 y 40 km\"\n",
    "df.loc[df[\"distance\"].between(40000,50000,inclusive=\"both\"), \"distancia_centro\"] = \"Entre 40 y 50 km\"\n",
    "df.loc[df[\"distance\"] > 50000, \"distancia_centro\"] = \"Mas de 50 km\""
   ]
  },
  {
   "cell_type": "code",
   "execution_count": 108,
   "metadata": {},
   "outputs": [
    {
     "data": {
      "text/plain": [
       "distancia_centro\n",
       "Entre 5 y 10 km     82\n",
       "Entre 20 y 30 km    74\n",
       "Entre 10 y 20 km    65\n",
       "Entre 1 y 5 km      62\n",
       "Entre 40 y 50 km    30\n",
       "Entre 30 y 40 km    24\n",
       "Menos de 1 km       12\n",
       "Mas de 50 km         4\n",
       "Name: count, dtype: int64"
      ]
     },
     "execution_count": 108,
     "metadata": {},
     "output_type": "execute_result"
    }
   ],
   "source": [
    "df[\"distancia_centro\"].value_counts()"
   ]
  },
  {
   "cell_type": "markdown",
   "metadata": {},
   "source": [
    "# Dropeamos distance"
   ]
  },
  {
   "cell_type": "code",
   "execution_count": 109,
   "metadata": {},
   "outputs": [],
   "source": [
    "df.drop(columns=\"distance\",inplace=True)"
   ]
  },
  {
   "cell_type": "markdown",
   "metadata": {},
   "source": [
    "# Gestionar nulos variables categóricas\n",
    "- Las booleanas las volvemos categóricas\n",
    "- Los nans los pondremos en desconocido"
   ]
  },
  {
   "cell_type": "code",
   "execution_count": 110,
   "metadata": {},
   "outputs": [
    {
     "name": "stdout",
     "output_type": "stream",
     "text": [
      "<class 'pandas.core.frame.DataFrame'>\n",
      "RangeIndex: 353 entries, 0 to 352\n",
      "Data columns (total 17 columns):\n",
      " #   Column            Non-Null Count  Dtype  \n",
      "---  ------            --------------  -----  \n",
      " 0   propertyType      353 non-null    object \n",
      " 1   status            339 non-null    object \n",
      " 2   price             353 non-null    float64\n",
      " 3   size              353 non-null    float64\n",
      " 4   rooms             353 non-null    object \n",
      " 5   bathrooms         353 non-null    object \n",
      " 6   floor             290 non-null    object \n",
      " 7   neighborhood      174 non-null    object \n",
      " 8   district          301 non-null    object \n",
      " 9   province          353 non-null    object \n",
      " 10  municipality      353 non-null    object \n",
      " 11  exterior          353 non-null    bool   \n",
      " 12  hasLift           335 non-null    object \n",
      " 13  hasPlan           339 non-null    object \n",
      " 14  has3DTour         339 non-null    object \n",
      " 15  has360            339 non-null    object \n",
      " 16  distancia_centro  353 non-null    object \n",
      "dtypes: bool(1), float64(2), object(14)\n",
      "memory usage: 44.6+ KB\n"
     ]
    }
   ],
   "source": [
    "df.info()"
   ]
  },
  {
   "cell_type": "markdown",
   "metadata": {},
   "source": [
    "### propertyType"
   ]
  },
  {
   "cell_type": "code",
   "execution_count": 111,
   "metadata": {},
   "outputs": [
    {
     "data": {
      "text/plain": [
       "np.int64(0)"
      ]
     },
     "execution_count": 111,
     "metadata": {},
     "output_type": "execute_result"
    }
   ],
   "source": [
    "df[\"propertyType\"].isnull().sum()"
   ]
  },
  {
   "cell_type": "markdown",
   "metadata": {},
   "source": [
    "### status"
   ]
  },
  {
   "cell_type": "code",
   "execution_count": 112,
   "metadata": {},
   "outputs": [
    {
     "data": {
      "text/plain": [
       "np.int64(14)"
      ]
     },
     "execution_count": 112,
     "metadata": {},
     "output_type": "execute_result"
    }
   ],
   "source": [
    "df[\"status\"].isnull().sum()"
   ]
  },
  {
   "cell_type": "code",
   "execution_count": 113,
   "metadata": {},
   "outputs": [
    {
     "data": {
      "text/plain": [
       "array(['good', 'desconocido', 'newdevelopment', 'renew'], dtype=object)"
      ]
     },
     "execution_count": 113,
     "metadata": {},
     "output_type": "execute_result"
    }
   ],
   "source": [
    "df[\"status\"]= df[\"status\"].fillna(\"desconocido\")\n",
    "df[\"status\"].unique()"
   ]
  },
  {
   "cell_type": "code",
   "execution_count": 114,
   "metadata": {},
   "outputs": [
    {
     "data": {
      "text/plain": [
       "np.int64(0)"
      ]
     },
     "execution_count": 114,
     "metadata": {},
     "output_type": "execute_result"
    }
   ],
   "source": [
    "df[\"status\"].isnull().sum()"
   ]
  },
  {
   "cell_type": "markdown",
   "metadata": {},
   "source": [
    "### floor"
   ]
  },
  {
   "cell_type": "code",
   "execution_count": 115,
   "metadata": {},
   "outputs": [
    {
     "data": {
      "text/plain": [
       "np.int64(63)"
      ]
     },
     "execution_count": 115,
     "metadata": {},
     "output_type": "execute_result"
    }
   ],
   "source": [
    "df[\"floor\"].isnull().sum()"
   ]
  },
  {
   "cell_type": "code",
   "execution_count": 116,
   "metadata": {},
   "outputs": [
    {
     "data": {
      "text/plain": [
       "array(['altos', 'bajos', 'desconocido'], dtype=object)"
      ]
     },
     "execution_count": 116,
     "metadata": {},
     "output_type": "execute_result"
    }
   ],
   "source": [
    "df[\"floor\"]= df[\"floor\"].fillna(\"desconocido\")\n",
    "df[\"floor\"].unique()"
   ]
  },
  {
   "cell_type": "code",
   "execution_count": 117,
   "metadata": {},
   "outputs": [
    {
     "data": {
      "text/plain": [
       "np.int64(0)"
      ]
     },
     "execution_count": 117,
     "metadata": {},
     "output_type": "execute_result"
    }
   ],
   "source": [
    "df[\"floor\"].isnull().sum()"
   ]
  },
  {
   "cell_type": "markdown",
   "metadata": {},
   "source": [
    "### neighborhood (Dropear Columna)\n",
    "- Demasiados nulos, no tiene sentido"
   ]
  },
  {
   "cell_type": "code",
   "execution_count": 118,
   "metadata": {},
   "outputs": [
    {
     "data": {
      "text/plain": [
       "np.int64(179)"
      ]
     },
     "execution_count": 118,
     "metadata": {},
     "output_type": "execute_result"
    }
   ],
   "source": [
    "df[\"neighborhood\"].isnull().sum()"
   ]
  },
  {
   "cell_type": "code",
   "execution_count": 119,
   "metadata": {},
   "outputs": [],
   "source": [
    "df.drop(columns=\"neighborhood\",inplace=True)"
   ]
  },
  {
   "cell_type": "markdown",
   "metadata": {},
   "source": [
    "### district\n",
    "- Tal vez especifique demasiado"
   ]
  },
  {
   "cell_type": "code",
   "execution_count": 120,
   "metadata": {},
   "outputs": [
    {
     "data": {
      "text/plain": [
       "np.int64(52)"
      ]
     },
     "execution_count": 120,
     "metadata": {},
     "output_type": "execute_result"
    }
   ],
   "source": [
    "df[\"district\"].isnull().sum()"
   ]
  },
  {
   "cell_type": "code",
   "execution_count": 121,
   "metadata": {},
   "outputs": [
    {
     "data": {
      "text/plain": [
       "np.int64(0)"
      ]
     },
     "execution_count": 121,
     "metadata": {},
     "output_type": "execute_result"
    }
   ],
   "source": [
    "df[\"district\"]= df[\"district\"].fillna(\"desconocido\")\n",
    "df[\"district\"].isnull().sum()"
   ]
  },
  {
   "cell_type": "markdown",
   "metadata": {},
   "source": [
    "### province"
   ]
  },
  {
   "cell_type": "code",
   "execution_count": 122,
   "metadata": {},
   "outputs": [
    {
     "data": {
      "text/plain": [
       "np.int64(0)"
      ]
     },
     "execution_count": 122,
     "metadata": {},
     "output_type": "execute_result"
    }
   ],
   "source": [
    "df[\"province\"].isnull().sum()"
   ]
  },
  {
   "cell_type": "markdown",
   "metadata": {},
   "source": [
    "### municipality (Cambiado en Modelo 12)\n",
    "- Vamos a reducir las opciones de la categoría\n",
    "- Vamos a dividir por zonas en vez de municipios\n",
    "    - Clase Alta\n",
    "    - Clase Media-Alta\n",
    "    - Clase Media\n",
    "    - Clase Obrera"
   ]
  },
  {
   "cell_type": "code",
   "execution_count": 123,
   "metadata": {},
   "outputs": [
    {
     "data": {
      "text/plain": [
       "np.int64(0)"
      ]
     },
     "execution_count": 123,
     "metadata": {},
     "output_type": "execute_result"
    }
   ],
   "source": [
    "df[\"municipality\"].isnull().sum()"
   ]
  },
  {
   "cell_type": "code",
   "execution_count": 124,
   "metadata": {},
   "outputs": [],
   "source": [
    "clasificacion_municipios = {\n",
    "    'Numancia de la Sagra': 'Clase Obrera',\n",
    "    'Madrid': 'Clase Media-Alta',  # Varía según la zona\n",
    "    'San Sebastián de los Reyes': 'Clase Alta',\n",
    "    'Villamanrique de Tajo': 'Clase Obrera',\n",
    "    'Recas': 'Clase Obrera',\n",
    "    'Cedillo del Condado': 'Clase Obrera',\n",
    "    'Rascafría': 'Clase Media',\n",
    "    'Manzanares el Real': 'Clase Media',\n",
    "    'Miraflores de la Sierra': 'Clase Media-Alta',\n",
    "    'El Viso de San Juan': 'Clase Obrera',\n",
    "    'Galapagar': 'Clase Media-Alta',\n",
    "    'Arganda': 'Clase Media',\n",
    "    'San Lorenzo de el Escorial': 'Clase Media-Alta',\n",
    "    'Camarena': 'Clase Obrera',\n",
    "    'Aldea del Fresno': 'Clase Obrera',\n",
    "    'Aranjuez': 'Clase Media',\n",
    "    'Villanueva del Pardillo': 'Clase Media-Alta',\n",
    "    'Azuqueca de Henares': 'Clase Media',\n",
    "    'El Espinar': 'Clase Media',\n",
    "    'Las Rozas de Madrid': 'Clase Alta',\n",
    "    'Guadalajara': 'Clase Media',\n",
    "    'Illescas': 'Clase Obrera',\n",
    "    'Navalcarnero': 'Clase Media',\n",
    "    'Seseña': 'Clase Obrera',\n",
    "    'Casarrubios del Monte': 'Clase Obrera',\n",
    "    'Alcalá de Henares': 'Clase Media',\n",
    "    'El Escorial': 'Clase Media-Alta',\n",
    "    'Calypo Fado': 'Clase Obrera',\n",
    "    'Leganés': 'Clase Media',\n",
    "    'Coslada': 'Clase Media',\n",
    "    'Torrejón de Ardoz': 'Clase Media',\n",
    "    'Marchamalo': 'Clase Obrera',\n",
    "    'Camarma de Esteruelas': 'Clase Media',\n",
    "    'Alcorcón': 'Clase Media',\n",
    "    'Pinto': 'Clase Media',\n",
    "    'Pozo de Guadalajara': 'Clase Obrera',\n",
    "    'Valdemoro': 'Clase Media',\n",
    "    'Collado Villalba': 'Clase Media',\n",
    "    'Getafe': 'Clase Media',\n",
    "    'Paracuellos de Jarama': 'Clase Media-Alta',\n",
    "    'El Molar': 'Clase Media',\n",
    "    'Parla': 'Clase Obrera',\n",
    "    'Tres Cantos': 'Clase Alta',\n",
    "    'Yuncos': 'Clase Obrera',\n",
    "    'Esquivias': 'Clase Obrera',\n",
    "    'Quijorna': 'Clase Media',\n",
    "    'Valdemorillo': 'Clase Media-Alta',\n",
    "    'Yuncler': 'Clase Obrera',\n",
    "    'Pedrezuela': 'Clase Media',\n",
    "    'Daganzo de Arriba': 'Clase Media',\n",
    "    'Yeles': 'Clase Obrera',\n",
    "    'Guadarrama': 'Clase Media-Alta',\n",
    "    'Ocaña': 'Clase Obrera',\n",
    "    'Cobeña': 'Clase Media',\n",
    "    'El Álamo': 'Clase Media',\n",
    "    'Algete': 'Clase Media',\n",
    "    'El Casar': 'Clase Obrera',\n",
    "    'Rivas-Vaciamadrid': 'Clase Media-Alta',\n",
    "    'Los Santos de la Humosa': 'Clase Media',\n",
    "    'San Fernando de Henares': 'Clase Media',\n",
    "    'Fuenlabrada': 'Clase Media',\n",
    "    'Fuensalida': 'Clase Obrera',\n",
    "    'Mataelpino': 'Clase Media',\n",
    "    'Villa del Prado': 'Clase Media',\n",
    "    'Mocejón': 'Clase Obrera',\n",
    "    'Los Molinos': 'Clase Media',\n",
    "    'Colmenar Viejo': 'Clase Media-Alta',\n",
    "    'Móstoles': 'Clase Media',\n",
    "    'Borox': 'Clase Obrera',\n",
    "    'Navalafuente': 'Clase Media',\n",
    "    'Meco': 'Clase Media',\n",
    "    'Robledo de Chavela': 'Clase Media',\n",
    "    'Campo Real': 'Clase Media',\n",
    "    'Villaviciosa de Odón': 'Clase Alta',\n",
    "    'San Ildefonso o la Granja': 'Clase Media',\n",
    "    'Alameda de la Sagra': 'Clase Obrera',\n",
    "    'Cabañas de la Sagra': 'Clase Obrera',\n",
    "    'Las Navas del Marqués': 'Clase Media',\n",
    "    'Villaseca de la Sagra': 'Clase Obrera',\n",
    "    'Pozuelo de Alarcón': 'Clase Alta',\n",
    "    'Yebes': 'Clase Obrera',\n",
    "    'Bustarviejo': 'Clase Media',\n",
    "    'Collado Mediano': 'Clase Media',\n",
    "    'Chinchón': 'Clase Media',\n",
    "    'Valmojado': 'Clase Obrera',\n",
    "    'Alovera': 'Clase Media',\n",
    "    'Colmenarejo': 'Clase Media-Alta',\n",
    "    'Lominchar': 'Clase Obrera',\n",
    "    'Loeches': 'Clase Media',\n",
    "    'Sevilla la Nueva': 'Clase Media',\n",
    "    'Serranillos del Valle': 'Clase Media',\n",
    "    'Santa Cruz del Retamar': 'Clase Obrera',\n",
    "    'Las Ventas de Retamosa': 'Clase Obrera',\n",
    "    'Torrelaguna': 'Clase Media',\n",
    "    'Villalbilla': 'Clase Media',\n",
    "    'Alcobendas': 'Clase Alta',\n",
    "}\n",
    "\n",
    "# Asignar categorías al DataFrame\n",
    "df[\"tipo_municipio\"] = df[\"municipality\"].map(clasificacion_municipios)"
   ]
  },
  {
   "cell_type": "code",
   "execution_count": 125,
   "metadata": {},
   "outputs": [],
   "source": [
    "df[\"municipality\"] = df[\"tipo_municipio\"]\n",
    "df.drop(columns=\"tipo_municipio\", inplace=True)"
   ]
  },
  {
   "cell_type": "code",
   "execution_count": 126,
   "metadata": {},
   "outputs": [
    {
     "data": {
      "text/plain": [
       "municipality\n",
       "Clase Media-Alta    195\n",
       "Clase Media         129\n",
       "Clase Obrera         17\n",
       "Clase Alta           12\n",
       "Name: count, dtype: int64"
      ]
     },
     "execution_count": 126,
     "metadata": {},
     "output_type": "execute_result"
    }
   ],
   "source": [
    "df[\"municipality\"].value_counts()"
   ]
  },
  {
   "cell_type": "markdown",
   "metadata": {},
   "source": [
    "###  exterior\n",
    "- Cambiamos de booleano a categorica"
   ]
  },
  {
   "cell_type": "code",
   "execution_count": 127,
   "metadata": {},
   "outputs": [
    {
     "data": {
      "text/plain": [
       "np.int64(0)"
      ]
     },
     "execution_count": 127,
     "metadata": {},
     "output_type": "execute_result"
    }
   ],
   "source": [
    "df[\"exterior\"].isnull().sum()"
   ]
  },
  {
   "cell_type": "code",
   "execution_count": 128,
   "metadata": {},
   "outputs": [
    {
     "data": {
      "text/plain": [
       "array([ True, False])"
      ]
     },
     "execution_count": 128,
     "metadata": {},
     "output_type": "execute_result"
    }
   ],
   "source": [
    "df[\"exterior\"].unique()"
   ]
  },
  {
   "cell_type": "code",
   "execution_count": 129,
   "metadata": {},
   "outputs": [
    {
     "data": {
      "text/plain": [
       "array(['vista exterior', 'vista interior'], dtype=object)"
      ]
     },
     "execution_count": 129,
     "metadata": {},
     "output_type": "execute_result"
    }
   ],
   "source": [
    "df.loc[df[\"exterior\"] == True, \"exterior\"] = \"vista exterior\"\n",
    "df.loc[df[\"exterior\"] == False, \"exterior\"] = \"vista interior\"\n",
    "df[\"exterior\"].unique()"
   ]
  },
  {
   "cell_type": "markdown",
   "metadata": {},
   "source": [
    "### hasLift \n",
    "- Cambiamos de booleano a categorica"
   ]
  },
  {
   "cell_type": "code",
   "execution_count": 130,
   "metadata": {},
   "outputs": [
    {
     "data": {
      "text/plain": [
       "np.int64(18)"
      ]
     },
     "execution_count": 130,
     "metadata": {},
     "output_type": "execute_result"
    }
   ],
   "source": [
    "df[\"hasLift\"].isnull().sum()"
   ]
  },
  {
   "cell_type": "code",
   "execution_count": 131,
   "metadata": {},
   "outputs": [
    {
     "data": {
      "text/plain": [
       "array([True, False, nan], dtype=object)"
      ]
     },
     "execution_count": 131,
     "metadata": {},
     "output_type": "execute_result"
    }
   ],
   "source": [
    "df[\"hasLift\"].unique()"
   ]
  },
  {
   "cell_type": "code",
   "execution_count": 132,
   "metadata": {},
   "outputs": [
    {
     "data": {
      "text/plain": [
       "array(['tiene ascensor', 'no tiene ascensor', 'desconocido'], dtype=object)"
      ]
     },
     "execution_count": 132,
     "metadata": {},
     "output_type": "execute_result"
    }
   ],
   "source": [
    "df.loc[df[\"hasLift\"] == True, \"hasLift\"] = \"tiene ascensor\"\n",
    "df.loc[df[\"hasLift\"] == False, \"hasLift\"] = \"no tiene ascensor\"\n",
    "df[\"hasLift\"] = df[\"hasLift\"].fillna(\"desconocido\")\n",
    "df[\"hasLift\"].unique()"
   ]
  },
  {
   "cell_type": "code",
   "execution_count": 133,
   "metadata": {},
   "outputs": [
    {
     "data": {
      "text/plain": [
       "np.int64(0)"
      ]
     },
     "execution_count": 133,
     "metadata": {},
     "output_type": "execute_result"
    }
   ],
   "source": [
    "df[\"hasLift\"].isnull().sum()"
   ]
  },
  {
   "cell_type": "markdown",
   "metadata": {},
   "source": [
    "### hasPlan\n",
    "- Cambiamos de booleano a categorica\n"
   ]
  },
  {
   "cell_type": "code",
   "execution_count": 134,
   "metadata": {},
   "outputs": [
    {
     "data": {
      "text/plain": [
       "np.int64(14)"
      ]
     },
     "execution_count": 134,
     "metadata": {},
     "output_type": "execute_result"
    }
   ],
   "source": [
    "df[\"hasPlan\"].isnull().sum()"
   ]
  },
  {
   "cell_type": "code",
   "execution_count": 135,
   "metadata": {},
   "outputs": [
    {
     "data": {
      "text/plain": [
       "array(['no tiene planos', 'tiene planos', 'desconocido'], dtype=object)"
      ]
     },
     "execution_count": 135,
     "metadata": {},
     "output_type": "execute_result"
    }
   ],
   "source": [
    "df.loc[df[\"hasPlan\"] == True, \"hasPlan\"] = \"tiene planos\"\n",
    "df.loc[df[\"hasPlan\"] == False, \"hasPlan\"] = \"no tiene planos\"\n",
    "df[\"hasPlan\"] = df[\"hasPlan\"].fillna(\"desconocido\")\n",
    "df[\"hasPlan\"].unique()"
   ]
  },
  {
   "cell_type": "code",
   "execution_count": 136,
   "metadata": {},
   "outputs": [
    {
     "data": {
      "text/plain": [
       "np.int64(0)"
      ]
     },
     "execution_count": 136,
     "metadata": {},
     "output_type": "execute_result"
    }
   ],
   "source": [
    "df[\"hasPlan\"].isnull().sum()"
   ]
  },
  {
   "cell_type": "markdown",
   "metadata": {},
   "source": [
    "### has3DTour\n",
    "- Cambiamos de booleano a categorica\n"
   ]
  },
  {
   "cell_type": "code",
   "execution_count": 137,
   "metadata": {},
   "outputs": [
    {
     "data": {
      "text/plain": [
       "np.int64(14)"
      ]
     },
     "execution_count": 137,
     "metadata": {},
     "output_type": "execute_result"
    }
   ],
   "source": [
    "df[\"has3DTour\"].isnull().sum()"
   ]
  },
  {
   "cell_type": "code",
   "execution_count": 138,
   "metadata": {},
   "outputs": [
    {
     "data": {
      "text/plain": [
       "array(['no tiene tour 3D', 'desconocido', 'tiene tour 3D'], dtype=object)"
      ]
     },
     "execution_count": 138,
     "metadata": {},
     "output_type": "execute_result"
    }
   ],
   "source": [
    "df.loc[df[\"has3DTour\"] == True, \"has3DTour\"] = \"tiene tour 3D\"\n",
    "df.loc[df[\"has3DTour\"] == False, \"has3DTour\"] = \"no tiene tour 3D\"\n",
    "df[\"has3DTour\"] = df[\"has3DTour\"].fillna(\"desconocido\")\n",
    "df[\"has3DTour\"].unique()"
   ]
  },
  {
   "cell_type": "code",
   "execution_count": 139,
   "metadata": {},
   "outputs": [
    {
     "data": {
      "text/plain": [
       "np.int64(0)"
      ]
     },
     "execution_count": 139,
     "metadata": {},
     "output_type": "execute_result"
    }
   ],
   "source": [
    "df[\"has3DTour\"].isnull().sum()"
   ]
  },
  {
   "cell_type": "markdown",
   "metadata": {},
   "source": [
    "### has360\n",
    "- Cambiamos de booleano a categorica"
   ]
  },
  {
   "cell_type": "code",
   "execution_count": 140,
   "metadata": {},
   "outputs": [
    {
     "data": {
      "text/plain": [
       "np.int64(14)"
      ]
     },
     "execution_count": 140,
     "metadata": {},
     "output_type": "execute_result"
    }
   ],
   "source": [
    "df[\"has360\"].isnull().sum()"
   ]
  },
  {
   "cell_type": "code",
   "execution_count": 141,
   "metadata": {},
   "outputs": [
    {
     "data": {
      "text/html": [
       "<div>\n",
       "<style scoped>\n",
       "    .dataframe tbody tr th:only-of-type {\n",
       "        vertical-align: middle;\n",
       "    }\n",
       "\n",
       "    .dataframe tbody tr th {\n",
       "        vertical-align: top;\n",
       "    }\n",
       "\n",
       "    .dataframe thead th {\n",
       "        text-align: right;\n",
       "    }\n",
       "</style>\n",
       "<table border=\"1\" class=\"dataframe\">\n",
       "  <thead>\n",
       "    <tr style=\"text-align: right;\">\n",
       "      <th></th>\n",
       "      <th>propertyType</th>\n",
       "      <th>status</th>\n",
       "      <th>price</th>\n",
       "      <th>size</th>\n",
       "      <th>rooms</th>\n",
       "      <th>bathrooms</th>\n",
       "      <th>floor</th>\n",
       "      <th>district</th>\n",
       "      <th>province</th>\n",
       "      <th>municipality</th>\n",
       "      <th>exterior</th>\n",
       "      <th>hasLift</th>\n",
       "      <th>hasPlan</th>\n",
       "      <th>has3DTour</th>\n",
       "      <th>has360</th>\n",
       "      <th>distancia_centro</th>\n",
       "    </tr>\n",
       "  </thead>\n",
       "  <tbody>\n",
       "    <tr>\n",
       "      <th>4</th>\n",
       "      <td>studio</td>\n",
       "      <td>desconocido</td>\n",
       "      <td>684.00</td>\n",
       "      <td>45.00</td>\n",
       "      <td>sin habitaciones</td>\n",
       "      <td>1 aseo</td>\n",
       "      <td>desconocido</td>\n",
       "      <td>desconocido</td>\n",
       "      <td>Madrid</td>\n",
       "      <td>Clase Media-Alta</td>\n",
       "      <td>vista exterior</td>\n",
       "      <td>desconocido</td>\n",
       "      <td>desconocido</td>\n",
       "      <td>desconocido</td>\n",
       "      <td>NaN</td>\n",
       "      <td>Entre 10 y 20 km</td>\n",
       "    </tr>\n",
       "    <tr>\n",
       "      <th>51</th>\n",
       "      <td>flat</td>\n",
       "      <td>desconocido</td>\n",
       "      <td>700.00</td>\n",
       "      <td>50.00</td>\n",
       "      <td>1 habitacion</td>\n",
       "      <td>2 aseos</td>\n",
       "      <td>desconocido</td>\n",
       "      <td>desconocido</td>\n",
       "      <td>Madrid</td>\n",
       "      <td>Clase Media</td>\n",
       "      <td>vista exterior</td>\n",
       "      <td>desconocido</td>\n",
       "      <td>desconocido</td>\n",
       "      <td>desconocido</td>\n",
       "      <td>NaN</td>\n",
       "      <td>Entre 30 y 40 km</td>\n",
       "    </tr>\n",
       "    <tr>\n",
       "      <th>52</th>\n",
       "      <td>duplex</td>\n",
       "      <td>desconocido</td>\n",
       "      <td>750.00</td>\n",
       "      <td>35.00</td>\n",
       "      <td>1 habitacion</td>\n",
       "      <td>1 aseo</td>\n",
       "      <td>desconocido</td>\n",
       "      <td>desconocido</td>\n",
       "      <td>Madrid</td>\n",
       "      <td>Clase Media-Alta</td>\n",
       "      <td>vista exterior</td>\n",
       "      <td>desconocido</td>\n",
       "      <td>desconocido</td>\n",
       "      <td>desconocido</td>\n",
       "      <td>NaN</td>\n",
       "      <td>Entre 1 y 5 km</td>\n",
       "    </tr>\n",
       "    <tr>\n",
       "      <th>106</th>\n",
       "      <td>flat</td>\n",
       "      <td>desconocido</td>\n",
       "      <td>600.00</td>\n",
       "      <td>55.00</td>\n",
       "      <td>1 habitacion</td>\n",
       "      <td>1 aseo</td>\n",
       "      <td>desconocido</td>\n",
       "      <td>desconocido</td>\n",
       "      <td>Madrid</td>\n",
       "      <td>Clase Media</td>\n",
       "      <td>vista exterior</td>\n",
       "      <td>desconocido</td>\n",
       "      <td>desconocido</td>\n",
       "      <td>desconocido</td>\n",
       "      <td>NaN</td>\n",
       "      <td>Entre 20 y 30 km</td>\n",
       "    </tr>\n",
       "    <tr>\n",
       "      <th>121</th>\n",
       "      <td>flat</td>\n",
       "      <td>desconocido</td>\n",
       "      <td>630.00</td>\n",
       "      <td>54.00</td>\n",
       "      <td>1 habitacion</td>\n",
       "      <td>2 aseos</td>\n",
       "      <td>desconocido</td>\n",
       "      <td>desconocido</td>\n",
       "      <td>Madrid</td>\n",
       "      <td>Clase Media</td>\n",
       "      <td>vista exterior</td>\n",
       "      <td>desconocido</td>\n",
       "      <td>desconocido</td>\n",
       "      <td>desconocido</td>\n",
       "      <td>NaN</td>\n",
       "      <td>Entre 30 y 40 km</td>\n",
       "    </tr>\n",
       "    <tr>\n",
       "      <th>137</th>\n",
       "      <td>studio</td>\n",
       "      <td>desconocido</td>\n",
       "      <td>700.00</td>\n",
       "      <td>23.00</td>\n",
       "      <td>sin habitaciones</td>\n",
       "      <td>1 aseo</td>\n",
       "      <td>desconocido</td>\n",
       "      <td>desconocido</td>\n",
       "      <td>Madrid</td>\n",
       "      <td>Clase Media-Alta</td>\n",
       "      <td>vista exterior</td>\n",
       "      <td>desconocido</td>\n",
       "      <td>desconocido</td>\n",
       "      <td>desconocido</td>\n",
       "      <td>NaN</td>\n",
       "      <td>Entre 1 y 5 km</td>\n",
       "    </tr>\n",
       "    <tr>\n",
       "      <th>147</th>\n",
       "      <td>duplex</td>\n",
       "      <td>desconocido</td>\n",
       "      <td>600.00</td>\n",
       "      <td>80.00</td>\n",
       "      <td>1 habitacion</td>\n",
       "      <td>1 aseo</td>\n",
       "      <td>desconocido</td>\n",
       "      <td>desconocido</td>\n",
       "      <td>Madrid</td>\n",
       "      <td>Clase Media-Alta</td>\n",
       "      <td>vista interior</td>\n",
       "      <td>desconocido</td>\n",
       "      <td>desconocido</td>\n",
       "      <td>desconocido</td>\n",
       "      <td>NaN</td>\n",
       "      <td>Entre 5 y 10 km</td>\n",
       "    </tr>\n",
       "    <tr>\n",
       "      <th>148</th>\n",
       "      <td>duplex</td>\n",
       "      <td>desconocido</td>\n",
       "      <td>600.00</td>\n",
       "      <td>80.00</td>\n",
       "      <td>1 habitacion</td>\n",
       "      <td>1 aseo</td>\n",
       "      <td>desconocido</td>\n",
       "      <td>desconocido</td>\n",
       "      <td>Madrid</td>\n",
       "      <td>Clase Media-Alta</td>\n",
       "      <td>vista interior</td>\n",
       "      <td>desconocido</td>\n",
       "      <td>desconocido</td>\n",
       "      <td>desconocido</td>\n",
       "      <td>NaN</td>\n",
       "      <td>Entre 5 y 10 km</td>\n",
       "    </tr>\n",
       "    <tr>\n",
       "      <th>176</th>\n",
       "      <td>flat</td>\n",
       "      <td>desconocido</td>\n",
       "      <td>675.00</td>\n",
       "      <td>35.00</td>\n",
       "      <td>1 habitacion</td>\n",
       "      <td>1 aseo</td>\n",
       "      <td>desconocido</td>\n",
       "      <td>desconocido</td>\n",
       "      <td>Madrid</td>\n",
       "      <td>Clase Media-Alta</td>\n",
       "      <td>vista interior</td>\n",
       "      <td>desconocido</td>\n",
       "      <td>desconocido</td>\n",
       "      <td>desconocido</td>\n",
       "      <td>NaN</td>\n",
       "      <td>Entre 1 y 5 km</td>\n",
       "    </tr>\n",
       "    <tr>\n",
       "      <th>183</th>\n",
       "      <td>flat</td>\n",
       "      <td>desconocido</td>\n",
       "      <td>750.00</td>\n",
       "      <td>67.00</td>\n",
       "      <td>3 habitaciones</td>\n",
       "      <td>1 aseo</td>\n",
       "      <td>desconocido</td>\n",
       "      <td>desconocido</td>\n",
       "      <td>Madrid</td>\n",
       "      <td>Clase Media</td>\n",
       "      <td>vista exterior</td>\n",
       "      <td>desconocido</td>\n",
       "      <td>desconocido</td>\n",
       "      <td>desconocido</td>\n",
       "      <td>NaN</td>\n",
       "      <td>Entre 10 y 20 km</td>\n",
       "    </tr>\n",
       "    <tr>\n",
       "      <th>184</th>\n",
       "      <td>flat</td>\n",
       "      <td>desconocido</td>\n",
       "      <td>600.00</td>\n",
       "      <td>45.00</td>\n",
       "      <td>2 habitaciones</td>\n",
       "      <td>1 aseo</td>\n",
       "      <td>desconocido</td>\n",
       "      <td>desconocido</td>\n",
       "      <td>Madrid</td>\n",
       "      <td>Clase Media</td>\n",
       "      <td>vista exterior</td>\n",
       "      <td>desconocido</td>\n",
       "      <td>desconocido</td>\n",
       "      <td>desconocido</td>\n",
       "      <td>NaN</td>\n",
       "      <td>Entre 40 y 50 km</td>\n",
       "    </tr>\n",
       "    <tr>\n",
       "      <th>191</th>\n",
       "      <td>flat</td>\n",
       "      <td>desconocido</td>\n",
       "      <td>660.00</td>\n",
       "      <td>155.00</td>\n",
       "      <td>3 habitaciones</td>\n",
       "      <td>2 aseos</td>\n",
       "      <td>desconocido</td>\n",
       "      <td>desconocido</td>\n",
       "      <td>Madrid</td>\n",
       "      <td>Clase Media</td>\n",
       "      <td>vista interior</td>\n",
       "      <td>desconocido</td>\n",
       "      <td>desconocido</td>\n",
       "      <td>desconocido</td>\n",
       "      <td>NaN</td>\n",
       "      <td>Entre 40 y 50 km</td>\n",
       "    </tr>\n",
       "    <tr>\n",
       "      <th>279</th>\n",
       "      <td>flat</td>\n",
       "      <td>desconocido</td>\n",
       "      <td>725.00</td>\n",
       "      <td>50.00</td>\n",
       "      <td>1 habitacion</td>\n",
       "      <td>1 aseo</td>\n",
       "      <td>desconocido</td>\n",
       "      <td>desconocido</td>\n",
       "      <td>Madrid</td>\n",
       "      <td>Clase Media-Alta</td>\n",
       "      <td>vista exterior</td>\n",
       "      <td>desconocido</td>\n",
       "      <td>desconocido</td>\n",
       "      <td>desconocido</td>\n",
       "      <td>NaN</td>\n",
       "      <td>Entre 5 y 10 km</td>\n",
       "    </tr>\n",
       "    <tr>\n",
       "      <th>284</th>\n",
       "      <td>flat</td>\n",
       "      <td>desconocido</td>\n",
       "      <td>600.00</td>\n",
       "      <td>75.00</td>\n",
       "      <td>3 habitaciones</td>\n",
       "      <td>1 aseo</td>\n",
       "      <td>desconocido</td>\n",
       "      <td>desconocido</td>\n",
       "      <td>Madrid</td>\n",
       "      <td>Clase Media</td>\n",
       "      <td>vista exterior</td>\n",
       "      <td>desconocido</td>\n",
       "      <td>desconocido</td>\n",
       "      <td>desconocido</td>\n",
       "      <td>NaN</td>\n",
       "      <td>Entre 20 y 30 km</td>\n",
       "    </tr>\n",
       "  </tbody>\n",
       "</table>\n",
       "</div>"
      ],
      "text/plain": [
       "    propertyType       status  price   size             rooms bathrooms  \\\n",
       "4         studio  desconocido 684.00  45.00  sin habitaciones    1 aseo   \n",
       "51          flat  desconocido 700.00  50.00      1 habitacion   2 aseos   \n",
       "52        duplex  desconocido 750.00  35.00      1 habitacion    1 aseo   \n",
       "106         flat  desconocido 600.00  55.00      1 habitacion    1 aseo   \n",
       "121         flat  desconocido 630.00  54.00      1 habitacion   2 aseos   \n",
       "137       studio  desconocido 700.00  23.00  sin habitaciones    1 aseo   \n",
       "147       duplex  desconocido 600.00  80.00      1 habitacion    1 aseo   \n",
       "148       duplex  desconocido 600.00  80.00      1 habitacion    1 aseo   \n",
       "176         flat  desconocido 675.00  35.00      1 habitacion    1 aseo   \n",
       "183         flat  desconocido 750.00  67.00    3 habitaciones    1 aseo   \n",
       "184         flat  desconocido 600.00  45.00    2 habitaciones    1 aseo   \n",
       "191         flat  desconocido 660.00 155.00    3 habitaciones   2 aseos   \n",
       "279         flat  desconocido 725.00  50.00      1 habitacion    1 aseo   \n",
       "284         flat  desconocido 600.00  75.00    3 habitaciones    1 aseo   \n",
       "\n",
       "           floor     district province      municipality        exterior  \\\n",
       "4    desconocido  desconocido   Madrid  Clase Media-Alta  vista exterior   \n",
       "51   desconocido  desconocido   Madrid       Clase Media  vista exterior   \n",
       "52   desconocido  desconocido   Madrid  Clase Media-Alta  vista exterior   \n",
       "106  desconocido  desconocido   Madrid       Clase Media  vista exterior   \n",
       "121  desconocido  desconocido   Madrid       Clase Media  vista exterior   \n",
       "137  desconocido  desconocido   Madrid  Clase Media-Alta  vista exterior   \n",
       "147  desconocido  desconocido   Madrid  Clase Media-Alta  vista interior   \n",
       "148  desconocido  desconocido   Madrid  Clase Media-Alta  vista interior   \n",
       "176  desconocido  desconocido   Madrid  Clase Media-Alta  vista interior   \n",
       "183  desconocido  desconocido   Madrid       Clase Media  vista exterior   \n",
       "184  desconocido  desconocido   Madrid       Clase Media  vista exterior   \n",
       "191  desconocido  desconocido   Madrid       Clase Media  vista interior   \n",
       "279  desconocido  desconocido   Madrid  Clase Media-Alta  vista exterior   \n",
       "284  desconocido  desconocido   Madrid       Clase Media  vista exterior   \n",
       "\n",
       "         hasLift      hasPlan    has3DTour has360  distancia_centro  \n",
       "4    desconocido  desconocido  desconocido    NaN  Entre 10 y 20 km  \n",
       "51   desconocido  desconocido  desconocido    NaN  Entre 30 y 40 km  \n",
       "52   desconocido  desconocido  desconocido    NaN    Entre 1 y 5 km  \n",
       "106  desconocido  desconocido  desconocido    NaN  Entre 20 y 30 km  \n",
       "121  desconocido  desconocido  desconocido    NaN  Entre 30 y 40 km  \n",
       "137  desconocido  desconocido  desconocido    NaN    Entre 1 y 5 km  \n",
       "147  desconocido  desconocido  desconocido    NaN   Entre 5 y 10 km  \n",
       "148  desconocido  desconocido  desconocido    NaN   Entre 5 y 10 km  \n",
       "176  desconocido  desconocido  desconocido    NaN    Entre 1 y 5 km  \n",
       "183  desconocido  desconocido  desconocido    NaN  Entre 10 y 20 km  \n",
       "184  desconocido  desconocido  desconocido    NaN  Entre 40 y 50 km  \n",
       "191  desconocido  desconocido  desconocido    NaN  Entre 40 y 50 km  \n",
       "279  desconocido  desconocido  desconocido    NaN   Entre 5 y 10 km  \n",
       "284  desconocido  desconocido  desconocido    NaN  Entre 20 y 30 km  "
      ]
     },
     "execution_count": 141,
     "metadata": {},
     "output_type": "execute_result"
    }
   ],
   "source": [
    "c = df[\"has360\"].isnull() == True\n",
    "df[c]\n"
   ]
  },
  {
   "cell_type": "markdown",
   "metadata": {},
   "source": [
    "#### Habrá que ver si estos datos merece la pena tenerlos, hay muchas cosas desconocidas"
   ]
  },
  {
   "cell_type": "code",
   "execution_count": 142,
   "metadata": {},
   "outputs": [
    {
     "data": {
      "text/plain": [
       "array(['no tiene fotos 360', 'tiene fotos 360', 'desconocido'],\n",
       "      dtype=object)"
      ]
     },
     "execution_count": 142,
     "metadata": {},
     "output_type": "execute_result"
    }
   ],
   "source": [
    "df.loc[df[\"has360\"] == True, \"has360\"] = \"tiene fotos 360\"\n",
    "df.loc[df[\"has360\"] == False, \"has360\"] = \"no tiene fotos 360\"\n",
    "df[\"has360\"] = df[\"has360\"].fillna(\"desconocido\")\n",
    "df[\"has360\"].unique()"
   ]
  },
  {
   "cell_type": "code",
   "execution_count": 143,
   "metadata": {},
   "outputs": [
    {
     "data": {
      "text/plain": [
       "np.int64(0)"
      ]
     },
     "execution_count": 143,
     "metadata": {},
     "output_type": "execute_result"
    }
   ],
   "source": [
    "df[\"has360\"].isnull().sum()"
   ]
  },
  {
   "cell_type": "markdown",
   "metadata": {},
   "source": [
    "### distancia_centro"
   ]
  },
  {
   "cell_type": "code",
   "execution_count": 144,
   "metadata": {},
   "outputs": [
    {
     "data": {
      "text/plain": [
       "np.int64(0)"
      ]
     },
     "execution_count": 144,
     "metadata": {},
     "output_type": "execute_result"
    }
   ],
   "source": [
    "df[\"distancia_centro\"].isnull().sum()"
   ]
  },
  {
   "cell_type": "markdown",
   "metadata": {},
   "source": [
    "# Gestión nulos numéricas\n",
    "- Sin tocar la VR (Precio).\n",
    "- Rellenaremos con IterativeImputer y RandomForest\n",
    "    - Las relaciones son complejas"
   ]
  },
  {
   "cell_type": "code",
   "execution_count": 145,
   "metadata": {},
   "outputs": [
    {
     "data": {
      "text/plain": [
       "propertyType        0\n",
       "status              0\n",
       "price               0\n",
       "size                0\n",
       "rooms               0\n",
       "bathrooms           0\n",
       "floor               0\n",
       "district            0\n",
       "province            0\n",
       "municipality        0\n",
       "exterior            0\n",
       "hasLift             0\n",
       "hasPlan             0\n",
       "has3DTour           0\n",
       "has360              0\n",
       "distancia_centro    0\n",
       "dtype: int64"
      ]
     },
     "execution_count": 145,
     "metadata": {},
     "output_type": "execute_result"
    }
   ],
   "source": [
    "df.isnull().sum()"
   ]
  },
  {
   "cell_type": "markdown",
   "metadata": {},
   "source": [
    "# Modelo 7 eliminar province"
   ]
  },
  {
   "cell_type": "code",
   "execution_count": 146,
   "metadata": {},
   "outputs": [],
   "source": [
    "df.drop(columns=\"province\",inplace=True)"
   ]
  },
  {
   "cell_type": "markdown",
   "metadata": {},
   "source": [
    "# Modelo 8 Eliminar district y has3DTour"
   ]
  },
  {
   "cell_type": "code",
   "execution_count": 147,
   "metadata": {},
   "outputs": [],
   "source": [
    "df.drop(columns=[\"district\",\"has3DTour\"],inplace=True)"
   ]
  },
  {
   "cell_type": "markdown",
   "metadata": {},
   "source": [
    "# Modelo 9 Eliminar status"
   ]
  },
  {
   "cell_type": "code",
   "execution_count": 148,
   "metadata": {},
   "outputs": [
    {
     "data": {
      "text/plain": [
       "status\n",
       "good              324\n",
       "desconocido        14\n",
       "newdevelopment     13\n",
       "renew               2\n",
       "Name: count, dtype: int64"
      ]
     },
     "execution_count": 148,
     "metadata": {},
     "output_type": "execute_result"
    }
   ],
   "source": [
    "df[\"status\"].value_counts()"
   ]
  },
  {
   "cell_type": "code",
   "execution_count": 149,
   "metadata": {},
   "outputs": [],
   "source": [
    "df.drop(columns=\"status\",inplace=True)"
   ]
  },
  {
   "cell_type": "markdown",
   "metadata": {},
   "source": [
    "# Modelo 11 Eliminar distancia_centro\n"
   ]
  },
  {
   "cell_type": "code",
   "execution_count": 150,
   "metadata": {},
   "outputs": [
    {
     "data": {
      "text/plain": [
       "distancia_centro\n",
       "Entre 5 y 10 km     82\n",
       "Entre 20 y 30 km    74\n",
       "Entre 10 y 20 km    65\n",
       "Entre 1 y 5 km      62\n",
       "Entre 40 y 50 km    30\n",
       "Entre 30 y 40 km    24\n",
       "Menos de 1 km       12\n",
       "Mas de 50 km         4\n",
       "Name: count, dtype: int64"
      ]
     },
     "execution_count": 150,
     "metadata": {},
     "output_type": "execute_result"
    }
   ],
   "source": [
    "df[\"distancia_centro\"].value_counts()"
   ]
  },
  {
   "cell_type": "code",
   "execution_count": 151,
   "metadata": {},
   "outputs": [],
   "source": [
    "#df.drop(columns=\"distancia_centro\",inplace=True)"
   ]
  },
  {
   "cell_type": "markdown",
   "metadata": {},
   "source": [
    "# Modelo 13 Eliminar has360 y hasPlan\n",
    "- Considero que el usuario no tiene porque querer saber esto\n"
   ]
  },
  {
   "cell_type": "code",
   "execution_count": 152,
   "metadata": {},
   "outputs": [
    {
     "data": {
      "text/plain": [
       "has360\n",
       "no tiene fotos 360    253\n",
       "tiene fotos 360        86\n",
       "desconocido            14\n",
       "Name: count, dtype: int64"
      ]
     },
     "execution_count": 152,
     "metadata": {},
     "output_type": "execute_result"
    }
   ],
   "source": [
    "df[\"has360\"].value_counts()"
   ]
  },
  {
   "cell_type": "code",
   "execution_count": 153,
   "metadata": {},
   "outputs": [
    {
     "data": {
      "text/plain": [
       "hasPlan\n",
       "no tiene planos    221\n",
       "tiene planos       118\n",
       "desconocido         14\n",
       "Name: count, dtype: int64"
      ]
     },
     "execution_count": 153,
     "metadata": {},
     "output_type": "execute_result"
    }
   ],
   "source": [
    "df[\"hasPlan\"].value_counts()"
   ]
  },
  {
   "cell_type": "code",
   "execution_count": 154,
   "metadata": {},
   "outputs": [],
   "source": [
    "df.drop(columns=[\"has360\",\"hasPlan\"],inplace=True)"
   ]
  },
  {
   "cell_type": "code",
   "execution_count": 155,
   "metadata": {},
   "outputs": [
    {
     "data": {
      "text/plain": [
       "propertyType\n",
       "flat            277\n",
       "studio           48\n",
       "duplex           14\n",
       "penthouse        10\n",
       "chalet            3\n",
       "countryHouse      1\n",
       "Name: count, dtype: int64"
      ]
     },
     "execution_count": 155,
     "metadata": {},
     "output_type": "execute_result"
    }
   ],
   "source": [
    "df[\"propertyType\"].value_counts()"
   ]
  },
  {
   "cell_type": "code",
   "execution_count": 156,
   "metadata": {},
   "outputs": [],
   "source": [
    "c1 = df[\"propertyType\"] != \"flat\"\n",
    "c2 = df[\"propertyType\"] != \"studio\""
   ]
  },
  {
   "cell_type": "markdown",
   "metadata": {},
   "source": [
    "# Modelo 15 quitar \"exterior\""
   ]
  },
  {
   "cell_type": "code",
   "execution_count": 157,
   "metadata": {},
   "outputs": [],
   "source": [
    "df.drop(columns=\"exterior\",inplace=True)"
   ]
  },
  {
   "cell_type": "markdown",
   "metadata": {},
   "source": [
    "# Modelo 16 \n",
    "- Usando property, se rellenan desconocidos de:\n",
    "    - hasLift\n",
    "    - floor\n",
    "\n"
   ]
  },
  {
   "cell_type": "code",
   "execution_count": 158,
   "metadata": {},
   "outputs": [
    {
     "data": {
      "text/plain": [
       "propertyType\n",
       "flat            277\n",
       "studio           48\n",
       "duplex           14\n",
       "penthouse        10\n",
       "chalet            3\n",
       "countryHouse      1\n",
       "Name: count, dtype: int64"
      ]
     },
     "execution_count": 158,
     "metadata": {},
     "output_type": "execute_result"
    }
   ],
   "source": [
    "df[\"propertyType\"].value_counts()"
   ]
  },
  {
   "cell_type": "markdown",
   "metadata": {},
   "source": [
    "### que hago\n",
    "- Todo lo que sea:\n",
    "    - duplex\n",
    "    - chalet\n",
    "    - countryhouse\n",
    "- No tienen ascensor y no tienen \"floor\" que se pondrá como \"bajos\"\n",
    "\n",
    "- Los penthouse son áticos de lujo por lo que:\n",
    "    - floor = altos\n",
    "    - hasLift = si, porque es de lujo"
   ]
  },
  {
   "cell_type": "code",
   "execution_count": 159,
   "metadata": {},
   "outputs": [],
   "source": [
    "tipos = [\"duplex\",\"chalet\",\"countryHouse\"]\n",
    "df.loc[df[\"propertyType\"].isin(tipos),\"hasLift\"] = \"no tiene ascensor\"\n",
    "df.loc[df[\"propertyType\"].isin(tipos),\"floor\"] = \"bajos\"\n",
    "df.loc[df[\"propertyType\"] == \"penthouse\",\"hasLift\"] = \"tiene ascensor\"\n",
    "df.loc[df[\"propertyType\"] == \"penthouse\",\"floor\"] = \"altos\""
   ]
  },
  {
   "cell_type": "code",
   "execution_count": 160,
   "metadata": {},
   "outputs": [
    {
     "data": {
      "text/plain": [
       "floor\n",
       "altos          155\n",
       "bajos          144\n",
       "desconocido     54\n",
       "Name: count, dtype: int64"
      ]
     },
     "execution_count": 160,
     "metadata": {},
     "output_type": "execute_result"
    }
   ],
   "source": [
    "df[\"floor\"].value_counts()"
   ]
  },
  {
   "cell_type": "code",
   "execution_count": 161,
   "metadata": {},
   "outputs": [
    {
     "data": {
      "text/plain": [
       "hasLift\n",
       "tiene ascensor       178\n",
       "no tiene ascensor    164\n",
       "desconocido           11\n",
       "Name: count, dtype: int64"
      ]
     },
     "execution_count": 161,
     "metadata": {},
     "output_type": "execute_result"
    }
   ],
   "source": [
    "df[\"hasLift\"].value_counts()"
   ]
  },
  {
   "cell_type": "markdown",
   "metadata": {},
   "source": [
    "### Eliminar propertyType y distancia_centro (Modelo 16)"
   ]
  },
  {
   "cell_type": "code",
   "execution_count": 162,
   "metadata": {},
   "outputs": [],
   "source": [
    "df.drop(columns=[\"propertyType\",\"distancia_centro\"],inplace=True)"
   ]
  },
  {
   "cell_type": "markdown",
   "metadata": {},
   "source": [
    "# Guardamos"
   ]
  },
  {
   "cell_type": "code",
   "execution_count": 163,
   "metadata": {},
   "outputs": [],
   "source": [
    "df.to_csv(\"../../datos/03_api_rent_sin_nulos.csv\",index=False)"
   ]
  }
 ],
 "metadata": {
  "kernelspec": {
   "display_name": "Python 3",
   "language": "python",
   "name": "python3"
  },
  "language_info": {
   "codemirror_mode": {
    "name": "ipython",
    "version": 3
   },
   "file_extension": ".py",
   "mimetype": "text/x-python",
   "name": "python",
   "nbconvert_exporter": "python",
   "pygments_lexer": "ipython3",
   "version": "3.11.9"
  }
 },
 "nbformat": 4,
 "nbformat_minor": 2
}
